{
 "cells": [
  {
   "cell_type": "markdown",
   "id": "7da5a0f2",
   "metadata": {},
   "source": [
    "# Functions associated in session 1\n",
    "## # ->Code, ##->Documentation"
   ]
  },
  {
   "cell_type": "markdown",
   "id": "298a1282",
   "metadata": {},
   "source": [
    "<div class=\"alert alert-success\"><b> Instructions </b><i> Default </i> </div>"
   ]
  },
  {
   "cell_type": "code",
   "execution_count": 4,
   "id": "c65426b7",
   "metadata": {},
   "outputs": [],
   "source": [
    "#import requests\n",
    "#URL = \"\"\n",
    "##The URL of the API\n",
    "#params = {}\n",
    "##params is a the parameter for the request\n",
    "#response = requests.get(URL, params = params) \n",
    "## Method is get,and the the current request doesn't have header\n",
    "#print(reponse)\n",
    "##1.Prints the response we get from the API, which is essentially a status code here.\n",
    "##2.Therefore the requests.get by default gives status code\n",
    "#response = repsonse.json()\n",
    "##1.We do response.json() to actually get the data and not just the status code from the response...\n",
    "##2.(contd) ...variable. The API with .json() is able to send back the data sent by the server...\n",
    "##3. (contd)... to the client based on the request sent to the API from the client.\n",
    "#print(resonse)\n",
    "##1. Now that response variable has been converted to json format - printing response will give...\n",
    "##2. ... us the data\n"
   ]
  },
  {
   "cell_type": "markdown",
   "id": "c436d80b",
   "metadata": {},
   "source": [
    "<div class=\"alert alert-info\">\n",
    "    Code <b> NASA API, APOD </b> <i>Default</i>\n",
    "</div>"
   ]
  },
  {
   "cell_type": "code",
   "execution_count": 5,
   "id": "1c34b7d0",
   "metadata": {},
   "outputs": [
    {
     "name": "stdout",
     "output_type": "stream",
     "text": [
      "<Response [200]>\n",
      "{'copyright': 'Blake EstesChristian Sasse', 'date': '2022-12-05', 'explanation': \"Have you ever seen the Pleiades star cluster? Even if you have, you probably have never seen it as large and clear as this. Perhaps the most famous star cluster on the sky, the bright stars of the Pleiades can be seen with the unaided eye even from the depths of a light-polluted city.  With a long exposure from a dark location, though, the dust cloud surrounding the Pleiades star cluster becomes very evident. The featured 11-hour exposure, taken from the Siding Spring Observatory in Australia, covers a sky area several times the size of the full moon.  Also known as the Seven Sisters and M45, the Pleiades lies about 400 light years away toward the constellation of the Bull (Taurus).  A common legend with a modern twist is that one of the brighter stars faded since the cluster was named, leaving only six of the sister stars visible to the unaided eye. The actual number of Pleiades stars visible, however, may be more or less than seven, depending on the darkness of the surrounding sky and the clarity of the observer's eyesight.   Your Sky Surprise: What picture did APOD feature on your birthday? (post 1995)\", 'hdurl': 'https://apod.nasa.gov/apod/image/2212/Pleiades_Estes_3000.jpg', 'media_type': 'image', 'service_version': 'v1', 'title': 'Pleiades: The Seven Sisters Star Cluster', 'url': 'https://apod.nasa.gov/apod/image/2212/Pleiades_Estes_1080.jpg'}\n"
     ]
    }
   ],
   "source": [
    "apiKey = '2ehhigapseKVeHUGZKLxrZL0Sd5btwKGiglj1vJT'\n",
    "params = {'api_key':apiKey}\n",
    "URL = 'https://api.nasa.gov/planetary/apod'\n",
    "import requests\n",
    "response =requests.get(URL,params = params)\n",
    "#Looks like you can't directly add .json to the above line and have to the do below step\n",
    "print(response)\n",
    "response = response.json()\n",
    "print(response)"
   ]
  },
  {
   "cell_type": "markdown",
   "id": "358a5a44",
   "metadata": {},
   "source": [
    "<div class=\"alert alert-success\"><b> Instructions </b><i> Specific Date </i> </div>"
   ]
  },
  {
   "cell_type": "code",
   "execution_count": 6,
   "id": "aae18e46",
   "metadata": {},
   "outputs": [],
   "source": [
    "##Note - Instead of creating multiple responses, let's try to create and update the same response?\n",
    "##Further, now we try to get the url within response using...\n",
    "##... response.url Be careful to not..\n",
    "##... To not convert the response into json\n",
    "##... Alternate way is to convert the response to json format and access the 'url' element...\n",
    "##... using <dict name>['<key of the elemeent>']... though this will give you actual link to image...\n",
    "##... while response.url will give the url to the response where we can see the response in json\n",
    "## To get the image link -> we need to pass the url of the response.url (the url of the response...\n",
    "##...in json) through another get request\n",
    "## response.content ->access the response body as bytes, for non-text requests\n",
    "### Quality Check - To confirm"
   ]
  },
  {
   "cell_type": "markdown",
   "id": "3dbcb2d1",
   "metadata": {},
   "source": [
    "<div class=\"alert alert-info\">\n",
    "    Code <b> NASA API, APOD </b> <i>Specific Date</i>\n",
    "</div>"
   ]
  },
  {
   "cell_type": "code",
   "execution_count": 7,
   "id": "a3ab76f9",
   "metadata": {},
   "outputs": [],
   "source": [
    "params = {'api_key':apiKey,'date':'1995-06-27'}\n",
    "response = requests.get(URL,params=params)"
   ]
  },
  {
   "cell_type": "code",
   "execution_count": 8,
   "id": "4434fee5",
   "metadata": {},
   "outputs": [],
   "source": [
    "#image_url = response['url']\n",
    "image_url = response.url\n",
    "image_response = requests.get(image_url)\n",
    "image = image_response.content\n",
    "with open('today_updated1.gif', 'wb') as handler:\n",
    "    handler.write(image)"
   ]
  },
  {
   "cell_type": "markdown",
   "id": "ca92412f",
   "metadata": {},
   "source": [
    "<div class=\"alert alert-success\"><b> Instructions </b><i> Date Range </i> </div>"
   ]
  },
  {
   "cell_type": "code",
   "execution_count": 9,
   "id": "4dcc8efe",
   "metadata": {},
   "outputs": [],
   "source": [
    "#for r in response:\n",
    "#    current_image = requests.get(r['url']).content\n",
    "#    with open(f\"image_{r['date']}.jpg\",\"wb\") as handler:\n",
    "#        handler.write(current_image)\n",
    "##We can save the .content in one variable but it doesn't serve the final purpose to save the image\n",
    "##Hence within a for loop r in response - a list of dictionary - you access the first one, then...\n",
    "##...you extract the url and save it in a variable in .content format and use open function to save...\n",
    "##... to save it locally"
   ]
  },
  {
   "cell_type": "markdown",
   "id": "151b516f",
   "metadata": {},
   "source": [
    "<div class=\"alert alert-info\">\n",
    "    Code <b> NASA API, APOD </b> <i> Date Range </i>\n",
    "</div>"
   ]
  },
  {
   "cell_type": "code",
   "execution_count": 10,
   "id": "570cd4be",
   "metadata": {},
   "outputs": [],
   "source": [
    "params = {'api_key':apiKey,'start_date':'2020-01-01','end_date':'2020-01-07'}\n",
    "response = requests.get(URL,params = params).json()\n",
    "for r in response:\n",
    "    current_image = requests.get(r['url']).content\n",
    "    with open(f\"image_{r['date']}.jpg\",\"wb\") as handler:\n",
    "        handler.write(current_image)"
   ]
  },
  {
   "cell_type": "markdown",
   "id": "0e71d6ae",
   "metadata": {},
   "source": [
    "<div class=\"alert alert-info\">\n",
    "    Code <b> Close approach data Earth </b> <i> for all asteroids in year 2022 </i>\n",
    "</div>"
   ]
  },
  {
   "cell_type": "code",
   "execution_count": 11,
   "id": "be6e58b7",
   "metadata": {},
   "outputs": [],
   "source": [
    "urlCAD = \"https://ssd-api.jpl.nasa.gov/cad.api\"\n",
    "paramsCAD = {\"date-min\":\"2022-01-01\",\"date-max\":\"now\",\"kind\":\"a\"}\n",
    "responseCAD = requests.get(urlCAD, params = paramsCAD)\n",
    "responseCAD = responseCAD.json()"
   ]
  },
  {
   "cell_type": "markdown",
   "id": "8190714a",
   "metadata": {},
   "source": [
    "<div class=\"alert alert-info\">\n",
    "    Code <b> Close approach data Earth </b> <i> for all asteroids and comets in year 2022 </i>\n",
    "</div>"
   ]
  },
  {
   "cell_type": "code",
   "execution_count": 12,
   "id": "f6d8dc9a",
   "metadata": {},
   "outputs": [],
   "source": [
    "paramsCAD = {\"date-min\":\"2022-01-01\",\"date-max\":\"now\",\"kind\":\"a\" or \"c\"}\n",
    "responseCAD = requests.get(urlCAD, params = paramsCAD).json()"
   ]
  },
  {
   "cell_type": "markdown",
   "id": "57945712",
   "metadata": {},
   "source": [
    "<div class=\"alert alert-info\">\n",
    "    Code <b> Closest Object - Minimum distance to the planet </b> \n",
    "    <i> <br > Store the...</br>\n",
    "    <br> distance </br>\n",
    "    <br> date of closest approach </br>\n",
    "    <br> name </br> </i>    \n",
    "</div>"
   ]
  },
  {
   "cell_type": "code",
   "execution_count": 13,
   "id": "e8a47d57",
   "metadata": {},
   "outputs": [
    {
     "name": "stdout",
     "output_type": "stream",
     "text": [
      " Name: 2020 AP1 \n",
      " Distance: 6.93133699852796e-06 AU \n",
      " Date: 2022-Jan-07 17:32\n"
     ]
    }
   ],
   "source": [
    "#Make sure to practice again - as I depended on the solution code\n",
    "distance = 1000000\n",
    "\n",
    "for obj in responseCAD['data']:\n",
    "    if float(obj[responseCAD['fields'].index('dist_min')]) < distance:\n",
    "        name = obj[responseCAD['fields'].index('des')]\n",
    "        distance = float(obj[responseCAD['fields'].index('dist_min')]) #Imporant to tranform into float otherwise returns string in the loop which messes up the condition\n",
    "        date = obj[responseCAD['fields'].index('cd')]\n",
    "print(\"\",\"Name:\",name,\"\\n\",\"Distance:\",distance,\"AU\",\"\\n\",\"Date:\",date)"
   ]
  },
  {
   "cell_type": "code",
   "execution_count": 14,
   "id": "8a0b17c3",
   "metadata": {},
   "outputs": [
    {
     "name": "stdout",
     "output_type": "stream",
     "text": [
      "103.69132560215297 KM\n"
     ]
    }
   ],
   "source": [
    "distance_km = distance*14959787.0691\n",
    "print(distance_km,\"KM\")"
   ]
  },
  {
   "cell_type": "code",
   "execution_count": 15,
   "id": "61b47d55",
   "metadata": {},
   "outputs": [
    {
     "name": "stdout",
     "output_type": "stream",
     "text": [
      "1\n",
      "7\n",
      "17:32:00\n"
     ]
    }
   ],
   "source": [
    "#Make sure to practice again - as I depended on the solution code\n",
    "import datetime\n",
    "datetime_obj = datetime.datetime.strptime(date,\"%Y-%b-%d %H:%M\")\n",
    "#print(type(datetime_obj))\n",
    "date_month = datetime_obj.month\n",
    "date_day = datetime_obj.day\n",
    "date_time = datetime_obj.strftime(\"%H:%M:%S\")\n",
    "print(date_month)\n",
    "print(date_day)\n",
    "#print(type(date_time))\n",
    "print(date_time)"
   ]
  },
  {
   "cell_type": "markdown",
   "id": "505857be",
   "metadata": {},
   "source": [
    "<div class=\"alert alert-danger\">\n",
    "    <b><i>Check with Harsha</i>, Bonus </b> Write the code to retrieve the dates and times in which <a src='https://solarsystem.nasa.gov/asteroids-comets-and-meteors/comets/1p-halley/in-depth/'>Halley</a> comet approached earth in the past.\n",
    "</div>"
   ]
  },
  {
   "cell_type": "code",
   "execution_count": 18,
   "id": "5e881bb7",
   "metadata": {},
   "outputs": [
    {
     "name": "stdout",
     "output_type": "stream",
     "text": [
      "1910-May-20 12:50\n",
      "1986-Apr-10 21:45\n"
     ]
    }
   ],
   "source": [
    "#Make sure to practice again - as I depended on the solution code\n",
    "paramsHalley = {'date-min': '1900-01-01', #Need to clarify\n",
    "                'dist-max': '2', #Need to clarify\n",
    "                'des': '1P', #Need to clarify\n",
    "                'fullname': True} #Need to clarify\n",
    "\n",
    "responseHalley = requests.get(urlCAD, params=paramsHalley).json()\n",
    "\n",
    "for approach in responseHalley['data']:\n",
    "    print(approach[responseHalley['fields'].index('cd')])"
   ]
  },
  {
   "cell_type": "code",
   "execution_count": null,
   "id": "ae5eb9b1",
   "metadata": {},
   "outputs": [],
   "source": []
  }
 ],
 "metadata": {
  "kernelspec": {
   "display_name": "Python 3 (ipykernel)",
   "language": "python",
   "name": "python3"
  },
  "language_info": {
   "codemirror_mode": {
    "name": "ipython",
    "version": 3
   },
   "file_extension": ".py",
   "mimetype": "text/x-python",
   "name": "python",
   "nbconvert_exporter": "python",
   "pygments_lexer": "ipython3",
   "version": "3.9.12"
  }
 },
 "nbformat": 4,
 "nbformat_minor": 5
}
