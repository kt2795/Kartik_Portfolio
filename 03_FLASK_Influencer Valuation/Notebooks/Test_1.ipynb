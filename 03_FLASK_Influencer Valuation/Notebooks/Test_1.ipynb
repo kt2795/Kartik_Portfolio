{
 "cells": [
  {
   "cell_type": "code",
   "execution_count": 2,
   "id": "d177d387",
   "metadata": {},
   "outputs": [
    {
     "name": "stdout",
     "output_type": "stream",
     "text": [
      "The influencer's overall valuation score is: 3.0295\n"
     ]
    }
   ],
   "source": [
    "# Define weights for valuation factors\n",
    "weights = {\n",
    "    'reach': 0.4,\n",
    "    'engagement': 0.3,\n",
    "    'demographics': 0.2,\n",
    "    'growth_potential': 0.1,\n",
    "}\n",
    "\n",
    "# Define values for the influencer\n",
    "reach = 20000\n",
    "engagement = 0.10\n",
    "demographics = 0.75  # Assuming 75% relevancy to fitness industry\n",
    "growth_potential = 0.2\n",
    "\n",
    "# Normalize values\n",
    "normalized_reach = reach / 1000000  # Assuming reach is given in millions\n",
    "normalized_engagement = engagement * 100  # Convert engagement rate to percentage\n",
    "normalized_demographics = demographics / 100  # Normalize demographics value to range 0-1\n",
    "\n",
    "# Calculate scores for each factor\n",
    "reach_score = normalized_reach * weights['reach']\n",
    "engagement_score = normalized_engagement * weights['engagement']\n",
    "demographics_score = normalized_demographics * weights['demographics']\n",
    "growth_potential_score = growth_potential * weights['growth_potential']\n",
    "\n",
    "# Calculate overall score\n",
    "overall_score = reach_score + engagement_score + demographics_score + growth_potential_score\n",
    "\n",
    "# Display the valuation results\n",
    "print(f\"The influencer's overall valuation score is: {overall_score}\")"
   ]
  },
  {
   "cell_type": "code",
   "execution_count": 3,
   "id": "3de31cd1",
   "metadata": {},
   "outputs": [
    {
     "name": "stdout",
     "output_type": "stream",
     "text": [
      "Requirement already satisfied: nbconvert in c:\\users\\karti\\appdata\\local\\programs\\python\\python311\\lib\\site-packages (7.6.0)Note: you may need to restart the kernel to use updated packages.\n"
     ]
    },
    {
     "name": "stderr",
     "output_type": "stream",
     "text": [
      "DEPRECATION: Loading egg at c:\\users\\karti\\appdata\\local\\programs\\python\\python311\\lib\\site-packages\\morfessor-2.0.6-py3.11.egg is deprecated. pip 23.3 will enforce this behaviour change. A possible replacement is to use pip for package installation..\n",
      "DEPRECATION: Loading egg at c:\\users\\karti\\appdata\\local\\programs\\python\\python311\\lib\\site-packages\\numpy-1.24.2-py3.11-win-amd64.egg is deprecated. pip 23.3 will enforce this behaviour change. A possible replacement is to use pip for package installation..\n",
      "DEPRECATION: Loading egg at c:\\users\\karti\\appdata\\local\\programs\\python\\python311\\lib\\site-packages\\polyglot-16.7.4-py3.11.egg is deprecated. pip 23.3 will enforce this behaviour change. A possible replacement is to use pip for package installation..\n",
      "DEPRECATION: Loading egg at c:\\users\\karti\\appdata\\local\\programs\\python\\python311\\lib\\site-packages\\pyshp-2.3.1-py3.11.egg is deprecated. pip 23.3 will enforce this behaviour change. A possible replacement is to use pip for package installation..\n",
      "DEPRECATION: Loading egg at c:\\users\\karti\\appdata\\local\\programs\\python\\python311\\lib\\site-packages\\wheel-0.40.0-py3.11.egg is deprecated. pip 23.3 will enforce this behaviour change. A possible replacement is to use pip for package installation..\n"
     ]
    },
    {
     "name": "stdout",
     "output_type": "stream",
     "text": [
      "\n",
      "Requirement already satisfied: beautifulsoup4 in c:\\users\\karti\\appdata\\local\\programs\\python\\python311\\lib\\site-packages (from nbconvert) (4.12.2)\n",
      "Requirement already satisfied: bleach!=5.0.0 in c:\\users\\karti\\appdata\\local\\programs\\python\\python311\\lib\\site-packages (from nbconvert) (6.0.0)\n",
      "Requirement already satisfied: defusedxml in c:\\users\\karti\\appdata\\local\\programs\\python\\python311\\lib\\site-packages (from nbconvert) (0.7.1)\n",
      "Requirement already satisfied: jinja2>=3.0 in c:\\users\\karti\\appdata\\local\\programs\\python\\python311\\lib\\site-packages (from nbconvert) (3.1.2)\n",
      "Requirement already satisfied: jupyter-core>=4.7 in c:\\users\\karti\\appdata\\roaming\\python\\python311\\site-packages (from nbconvert) (5.3.0)\n",
      "Requirement already satisfied: jupyterlab-pygments in c:\\users\\karti\\appdata\\local\\programs\\python\\python311\\lib\\site-packages (from nbconvert) (0.2.2)\n",
      "Requirement already satisfied: markupsafe>=2.0 in c:\\users\\karti\\appdata\\local\\programs\\python\\python311\\lib\\site-packages (from nbconvert) (2.1.2)\n",
      "Requirement already satisfied: mistune<4,>=2.0.3 in c:\\users\\karti\\appdata\\local\\programs\\python\\python311\\lib\\site-packages (from nbconvert) (3.0.1)\n",
      "Requirement already satisfied: nbclient>=0.5.0 in c:\\users\\karti\\appdata\\local\\programs\\python\\python311\\lib\\site-packages (from nbconvert) (0.8.0)\n",
      "Requirement already satisfied: nbformat>=5.7 in c:\\users\\karti\\appdata\\local\\programs\\python\\python311\\lib\\site-packages (from nbconvert) (5.9.0)\n",
      "Requirement already satisfied: packaging in c:\\users\\karti\\appdata\\roaming\\python\\python311\\site-packages (from nbconvert) (23.1)\n",
      "Requirement already satisfied: pandocfilters>=1.4.1 in c:\\users\\karti\\appdata\\local\\programs\\python\\python311\\lib\\site-packages (from nbconvert) (1.5.0)\n",
      "Requirement already satisfied: pygments>=2.4.1 in c:\\users\\karti\\appdata\\roaming\\python\\python311\\site-packages (from nbconvert) (2.15.1)\n",
      "Requirement already satisfied: tinycss2 in c:\\users\\karti\\appdata\\local\\programs\\python\\python311\\lib\\site-packages (from nbconvert) (1.2.1)\n",
      "Requirement already satisfied: traitlets>=5.1 in c:\\users\\karti\\appdata\\roaming\\python\\python311\\site-packages (from nbconvert) (5.9.0)\n",
      "Requirement already satisfied: six>=1.9.0 in c:\\users\\karti\\appdata\\local\\programs\\python\\python311\\lib\\site-packages (from bleach!=5.0.0->nbconvert) (1.16.0)\n",
      "Requirement already satisfied: webencodings in c:\\users\\karti\\appdata\\local\\programs\\python\\python311\\lib\\site-packages (from bleach!=5.0.0->nbconvert) (0.5.1)\n",
      "Requirement already satisfied: platformdirs>=2.5 in c:\\users\\karti\\appdata\\roaming\\python\\python311\\site-packages (from jupyter-core>=4.7->nbconvert) (3.2.0)\n",
      "Requirement already satisfied: pywin32>=300 in c:\\users\\karti\\appdata\\roaming\\python\\python311\\site-packages (from jupyter-core>=4.7->nbconvert) (306)\n",
      "Requirement already satisfied: jupyter-client>=6.1.12 in c:\\users\\karti\\appdata\\roaming\\python\\python311\\site-packages (from nbclient>=0.5.0->nbconvert) (8.2.0)\n",
      "Requirement already satisfied: fastjsonschema in c:\\users\\karti\\appdata\\local\\programs\\python\\python311\\lib\\site-packages (from nbformat>=5.7->nbconvert) (2.17.1)\n",
      "Requirement already satisfied: jsonschema>=2.6 in c:\\users\\karti\\appdata\\local\\programs\\python\\python311\\lib\\site-packages (from nbformat>=5.7->nbconvert) (4.17.3)\n",
      "Requirement already satisfied: soupsieve>1.2 in c:\\users\\karti\\appdata\\local\\programs\\python\\python311\\lib\\site-packages (from beautifulsoup4->nbconvert) (2.4.1)\n",
      "Requirement already satisfied: attrs>=17.4.0 in c:\\users\\karti\\appdata\\local\\programs\\python\\python311\\lib\\site-packages (from jsonschema>=2.6->nbformat>=5.7->nbconvert) (23.1.0)\n",
      "Requirement already satisfied: pyrsistent!=0.17.0,!=0.17.1,!=0.17.2,>=0.14.0 in c:\\users\\karti\\appdata\\local\\programs\\python\\python311\\lib\\site-packages (from jsonschema>=2.6->nbformat>=5.7->nbconvert) (0.19.3)\n",
      "Requirement already satisfied: python-dateutil>=2.8.2 in c:\\users\\karti\\appdata\\roaming\\python\\python311\\site-packages (from jupyter-client>=6.1.12->nbclient>=0.5.0->nbconvert) (2.8.2)\n",
      "Requirement already satisfied: pyzmq>=23.0 in c:\\users\\karti\\appdata\\roaming\\python\\python311\\site-packages (from jupyter-client>=6.1.12->nbclient>=0.5.0->nbconvert) (25.0.2)\n",
      "Requirement already satisfied: tornado>=6.2 in c:\\users\\karti\\appdata\\roaming\\python\\python311\\site-packages (from jupyter-client>=6.1.12->nbclient>=0.5.0->nbconvert) (6.3.1)\n"
     ]
    }
   ],
   "source": [
    "pip install nbconvert"
   ]
  },
  {
   "cell_type": "code",
   "execution_count": 4,
   "id": "6767007e",
   "metadata": {},
   "outputs": [
    {
     "ename": "SyntaxError",
     "evalue": "invalid syntax (2312489804.py, line 1)",
     "output_type": "error",
     "traceback": [
      "\u001b[1;36m  Cell \u001b[1;32mIn[4], line 1\u001b[1;36m\u001b[0m\n\u001b[1;33m    jupyter nbconvert --to pdf MyNotebook.ipynb\u001b[0m\n\u001b[1;37m            ^\u001b[0m\n\u001b[1;31mSyntaxError\u001b[0m\u001b[1;31m:\u001b[0m invalid syntax\n"
     ]
    }
   ],
   "source": [
    "jupyter nbconvert --to pdf MyNotebook.ipynb"
   ]
  }
 ],
 "metadata": {
  "finalized": {
   "timestamp": 1688839452884,
   "trusted": false
  },
  "kernelspec": {
   "display_name": "Python 3 (ipykernel)",
   "language": "python",
   "name": "python3"
  },
  "language_info": {
   "codemirror_mode": {
    "name": "ipython",
    "version": 3
   },
   "file_extension": ".py",
   "mimetype": "text/x-python",
   "name": "python",
   "nbconvert_exporter": "python",
   "pygments_lexer": "ipython3",
   "version": "3.11.1"
  }
 },
 "nbformat": 4,
 "nbformat_minor": 5
}
