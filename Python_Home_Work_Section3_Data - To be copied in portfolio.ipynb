{
 "cells": [
  {
   "cell_type": "code",
   "execution_count": 40,
   "metadata": {},
   "outputs": [],
   "source": [
    "#Data \n",
    "revenue = [14574.49, 7606.46, 8611.41, 9175.41, 8058.65, 8105.44, 11496.28, 9766.09, 10305.32, 14379.96, 10713.97, 15433.50]\n",
    "expenses = [12051.82, 5695.07, 12319.20, 12089.72, 8658.57, 840.20, 3285.73, 5821.12, 6976.93, 16618.61, 10054.37, 3803.96]"
   ]
  },
  {
   "cell_type": "code",
   "execution_count": 41,
   "metadata": {},
   "outputs": [
    {
     "name": "stdout",
     "output_type": "stream",
     "text": [
      "[2522.67, 1911.39, -3707.79, -2914.31, -599.92, 7265.24, 8210.55, 3944.97, 3328.39, -2238.65, 659.6, 11629.54]\n"
     ]
    }
   ],
   "source": [
    "#profit for each month\n",
    "profit = list([])\n",
    "for i in range(0,len(revenue)):\n",
    "    profit.append(round(revenue[i]-expenses[i],2))\n",
    "print(profit)"
   ]
  },
  {
   "cell_type": "code",
   "execution_count": 42,
   "metadata": {},
   "outputs": [
    {
     "name": "stdout",
     "output_type": "stream",
     "text": [
      "[756.8, 573.42, -1112.34, -874.29, -179.98, 2179.57, 2463.16, 1183.49, 998.52, -671.6, 197.88, 3488.86]\n"
     ]
    }
   ],
   "source": [
    "# Calculating tax (Profit x 30%)\n",
    "tax = [round(i*0.3,2) for i in profit]\n",
    "print(tax)"
   ]
  },
  {
   "cell_type": "code",
   "execution_count": 43,
   "metadata": {},
   "outputs": [
    {
     "name": "stdout",
     "output_type": "stream",
     "text": [
      "[1765.87, 1337.97, -2595.45, -2040.02, -419.94, 5085.67, 5747.39, 2761.48, 2329.87, -1567.05, 461.72, 8140.68]\n"
     ]
    }
   ],
   "source": [
    "#profit after tax\n",
    "PAT = list([])\n",
    "for i in range(0,len(profit)):\n",
    "    PAT.append(round(profit[i] - tax[i],2))\n",
    "print(PAT)"
   ]
  },
  {
   "cell_type": "code",
   "execution_count": 44,
   "metadata": {},
   "outputs": [
    {
     "name": "stdout",
     "output_type": "stream",
     "text": [
      "[12.12, 17.59, -30.14, -22.23, -5.21, 62.74, 49.99, 28.28, 22.61, -10.9, 4.31, 52.75]\n"
     ]
    }
   ],
   "source": [
    "#Profit margin for each month\n",
    "Pmargin = list([])\n",
    "for i in range(0,len(PAT)):\n",
    "    Pmargin.append(round(PAT[i]/revenue[i]*100,2))\n",
    "print(Pmargin)"
   ]
  },
  {
   "cell_type": "code",
   "execution_count": 45,
   "metadata": {},
   "outputs": [
    {
     "name": "stdout",
     "output_type": "stream",
     "text": [
      "1750.68\n"
     ]
    }
   ],
   "source": [
    "#Mean PAT\n",
    "import statistics\n",
    "meanPAT = round(statistics.mean(PAT),2)\n",
    "print(meanPAT)"
   ]
  },
  {
   "cell_type": "code",
   "execution_count": 46,
   "metadata": {},
   "outputs": [
    {
     "name": "stdout",
     "output_type": "stream",
     "text": [
      "Good months =  ['January', 'June', 'July', 'August', 'September', 'December']\n",
      "\n",
      "\n",
      "Bad months =  ['February', 'March', 'April', 'May', 'October', 'November']\n"
     ]
    }
   ],
   "source": [
    "#Good/Bad Months\n",
    "months = [\"January\",\"February\",\"March\",\"April\",\"May\",\"June\",\"July\",\"August\",\"September\",\"October\",\"November\",\"December\"]\n",
    "goodmonths = list([])\n",
    "badmonths = list([])\n",
    "for i in range(0,len(PAT)):\n",
    "    if(PAT[i]>meanPAT):\n",
    "        goodmonths.append(months[i])\n",
    "    else:\n",
    "        badmonths.append(months[i])\n",
    "print(\"Good months = \",goodmonths)\n",
    "print(\"\\n\")\n",
    "print(\"Bad months = \",badmonths)"
   ]
  },
  {
   "cell_type": "code",
   "execution_count": 47,
   "metadata": {},
   "outputs": [
    {
     "name": "stdout",
     "output_type": "stream",
     "text": [
      "Best month =  8140.68\n",
      "Worst month =  -2595.45\n"
     ]
    }
   ],
   "source": [
    "# Best and Worst months\n",
    "Best = max(PAT)\n",
    "Worst = min(PAT)\n",
    "print(\"Best month = \",Best)\n",
    "print(\"Worst month = \",Worst)"
   ]
  },
  {
   "cell_type": "code",
   "execution_count": 48,
   "metadata": {},
   "outputs": [],
   "source": [
    "# Convert all calculations to units of one thousand dollars\n",
    "revenue_1000 = [round(i/1000,2) for i in revenue]\n",
    "revenue_1000 = [int(i) for i in revenue_1000]\n",
    "expenses_1000 = [round(i/1000,2) for i in expenses]\n",
    "expenses_1000 = [int(i) for i in expenses_1000]\n",
    "profit_1000 = [round(i/1000,2) for i in profit]\n",
    "profit_1000 = [int(i) for i in profit_1000]\n",
    "PAT_1000 = [round(i/1000,2) for i in PAT]\n",
    "PAT_1000 = [int(i) for i in PAT_1000]"
   ]
  },
  {
   "cell_type": "code",
   "execution_count": 49,
   "metadata": {},
   "outputs": [
    {
     "name": "stdout",
     "output_type": "stream",
     "text": [
      "Revenue =  [14, 7, 8, 9, 8, 8, 11, 9, 10, 14, 10, 15]\n",
      "Expenses =  [12, 5, 12, 12, 8, 0, 3, 5, 6, 16, 10, 3]\n",
      "profit = [2, 1, -3, -2, 0, 7, 8, 3, 3, -2, 0, 11]\n",
      "Profit after tax =  [1, 1, -2, -2, 0, 5, 5, 2, 2, -1, 0, 8]\n",
      "Profit margin =  [12.12, 17.59, -30.14, -22.23, -5.21, 62.74, 49.99, 28.28, 22.61, -10.9, 4.31, 52.75]\n",
      "Mean profit after tax 1750.68\n",
      "Good months = ['January', 'June', 'July', 'August', 'September', 'December']\n",
      "Bad months = ['February', 'March', 'April', 'May', 'October', 'November']\n",
      "Best month = 8140.68\n",
      "worst month = -2595.45\n"
     ]
    }
   ],
   "source": [
    "print(\"Revenue = \", revenue_1000)\n",
    "print(\"Expenses = \", expenses_1000)\n",
    "print(\"profit =\", profit_1000)\n",
    "print(\"Profit after tax = \", PAT_1000)\n",
    "print(\"Profit margin = \", Pmargin)\n",
    "print(\"Mean profit after tax\", meanPAT)\n",
    "print(\"Good months =\", goodmonths)\n",
    "print(\"Bad months =\", badmonths)\n",
    "print(\"Best month =\",Best)\n",
    "print(\"worst month =\",Worst)"
   ]
  },
  {
   "cell_type": "code",
   "execution_count": 50,
   "metadata": {},
   "outputs": [
    {
     "name": "stdout",
     "output_type": "stream",
     "text": [
      "[2, 4, 6]\n"
     ]
    }
   ],
   "source": [
    "#IMP - List Comprehension //Sidenote - not a part of the assignment\n",
    "a = [1,2,3]\n",
    "doubled_a = [i*2 for i in a]\n",
    "print(doubled_a)"
   ]
  },
  {
   "cell_type": "code",
   "execution_count": null,
   "metadata": {},
   "outputs": [],
   "source": []
  }
 ],
 "metadata": {
  "kernelspec": {
   "display_name": "Python 3 (ipykernel)",
   "language": "python",
   "name": "python3"
  },
  "language_info": {
   "codemirror_mode": {
    "name": "ipython",
    "version": 3
   },
   "file_extension": ".py",
   "mimetype": "text/x-python",
   "name": "python",
   "nbconvert_exporter": "python",
   "pygments_lexer": "ipython3",
   "version": "3.9.12"
  }
 },
 "nbformat": 4,
 "nbformat_minor": 1
}
