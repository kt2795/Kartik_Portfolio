{
 "cells": [
  {
   "cell_type": "markdown",
   "id": "408e09df",
   "metadata": {
    "nbgrader": {
     "grade": false,
     "grade_id": "cell-2daee776b23e37cd",
     "locked": true,
     "schema_version": 3,
     "solution": false,
     "task": false
    }
   },
   "source": [
    "# Building your own API\n",
    "\n",
    "Exercise book created by [Dr. Irene Unceta](https://linkedin.com/in/ireneunceta/)\n",
    "\n",
    "Solution: [Kartik Thopalli](https://www.linkedin.com/in/kartik-thopalli/)\n",
    "\n",
    "<div class=\"alert alert-success\">In this notebook, we will learn how to set our own API up and running and implement the different methods.</div>\n",
    "\n",
    "Throughout this class we will learn how to create a REST Api to interact with the ```products.csv``` dataset. Make sure you download it before proceeding to work on this notebook. In addition to that file, this exercise will require that you also interact with the ```first_api.py``` script.\n",
    "\n",
    "### Readying your working environment\n",
    "\n",
    "In what follows, we will use Python's ```flask``` and ```flask_restful``` libraries. To use them, you will need to manually install them first. Do so by running the cells below."
   ]
  },
  {
   "cell_type": "code",
   "execution_count": 1,
   "id": "a01a09fd",
   "metadata": {},
   "outputs": [],
   "source": [
    "# pip install flask"
   ]
  },
  {
   "cell_type": "code",
   "execution_count": 2,
   "id": "cb6ebb3a",
   "metadata": {},
   "outputs": [],
   "source": [
    "# pip install flask_restful"
   ]
  },
  {
   "cell_type": "code",
   "execution_count": 3,
   "id": "b99be8a8",
   "metadata": {
    "nbgrader": {
     "grade": false,
     "grade_id": "cell-de295f74deba9cf1",
     "locked": true,
     "schema_version": 3,
     "solution": false,
     "task": false
    }
   },
   "outputs": [],
   "source": [
    "import flask\n",
    "import flask_restful"
   ]
  },
  {
   "cell_type": "markdown",
   "id": "a01d829f",
   "metadata": {
    "nbgrader": {
     "grade": false,
     "grade_id": "cell-8a3a58102072423d",
     "locked": true,
     "schema_version": 3,
     "solution": false,
     "task": false
    }
   },
   "source": [
    "You can take a look at the documentation for the ```flask``` library [here](https://flask.palletsprojects.com/en/2.2.x/), while the documentation for ```flask_restful```can be found [here](https://flask-restful.readthedocs.io/en/latest/). It might be a good idea to take a look at both to familiarize yourself with them.\n",
    "\n",
    "### A minimal API\n",
    "\n",
    "The code below shows an example of a minimal Flask-RESTful API. The same code has been included in the ```first_api.py``` file. This code launches a very simple built-in server, which is good enough for our purposes."
   ]
  },
  {
   "cell_type": "raw",
   "id": "5a70b3b3",
   "metadata": {
    "nbgrader": {
     "grade": false,
     "grade_id": "cell-4238b646179f0f3f",
     "locked": true,
     "schema_version": 3,
     "solution": false,
     "task": false
    }
   },
   "source": [
    "from flask import Flask\n",
    "from flask_restful import Resource, Api\n",
    "\n",
    "app = Flask(__name__)\n",
    "api = Api(app)\n",
    "\n",
    "class HelloWorld(Resource):\n",
    "    def get(self):\n",
    "        return {'status': 200, \n",
    "                'response': 'Hello world'}, 200\n",
    "\n",
    "api.add_resource(HelloWorld, '/')\n",
    "\n",
    "if __name__ == '__main__':\n",
    "    app.run(debug=True) # IF LAUNCH FROM TERMINAL (.py file)\n",
    "    app.run(use_reloader=False) # IF LAUNCH FROM NOTEBOOK (.ipynb file)"
   ]
  },
  {
   "cell_type": "markdown",
   "id": "a2b9fbc2",
   "metadata": {
    "nbgrader": {
     "grade": false,
     "grade_id": "cell-8948d02c83d52322",
     "locked": true,
     "schema_version": 3,
     "solution": false,
     "task": false
    }
   },
   "source": [
    "Let's break down the code to understand what the different parts are doing.\n",
    "\n",
    "```from flask import Flask```\n",
    "> Imports the ```Flask``` class from the ```flask``` library. \n",
    "\n",
    "```from flask_restful import Resource, Api```\n",
    "> Imports the ```Resource``` and ```Api``` classes from the ```flask_restful``` library. \n",
    "\n",
    "```app = Flask(__name__)```\n",
    "> Creates an instance of the ```Flask``` class. This instance implements a WSGI application and acts as the central object. The first argument is the name of the application’s module or package. ```__name__``` is a convenient shortcut for this that is appropriate for most cases. This is needed so that Flask knows where to look for resources such as templates and static files. Once it is created the ```app``` object will act as a central registry for the view functions, the URL rules, template configuration and much more. \n",
    "\n",
    "```api = Api(app)```\n",
    "> Creates the main entry point for your application. You initialize it with the Flask Application implemented in the previous step. You can read more on the ```Api``` class [here](https://flask-restful.readthedocs.io/en/latest/api.html).\n",
    "\n",
    "```class HelloWorld(Resource):\n",
    "    def get(self):\n",
    "        return {'status': 200, 'response': 'Hello world'}, 200```\n",
    "        \n",
    "> Creates the ```HelloWorld``` resource. Resources are the main building block provided by Flask-RESTful. Resources are built on top of Flask pluggable views, giving you easy access to multiple HTTP methods just by defining methods on your resource. The ```Resource``` class enables creation of basic CRUD (Create, Read, Update, Delete) methods. The code above implements the ```get``` method, which returns the value ```{'status': 200, 'response': 'Hello world'}``` and default status code ```200```."
   ]
  },
  {
   "cell_type": "markdown",
   "id": "12dac99d",
   "metadata": {
    "nbgrader": {
     "grade": false,
     "grade_id": "cell-be236cce61930a24",
     "locked": true,
     "schema_version": 3,
     "solution": false,
     "task": false
    }
   },
   "source": [
    "```api.add_resource(HelloWorld, '/')```\n",
    "> Calls the ```add_resource``` method to add the ```HelloWorld``` resource to your api. You can read the documentation for this method [here](https://flask-restful.readthedocs.io/en/latest/api.html). It accepts several parameters. Here, we are interest mainly in the first three: ```resource```, ```urls``` and ```endpoint```. ```resource``` refers to the class name of the resource; in our case, ```HelloWorld```. ```urls```defines one or more url routes to match for the resource. Modern web applications use meaningful URLs to help users. Users are more likely to like a page and come back if the page uses a meaningful URL they can remember and use to directly visit a page. In our case, the ```urls``` are set to ```'/'```, which means that the resource will be accessible directly from the base API url. Finally, ```endpoint``` takes the desired endpoint name. We have provided no endpoint.\n",
    "\n",
    "```app.run(debug=True)```\n",
    "> Runs the application. The ```debug=True``` parameter enables debugging access to the application. By enabling debug mode, the server will automatically reload if code changes, and will show an interactive debugger in the browser if an error occurs during a request. If you are launching the application directly from a Jupyter notebook interface set ```use_reloader=False``` to ensure no issues arise. "
   ]
  },
  {
   "cell_type": "markdown",
   "id": "75c77d2e",
   "metadata": {
    "nbgrader": {
     "grade": false,
     "grade_id": "cell-691bbc30b5ec35d3",
     "locked": true,
     "schema_version": 3,
     "solution": false,
     "task": false
    }
   },
   "source": [
    "### Getting the basics\n",
    "\n",
    "There are two ways in which you can execute the code above: using an external .py file or directly from this (or some other) notebook.\n",
    "\n",
    "#### Launching from the external .py file\n",
    "\n",
    "Because the code is not included in this notebook, but in a .py file, you won't be able to execute it directly by clicking on the `Run` button. Instead, open a new terminal window and launch the script by running `python CC2022_S2_api.py`. \n",
    "\n",
    "You can do so using the local terminal application in your computer or opening a new terminal window from the JupyterLab interface. For the latter, head over to your `Home` directory and click on the `New` tab to the top right of the screen, followed by `Terminal`, as shown below. \n",
    "\n",
    "<img src=\"https://www.dropbox.com/s/ieii1uaf97v0esu/Screenshot%202022-09-29%20at%2017.16.01.png?dl=1\" width=\"800\">\n",
    "\n",
    "This should launch a new terminal window like the one below.\n",
    "\n",
    "<div class=\"alert alert-warning\">\n",
    "    Note that unless you launch the terminal from the same directory where <i>CC2022_S2_api.py</i> is located, you will need to provide the relative path to your file to run your code.\n",
    "</div>\n",
    "\n",
    "#### Launching from a .ipynb file\n",
    "\n",
    "You can alternatively launch the file directly from a notebook by copy pasting the code on a separate cell. When doing that, make sure you set the `use_realoader=False` at the end.\n",
    "\n",
    "> Launching code from the notebook won't allow you to enter the debug mode. That means that you will need to interrupt the execution and run the code again after every change. That's why it's recommended to launch the code from a separate notebook, and simply keep this for checks and tests.\n",
    "\n",
    "#### Checking the server\n",
    "\n",
    "After you execute the code, head over to http://127.0.0.1:5000/. You should see your ```\"HelloWorld\"``` greeting there. \n",
    "\n",
    "<div class=\"alert alert-warning\">\n",
    "    Note that if another program is already using port 5000, an error will be raised when the server tries to start. See <a href=\"https://flask.palletsprojects.com/en/2.2.x/server/#address-already-in-use\">this</a> link for how to handle that.\n",
    "</div>\n",
    "\n",
    "You will notice that the server above is only accessible from your own computer, not from any other in the network. This is the default because in debugging mode a user of the application can execute arbitrary Python code on your computer. In a production environment, after developing your application, you’ll want to make it available publicly to other users. We will not cover this in this notebook. Yet, you can find detailed guidelines on how to deploy your application to production [here](https://flask.palletsprojects.com/en/2.2.x/deploying/).\n",
    "\n",
    "#### Troubleshooting\n",
    "\n",
    "If when executing your code you get a message saying that `Address is already in use`, you will need to *kill* the process already running in your port. To do that, you can either check the `Running` tab in JupyterLab and `Shutdown` all the running processes. Or, you can kill every process directly from the terminal by calling `kill -9 $(lsof -t -i:5000)`.\n",
    "\n",
    "#### Making your first requests\n",
    "\n",
    "As is, your API is already up and running.\n",
    "\n",
    "<div class=\"alert alert-info\">\n",
    "    <b>Exercise 1</b> Write the code to make a request to your API at <a href=\"http://localhost:5000/\">http://localhost:5000/</a>. Check both the status code and the obtained response.\n",
    "</div>"
   ]
  },
  {
   "cell_type": "code",
   "execution_count": 2,
   "id": "7f46f5a3",
   "metadata": {
    "nbgrader": {
     "grade": false,
     "grade_id": "cell-419ad3197a76a302",
     "locked": false,
     "schema_version": 3,
     "solution": true,
     "task": false
    }
   },
   "outputs": [
    {
     "data": {
      "text/plain": [
       "{'status': 200, 'response': 'Hello world'}"
      ]
     },
     "execution_count": 2,
     "metadata": {},
     "output_type": "execute_result"
    }
   ],
   "source": [
    "import requests\n",
    "\n",
    "requests.get('http://localhost:5000/').json()"
   ]
  },
  {
   "cell_type": "markdown",
   "id": "2bcb6579",
   "metadata": {},
   "source": [
    "<div class=\"alert alert-info\">\n",
    "    <b>Exercise 2</b> Write the code to modify the status code returned by your <i>HelloWorld</i> resource to be 400. Then, make a new request to your api and check the response. What do you obtain?\n",
    "</div>"
   ]
  },
  {
   "cell_type": "code",
   "execution_count": 5,
   "id": "742bbc8a",
   "metadata": {
    "nbgrader": {
     "grade": false,
     "grade_id": "cell-2fefcf2b9fec2e9f",
     "locked": false,
     "schema_version": 3,
     "solution": true,
     "task": false
    }
   },
   "outputs": [
    {
     "data": {
      "text/plain": [
       "{'status': 400, 'response': 'Hello world'}"
      ]
     },
     "execution_count": 5,
     "metadata": {},
     "output_type": "execute_result"
    }
   ],
   "source": [
    "requests.get('http://localhost:5000/').json()"
   ]
  },
  {
   "cell_type": "markdown",
   "id": "d30a4dcf",
   "metadata": {},
   "source": [
    "<div class=\"alert alert-info\">\n",
    "    <b>Exercise 3</b> Write the code to modify the code above such that the <i>HelloWorld</i> resource is routed to the <b>'hello'</b> url and endpoint. Then, rebuild your request once again. What changed?\n",
    "</div>"
   ]
  },
  {
   "cell_type": "code",
   "execution_count": 6,
   "id": "333650c7",
   "metadata": {},
   "outputs": [
    {
     "data": {
      "text/plain": [
       "{'status': 400, 'response': 'Hello world'}"
      ]
     },
     "execution_count": 6,
     "metadata": {},
     "output_type": "execute_result"
    }
   ],
   "source": [
    "requests.get('http://localhost:5000/hello').json()"
   ]
  },
  {
   "cell_type": "markdown",
   "id": "b99a61ac",
   "metadata": {
    "nbgrader": {
     "grade": false,
     "grade_id": "cell-83510a48e1a2e638",
     "locked": true,
     "schema_version": 3,
     "solution": false,
     "task": false
    }
   },
   "source": [
    "Now that the basics are clear, let's get to work.\n",
    "\n",
    "### Putting your learnings to practice\n",
    "\n",
    "As mentioned above, the objective of this notebook will be for you to set up an api that enables interaction with the ```products.csv``` database. You can find a snippet of this dataset below:\n",
    "\n",
    "<img src=\"https://www.dropbox.com/s/v8io0khbky3amif/Screenshot%202022-09-29%20at%2015.47.48.png?dl=1\" width=\"500\">\n",
    "\n",
    "The dataset includes the fields below:\n",
    "\n",
    "- **productId** refers to each products' unique identifier, in `int`  form\n",
    "- **productName** refers to each product's name tage, in `str` form\n",
    "- **brand** refers to each product's brand, in `str` form\n",
    "- **color** refers to each product's color, in `str` form\n",
    "- **size** refers to each product's size, in `int` form\n",
    "- **price** refers to each product's unitary price, in `int` form\n",
    "- **stock** refer to each product's availability in stock, in `int` form\n",
    "\n",
    "In what follows you are going to write the code to create an api that allows users to inspect the information in `products.csv`, to retrieve information about selected entries and to modify them, as well as to add new entries and to delete existing ones. We will start small and build from there.\n",
    "\n",
    "#### Implementing a get method\n",
    "\n",
    "Let's begin by setting up you api and implementing a `get` method.\n",
    "\n",
    "<div class=\"alert alert-info\">\n",
    "    <b>Exercise 4</b> Write the code to create an application called <i>app</i> that includes a single resource <b>Products</b> routed to the <i>/products</i> url and the <i>products</i> endpoint. Implement a <b>get</b> method for the Products resource that returns the full <i>products.csv</i> database as shown in the image below.\n",
    "    <img src=\"https://www.dropbox.com/s/1v7qnv65rfruwlz/Screenshot%202022-09-29%20at%2015.49.51.png?dl=1\" width=\"700\">\n",
    "</div>\n",
    "\n",
    "<div class=\"alert alert-warning\">\n",
    "You can read more on how to read a csv file using the pandas library <a href=\"https://pandas.pydata.org/docs/reference/api/pandas.read_csv.html\">here</a>. To properly format your response you will need to parse the resulting dataframe into dictionary, as discussed <a href=\"https://pandas.pydata.org/docs/reference/api/pandas.read_csv.html\">here</a>.\n",
    "</div>\n",
    "\n",
    "<div class=\"alert alert-warning\">\n",
    "Pay special attention to the way in which the data should be returned.\n",
    "</div>"
   ]
  },
  {
   "cell_type": "markdown",
   "id": "abb16da0",
   "metadata": {
    "nbgrader": {
     "grade": false,
     "grade_id": "cell-51970263efd133a9",
     "locked": true,
     "schema_version": 3,
     "solution": false,
     "task": false
    }
   },
   "source": [
    "As is, your API will return the whole dataset in response to a get request. However, the user may wish to view only a single record. This means that we will need to define a parameter that takes this information from the user. This process is known as **Request Parsing** and can be done using the ```reqparse``` module from ```flask_restful```. Let's take a look at an example usage below."
   ]
  },
  {
   "cell_type": "code",
   "execution_count": 7,
   "id": "40b062cb",
   "metadata": {
    "nbgrader": {
     "grade": false,
     "grade_id": "cell-eafe08d160e7f1c3",
     "locked": false,
     "schema_version": 3,
     "solution": true,
     "task": false
    }
   },
   "outputs": [
    {
     "data": {
      "text/html": [
       "<div>\n",
       "<style scoped>\n",
       "    .dataframe tbody tr th:only-of-type {\n",
       "        vertical-align: middle;\n",
       "    }\n",
       "\n",
       "    .dataframe tbody tr th {\n",
       "        vertical-align: top;\n",
       "    }\n",
       "\n",
       "    .dataframe thead th {\n",
       "        text-align: right;\n",
       "    }\n",
       "</style>\n",
       "<table border=\"1\" class=\"dataframe\">\n",
       "  <thead>\n",
       "    <tr style=\"text-align: right;\">\n",
       "      <th></th>\n",
       "      <th>productId</th>\n",
       "      <th>productName</th>\n",
       "      <th>brand</th>\n",
       "      <th>color</th>\n",
       "      <th>size</th>\n",
       "      <th>price</th>\n",
       "      <th>stock</th>\n",
       "    </tr>\n",
       "  </thead>\n",
       "  <tbody>\n",
       "    <tr>\n",
       "      <th>0</th>\n",
       "      <td>10261</td>\n",
       "      <td>Veja Campo Trainers</td>\n",
       "      <td>Veja</td>\n",
       "      <td>Gray</td>\n",
       "      <td>37</td>\n",
       "      <td>150</td>\n",
       "      <td>3</td>\n",
       "    </tr>\n",
       "    <tr>\n",
       "      <th>1</th>\n",
       "      <td>10262</td>\n",
       "      <td>Veja Campo Trainers</td>\n",
       "      <td>Veja</td>\n",
       "      <td>Gray</td>\n",
       "      <td>38</td>\n",
       "      <td>150</td>\n",
       "      <td>0</td>\n",
       "    </tr>\n",
       "    <tr>\n",
       "      <th>2</th>\n",
       "      <td>10263</td>\n",
       "      <td>Veja Campo Trainers</td>\n",
       "      <td>Veja</td>\n",
       "      <td>Gray</td>\n",
       "      <td>39</td>\n",
       "      <td>150</td>\n",
       "      <td>1</td>\n",
       "    </tr>\n",
       "    <tr>\n",
       "      <th>3</th>\n",
       "      <td>10264</td>\n",
       "      <td>Veja Campo Trainers</td>\n",
       "      <td>Veja</td>\n",
       "      <td>Gray</td>\n",
       "      <td>40</td>\n",
       "      <td>150</td>\n",
       "      <td>2</td>\n",
       "    </tr>\n",
       "    <tr>\n",
       "      <th>4</th>\n",
       "      <td>10265</td>\n",
       "      <td>Veja Campo Trainers</td>\n",
       "      <td>Veja</td>\n",
       "      <td>Gray</td>\n",
       "      <td>41</td>\n",
       "      <td>150</td>\n",
       "      <td>1</td>\n",
       "    </tr>\n",
       "    <tr>\n",
       "      <th>5</th>\n",
       "      <td>10161</td>\n",
       "      <td>Veja Campo Trainers</td>\n",
       "      <td>Veja</td>\n",
       "      <td>Beige</td>\n",
       "      <td>37</td>\n",
       "      <td>130</td>\n",
       "      <td>5</td>\n",
       "    </tr>\n",
       "    <tr>\n",
       "      <th>6</th>\n",
       "      <td>10162</td>\n",
       "      <td>Veja Campo Trainers</td>\n",
       "      <td>Veja</td>\n",
       "      <td>Beige</td>\n",
       "      <td>38</td>\n",
       "      <td>130</td>\n",
       "      <td>5</td>\n",
       "    </tr>\n",
       "    <tr>\n",
       "      <th>7</th>\n",
       "      <td>10163</td>\n",
       "      <td>Veja Campo Trainers</td>\n",
       "      <td>Veja</td>\n",
       "      <td>Beige</td>\n",
       "      <td>39</td>\n",
       "      <td>130</td>\n",
       "      <td>3</td>\n",
       "    </tr>\n",
       "    <tr>\n",
       "      <th>8</th>\n",
       "      <td>10164</td>\n",
       "      <td>Veja Campo Trainers</td>\n",
       "      <td>Veja</td>\n",
       "      <td>Beige</td>\n",
       "      <td>40</td>\n",
       "      <td>130</td>\n",
       "      <td>4</td>\n",
       "    </tr>\n",
       "    <tr>\n",
       "      <th>9</th>\n",
       "      <td>10165</td>\n",
       "      <td>Veja Campo Trainers</td>\n",
       "      <td>Veja</td>\n",
       "      <td>Beige</td>\n",
       "      <td>41</td>\n",
       "      <td>130</td>\n",
       "      <td>3</td>\n",
       "    </tr>\n",
       "    <tr>\n",
       "      <th>10</th>\n",
       "      <td>10051</td>\n",
       "      <td>Veja Venturi Trainers</td>\n",
       "      <td>Veja</td>\n",
       "      <td>White</td>\n",
       "      <td>37</td>\n",
       "      <td>155</td>\n",
       "      <td>0</td>\n",
       "    </tr>\n",
       "    <tr>\n",
       "      <th>11</th>\n",
       "      <td>10052</td>\n",
       "      <td>Veja Venturi Trainers</td>\n",
       "      <td>Veja</td>\n",
       "      <td>White</td>\n",
       "      <td>38</td>\n",
       "      <td>155</td>\n",
       "      <td>3</td>\n",
       "    </tr>\n",
       "    <tr>\n",
       "      <th>12</th>\n",
       "      <td>10053</td>\n",
       "      <td>Veja Venturi Trainers</td>\n",
       "      <td>Veja</td>\n",
       "      <td>White</td>\n",
       "      <td>39</td>\n",
       "      <td>155</td>\n",
       "      <td>0</td>\n",
       "    </tr>\n",
       "    <tr>\n",
       "      <th>13</th>\n",
       "      <td>10054</td>\n",
       "      <td>Veja Venturi Trainers</td>\n",
       "      <td>Veja</td>\n",
       "      <td>White</td>\n",
       "      <td>40</td>\n",
       "      <td>155</td>\n",
       "      <td>2</td>\n",
       "    </tr>\n",
       "    <tr>\n",
       "      <th>14</th>\n",
       "      <td>10055</td>\n",
       "      <td>Veja Venturi Trainers</td>\n",
       "      <td>Veja</td>\n",
       "      <td>White</td>\n",
       "      <td>41</td>\n",
       "      <td>155</td>\n",
       "      <td>2</td>\n",
       "    </tr>\n",
       "    <tr>\n",
       "      <th>15</th>\n",
       "      <td>20440</td>\n",
       "      <td>New Balance 327 Trainers</td>\n",
       "      <td>New Balance</td>\n",
       "      <td>Black</td>\n",
       "      <td>36</td>\n",
       "      <td>130</td>\n",
       "      <td>5</td>\n",
       "    </tr>\n",
       "    <tr>\n",
       "      <th>16</th>\n",
       "      <td>20441</td>\n",
       "      <td>New Balance 327 Trainers</td>\n",
       "      <td>New Balance</td>\n",
       "      <td>Black</td>\n",
       "      <td>37</td>\n",
       "      <td>130</td>\n",
       "      <td>1</td>\n",
       "    </tr>\n",
       "    <tr>\n",
       "      <th>17</th>\n",
       "      <td>20443</td>\n",
       "      <td>New Balance 327 Trainers</td>\n",
       "      <td>New Balance</td>\n",
       "      <td>Black</td>\n",
       "      <td>38</td>\n",
       "      <td>130</td>\n",
       "      <td>0</td>\n",
       "    </tr>\n",
       "    <tr>\n",
       "      <th>18</th>\n",
       "      <td>20444</td>\n",
       "      <td>New Balance 327 Trainers</td>\n",
       "      <td>New Balance</td>\n",
       "      <td>Black</td>\n",
       "      <td>39</td>\n",
       "      <td>130</td>\n",
       "      <td>0</td>\n",
       "    </tr>\n",
       "    <tr>\n",
       "      <th>19</th>\n",
       "      <td>20444</td>\n",
       "      <td>New Balance 327 Trainers</td>\n",
       "      <td>New Balance</td>\n",
       "      <td>Black</td>\n",
       "      <td>40</td>\n",
       "      <td>130</td>\n",
       "      <td>3</td>\n",
       "    </tr>\n",
       "    <tr>\n",
       "      <th>20</th>\n",
       "      <td>20445</td>\n",
       "      <td>New Balance 327 Trainers</td>\n",
       "      <td>New Balance</td>\n",
       "      <td>Black</td>\n",
       "      <td>41</td>\n",
       "      <td>130</td>\n",
       "      <td>2</td>\n",
       "    </tr>\n",
       "    <tr>\n",
       "      <th>21</th>\n",
       "      <td>20446</td>\n",
       "      <td>New Balance 327 Trainers</td>\n",
       "      <td>New Balance</td>\n",
       "      <td>Black</td>\n",
       "      <td>42</td>\n",
       "      <td>130</td>\n",
       "      <td>0</td>\n",
       "    </tr>\n",
       "    <tr>\n",
       "      <th>22</th>\n",
       "      <td>20520</td>\n",
       "      <td>New Balance 237 Trainers</td>\n",
       "      <td>New Balance</td>\n",
       "      <td>Black</td>\n",
       "      <td>36</td>\n",
       "      <td>95</td>\n",
       "      <td>2</td>\n",
       "    </tr>\n",
       "    <tr>\n",
       "      <th>23</th>\n",
       "      <td>20521</td>\n",
       "      <td>New Balance 237 Trainers</td>\n",
       "      <td>New Balance</td>\n",
       "      <td>Black</td>\n",
       "      <td>37</td>\n",
       "      <td>95</td>\n",
       "      <td>5</td>\n",
       "    </tr>\n",
       "    <tr>\n",
       "      <th>24</th>\n",
       "      <td>20522</td>\n",
       "      <td>New Balance 237 Trainers</td>\n",
       "      <td>New Balance</td>\n",
       "      <td>Black</td>\n",
       "      <td>38</td>\n",
       "      <td>95</td>\n",
       "      <td>0</td>\n",
       "    </tr>\n",
       "    <tr>\n",
       "      <th>25</th>\n",
       "      <td>20523</td>\n",
       "      <td>New Balance 237 Trainers</td>\n",
       "      <td>New Balance</td>\n",
       "      <td>Black</td>\n",
       "      <td>39</td>\n",
       "      <td>95</td>\n",
       "      <td>1</td>\n",
       "    </tr>\n",
       "    <tr>\n",
       "      <th>26</th>\n",
       "      <td>20524</td>\n",
       "      <td>New Balance 237 Trainers</td>\n",
       "      <td>New Balance</td>\n",
       "      <td>Black</td>\n",
       "      <td>40</td>\n",
       "      <td>95</td>\n",
       "      <td>5</td>\n",
       "    </tr>\n",
       "    <tr>\n",
       "      <th>27</th>\n",
       "      <td>20525</td>\n",
       "      <td>New Balance 237 Trainers</td>\n",
       "      <td>New Balance</td>\n",
       "      <td>Black</td>\n",
       "      <td>41</td>\n",
       "      <td>95</td>\n",
       "      <td>5</td>\n",
       "    </tr>\n",
       "    <tr>\n",
       "      <th>28</th>\n",
       "      <td>20331</td>\n",
       "      <td>New Balance 5740 Trainers</td>\n",
       "      <td>New Balance</td>\n",
       "      <td>Dark gray</td>\n",
       "      <td>37</td>\n",
       "      <td>140</td>\n",
       "      <td>7</td>\n",
       "    </tr>\n",
       "    <tr>\n",
       "      <th>29</th>\n",
       "      <td>20332</td>\n",
       "      <td>New Balance 5740 Trainers</td>\n",
       "      <td>New Balance</td>\n",
       "      <td>Dark gray</td>\n",
       "      <td>38</td>\n",
       "      <td>140</td>\n",
       "      <td>7</td>\n",
       "    </tr>\n",
       "    <tr>\n",
       "      <th>30</th>\n",
       "      <td>20333</td>\n",
       "      <td>New Balance 5740 Trainers</td>\n",
       "      <td>New Balance</td>\n",
       "      <td>Dark gray</td>\n",
       "      <td>39</td>\n",
       "      <td>140</td>\n",
       "      <td>7</td>\n",
       "    </tr>\n",
       "    <tr>\n",
       "      <th>31</th>\n",
       "      <td>20334</td>\n",
       "      <td>New Balance 5740 Trainers</td>\n",
       "      <td>New Balance</td>\n",
       "      <td>Dark gray</td>\n",
       "      <td>40</td>\n",
       "      <td>140</td>\n",
       "      <td>3</td>\n",
       "    </tr>\n",
       "    <tr>\n",
       "      <th>32</th>\n",
       "      <td>20335</td>\n",
       "      <td>New Balance 5740 Trainers</td>\n",
       "      <td>New Balance</td>\n",
       "      <td>Dark gray</td>\n",
       "      <td>41</td>\n",
       "      <td>140</td>\n",
       "      <td>0</td>\n",
       "    </tr>\n",
       "    <tr>\n",
       "      <th>33</th>\n",
       "      <td>20336</td>\n",
       "      <td>New Balance 5740 Trainers</td>\n",
       "      <td>New Balance</td>\n",
       "      <td>Dark gray</td>\n",
       "      <td>42</td>\n",
       "      <td>140</td>\n",
       "      <td>6</td>\n",
       "    </tr>\n",
       "    <tr>\n",
       "      <th>34</th>\n",
       "      <td>20337</td>\n",
       "      <td>New Balance 5740 Trainers</td>\n",
       "      <td>New Balance</td>\n",
       "      <td>Dark gray</td>\n",
       "      <td>43</td>\n",
       "      <td>140</td>\n",
       "      <td>6</td>\n",
       "    </tr>\n",
       "    <tr>\n",
       "      <th>35</th>\n",
       "      <td>20338</td>\n",
       "      <td>New Balance 5740 Trainers</td>\n",
       "      <td>New Balance</td>\n",
       "      <td>Dark gray</td>\n",
       "      <td>44</td>\n",
       "      <td>140</td>\n",
       "      <td>6</td>\n",
       "    </tr>\n",
       "    <tr>\n",
       "      <th>36</th>\n",
       "      <td>30171</td>\n",
       "      <td>Adidas Astir Trainers</td>\n",
       "      <td>Adidas</td>\n",
       "      <td>Beige</td>\n",
       "      <td>37</td>\n",
       "      <td>100</td>\n",
       "      <td>1</td>\n",
       "    </tr>\n",
       "    <tr>\n",
       "      <th>37</th>\n",
       "      <td>30172</td>\n",
       "      <td>Adidas Astir Trainers</td>\n",
       "      <td>Adidas</td>\n",
       "      <td>Beige</td>\n",
       "      <td>38</td>\n",
       "      <td>100</td>\n",
       "      <td>1</td>\n",
       "    </tr>\n",
       "    <tr>\n",
       "      <th>38</th>\n",
       "      <td>30173</td>\n",
       "      <td>Adidas Astir Trainers</td>\n",
       "      <td>Adidas</td>\n",
       "      <td>Beige</td>\n",
       "      <td>39</td>\n",
       "      <td>100</td>\n",
       "      <td>1</td>\n",
       "    </tr>\n",
       "    <tr>\n",
       "      <th>39</th>\n",
       "      <td>30174</td>\n",
       "      <td>Adidas Astir Trainers</td>\n",
       "      <td>Adidas</td>\n",
       "      <td>Beige</td>\n",
       "      <td>40</td>\n",
       "      <td>100</td>\n",
       "      <td>1</td>\n",
       "    </tr>\n",
       "    <tr>\n",
       "      <th>40</th>\n",
       "      <td>30175</td>\n",
       "      <td>Adidas Astir Trainers</td>\n",
       "      <td>Adidas</td>\n",
       "      <td>Beige</td>\n",
       "      <td>41</td>\n",
       "      <td>100</td>\n",
       "      <td>1</td>\n",
       "    </tr>\n",
       "    <tr>\n",
       "      <th>41</th>\n",
       "      <td>30011</td>\n",
       "      <td>Adidas Forum 84 Hi Trainers</td>\n",
       "      <td>Adidas</td>\n",
       "      <td>White</td>\n",
       "      <td>37</td>\n",
       "      <td>130</td>\n",
       "      <td>3</td>\n",
       "    </tr>\n",
       "    <tr>\n",
       "      <th>42</th>\n",
       "      <td>30012</td>\n",
       "      <td>Adidas Forum 84 Hi Trainers</td>\n",
       "      <td>Adidas</td>\n",
       "      <td>White</td>\n",
       "      <td>38</td>\n",
       "      <td>130</td>\n",
       "      <td>3</td>\n",
       "    </tr>\n",
       "    <tr>\n",
       "      <th>43</th>\n",
       "      <td>30013</td>\n",
       "      <td>Adidas Forum 84 Hi Trainers</td>\n",
       "      <td>Adidas</td>\n",
       "      <td>White</td>\n",
       "      <td>39</td>\n",
       "      <td>130</td>\n",
       "      <td>3</td>\n",
       "    </tr>\n",
       "    <tr>\n",
       "      <th>44</th>\n",
       "      <td>30014</td>\n",
       "      <td>Adidas Forum 84 Hi Trainers</td>\n",
       "      <td>Adidas</td>\n",
       "      <td>White</td>\n",
       "      <td>40</td>\n",
       "      <td>130</td>\n",
       "      <td>3</td>\n",
       "    </tr>\n",
       "    <tr>\n",
       "      <th>45</th>\n",
       "      <td>30015</td>\n",
       "      <td>Adidas Forum 84 Hi Trainers</td>\n",
       "      <td>Adidas</td>\n",
       "      <td>White</td>\n",
       "      <td>41</td>\n",
       "      <td>130</td>\n",
       "      <td>3</td>\n",
       "    </tr>\n",
       "  </tbody>\n",
       "</table>\n",
       "</div>"
      ],
      "text/plain": [
       "    productId                  productName        brand      color  size  \\\n",
       "0       10261          Veja Campo Trainers         Veja       Gray    37   \n",
       "1       10262          Veja Campo Trainers         Veja       Gray    38   \n",
       "2       10263          Veja Campo Trainers         Veja       Gray    39   \n",
       "3       10264          Veja Campo Trainers         Veja       Gray    40   \n",
       "4       10265          Veja Campo Trainers         Veja       Gray    41   \n",
       "5       10161          Veja Campo Trainers         Veja      Beige    37   \n",
       "6       10162          Veja Campo Trainers         Veja      Beige    38   \n",
       "7       10163          Veja Campo Trainers         Veja      Beige    39   \n",
       "8       10164          Veja Campo Trainers         Veja      Beige    40   \n",
       "9       10165          Veja Campo Trainers         Veja      Beige    41   \n",
       "10      10051        Veja Venturi Trainers         Veja      White    37   \n",
       "11      10052        Veja Venturi Trainers         Veja      White    38   \n",
       "12      10053        Veja Venturi Trainers         Veja      White    39   \n",
       "13      10054        Veja Venturi Trainers         Veja      White    40   \n",
       "14      10055        Veja Venturi Trainers         Veja      White    41   \n",
       "15      20440     New Balance 327 Trainers  New Balance      Black    36   \n",
       "16      20441     New Balance 327 Trainers  New Balance      Black    37   \n",
       "17      20443     New Balance 327 Trainers  New Balance      Black    38   \n",
       "18      20444     New Balance 327 Trainers  New Balance      Black    39   \n",
       "19      20444     New Balance 327 Trainers  New Balance      Black    40   \n",
       "20      20445     New Balance 327 Trainers  New Balance      Black    41   \n",
       "21      20446     New Balance 327 Trainers  New Balance      Black    42   \n",
       "22      20520     New Balance 237 Trainers  New Balance      Black    36   \n",
       "23      20521     New Balance 237 Trainers  New Balance      Black    37   \n",
       "24      20522     New Balance 237 Trainers  New Balance      Black    38   \n",
       "25      20523     New Balance 237 Trainers  New Balance      Black    39   \n",
       "26      20524     New Balance 237 Trainers  New Balance      Black    40   \n",
       "27      20525     New Balance 237 Trainers  New Balance      Black    41   \n",
       "28      20331    New Balance 5740 Trainers  New Balance  Dark gray    37   \n",
       "29      20332    New Balance 5740 Trainers  New Balance  Dark gray    38   \n",
       "30      20333    New Balance 5740 Trainers  New Balance  Dark gray    39   \n",
       "31      20334    New Balance 5740 Trainers  New Balance  Dark gray    40   \n",
       "32      20335    New Balance 5740 Trainers  New Balance  Dark gray    41   \n",
       "33      20336    New Balance 5740 Trainers  New Balance  Dark gray    42   \n",
       "34      20337    New Balance 5740 Trainers  New Balance  Dark gray    43   \n",
       "35      20338    New Balance 5740 Trainers  New Balance  Dark gray    44   \n",
       "36      30171        Adidas Astir Trainers       Adidas      Beige    37   \n",
       "37      30172        Adidas Astir Trainers       Adidas      Beige    38   \n",
       "38      30173        Adidas Astir Trainers       Adidas      Beige    39   \n",
       "39      30174        Adidas Astir Trainers       Adidas      Beige    40   \n",
       "40      30175        Adidas Astir Trainers       Adidas      Beige    41   \n",
       "41      30011  Adidas Forum 84 Hi Trainers       Adidas      White    37   \n",
       "42      30012  Adidas Forum 84 Hi Trainers       Adidas      White    38   \n",
       "43      30013  Adidas Forum 84 Hi Trainers       Adidas      White    39   \n",
       "44      30014  Adidas Forum 84 Hi Trainers       Adidas      White    40   \n",
       "45      30015  Adidas Forum 84 Hi Trainers       Adidas      White    41   \n",
       "\n",
       "    price  stock  \n",
       "0     150      3  \n",
       "1     150      0  \n",
       "2     150      1  \n",
       "3     150      2  \n",
       "4     150      1  \n",
       "5     130      5  \n",
       "6     130      5  \n",
       "7     130      3  \n",
       "8     130      4  \n",
       "9     130      3  \n",
       "10    155      0  \n",
       "11    155      3  \n",
       "12    155      0  \n",
       "13    155      2  \n",
       "14    155      2  \n",
       "15    130      5  \n",
       "16    130      1  \n",
       "17    130      0  \n",
       "18    130      0  \n",
       "19    130      3  \n",
       "20    130      2  \n",
       "21    130      0  \n",
       "22     95      2  \n",
       "23     95      5  \n",
       "24     95      0  \n",
       "25     95      1  \n",
       "26     95      5  \n",
       "27     95      5  \n",
       "28    140      7  \n",
       "29    140      7  \n",
       "30    140      7  \n",
       "31    140      3  \n",
       "32    140      0  \n",
       "33    140      6  \n",
       "34    140      6  \n",
       "35    140      6  \n",
       "36    100      1  \n",
       "37    100      1  \n",
       "38    100      1  \n",
       "39    100      1  \n",
       "40    100      1  \n",
       "41    130      3  \n",
       "42    130      3  \n",
       "43    130      3  \n",
       "44    130      3  \n",
       "45    130      3  "
      ]
     },
     "execution_count": 7,
     "metadata": {},
     "output_type": "execute_result"
    }
   ],
   "source": [
    "import pandas as pd\n",
    "df = pd.read_csv('products.csv')\n",
    "df"
   ]
  },
  {
   "cell_type": "code",
   "execution_count": 11,
   "id": "300bb56a",
   "metadata": {},
   "outputs": [
    {
     "data": {
      "text/plain": [
       "{'status': 400,\n",
       " 'response': [{'productId': 10261,\n",
       "   'productName': 'Veja Campo Trainers',\n",
       "   'brand': 'Veja',\n",
       "   'color': 'Gray',\n",
       "   'size': 37,\n",
       "   'price': 150,\n",
       "   'stock': 3},\n",
       "  {'productId': 10262,\n",
       "   'productName': 'Veja Campo Trainers',\n",
       "   'brand': 'Veja',\n",
       "   'color': 'Gray',\n",
       "   'size': 38,\n",
       "   'price': 150,\n",
       "   'stock': 0},\n",
       "  {'productId': 10263,\n",
       "   'productName': 'Veja Campo Trainers',\n",
       "   'brand': 'Veja',\n",
       "   'color': 'Gray',\n",
       "   'size': 39,\n",
       "   'price': 150,\n",
       "   'stock': 1},\n",
       "  {'productId': 10264,\n",
       "   'productName': 'Veja Campo Trainers',\n",
       "   'brand': 'Veja',\n",
       "   'color': 'Gray',\n",
       "   'size': 40,\n",
       "   'price': 150,\n",
       "   'stock': 2},\n",
       "  {'productId': 10265,\n",
       "   'productName': 'Veja Campo Trainers',\n",
       "   'brand': 'Veja',\n",
       "   'color': 'Gray',\n",
       "   'size': 41,\n",
       "   'price': 150,\n",
       "   'stock': 1},\n",
       "  {'productId': 10161,\n",
       "   'productName': 'Veja Campo Trainers',\n",
       "   'brand': 'Veja',\n",
       "   'color': 'Beige',\n",
       "   'size': 37,\n",
       "   'price': 130,\n",
       "   'stock': 5},\n",
       "  {'productId': 10162,\n",
       "   'productName': 'Veja Campo Trainers',\n",
       "   'brand': 'Veja',\n",
       "   'color': 'Beige',\n",
       "   'size': 38,\n",
       "   'price': 130,\n",
       "   'stock': 5},\n",
       "  {'productId': 10163,\n",
       "   'productName': 'Veja Campo Trainers',\n",
       "   'brand': 'Veja',\n",
       "   'color': 'Beige',\n",
       "   'size': 39,\n",
       "   'price': 130,\n",
       "   'stock': 3},\n",
       "  {'productId': 10164,\n",
       "   'productName': 'Veja Campo Trainers',\n",
       "   'brand': 'Veja',\n",
       "   'color': 'Beige',\n",
       "   'size': 40,\n",
       "   'price': 130,\n",
       "   'stock': 4},\n",
       "  {'productId': 10165,\n",
       "   'productName': 'Veja Campo Trainers',\n",
       "   'brand': 'Veja',\n",
       "   'color': 'Beige',\n",
       "   'size': 41,\n",
       "   'price': 130,\n",
       "   'stock': 3},\n",
       "  {'productId': 10051,\n",
       "   'productName': 'Veja Venturi Trainers',\n",
       "   'brand': 'Veja',\n",
       "   'color': 'White',\n",
       "   'size': 37,\n",
       "   'price': 155,\n",
       "   'stock': 0},\n",
       "  {'productId': 10052,\n",
       "   'productName': 'Veja Venturi Trainers',\n",
       "   'brand': 'Veja',\n",
       "   'color': 'White',\n",
       "   'size': 38,\n",
       "   'price': 155,\n",
       "   'stock': 3},\n",
       "  {'productId': 10053,\n",
       "   'productName': 'Veja Venturi Trainers',\n",
       "   'brand': 'Veja',\n",
       "   'color': 'White',\n",
       "   'size': 39,\n",
       "   'price': 155,\n",
       "   'stock': 0},\n",
       "  {'productId': 10054,\n",
       "   'productName': 'Veja Venturi Trainers',\n",
       "   'brand': 'Veja',\n",
       "   'color': 'White',\n",
       "   'size': 40,\n",
       "   'price': 155,\n",
       "   'stock': 2},\n",
       "  {'productId': 10055,\n",
       "   'productName': 'Veja Venturi Trainers',\n",
       "   'brand': 'Veja',\n",
       "   'color': 'White',\n",
       "   'size': 41,\n",
       "   'price': 155,\n",
       "   'stock': 2},\n",
       "  {'productId': 20440,\n",
       "   'productName': 'New Balance 327 Trainers',\n",
       "   'brand': 'New Balance',\n",
       "   'color': 'Black',\n",
       "   'size': 36,\n",
       "   'price': 130,\n",
       "   'stock': 5},\n",
       "  {'productId': 20441,\n",
       "   'productName': 'New Balance 327 Trainers',\n",
       "   'brand': 'New Balance',\n",
       "   'color': 'Black',\n",
       "   'size': 37,\n",
       "   'price': 130,\n",
       "   'stock': 1},\n",
       "  {'productId': 20443,\n",
       "   'productName': 'New Balance 327 Trainers',\n",
       "   'brand': 'New Balance',\n",
       "   'color': 'Black',\n",
       "   'size': 38,\n",
       "   'price': 130,\n",
       "   'stock': 0},\n",
       "  {'productId': 20444,\n",
       "   'productName': 'New Balance 327 Trainers',\n",
       "   'brand': 'New Balance',\n",
       "   'color': 'Black',\n",
       "   'size': 39,\n",
       "   'price': 130,\n",
       "   'stock': 0},\n",
       "  {'productId': 20444,\n",
       "   'productName': 'New Balance 327 Trainers',\n",
       "   'brand': 'New Balance',\n",
       "   'color': 'Black',\n",
       "   'size': 40,\n",
       "   'price': 130,\n",
       "   'stock': 3},\n",
       "  {'productId': 20445,\n",
       "   'productName': 'New Balance 327 Trainers',\n",
       "   'brand': 'New Balance',\n",
       "   'color': 'Black',\n",
       "   'size': 41,\n",
       "   'price': 130,\n",
       "   'stock': 2},\n",
       "  {'productId': 20446,\n",
       "   'productName': 'New Balance 327 Trainers',\n",
       "   'brand': 'New Balance',\n",
       "   'color': 'Black',\n",
       "   'size': 42,\n",
       "   'price': 130,\n",
       "   'stock': 0},\n",
       "  {'productId': 20520,\n",
       "   'productName': 'New Balance 237 Trainers',\n",
       "   'brand': 'New Balance',\n",
       "   'color': 'Black',\n",
       "   'size': 36,\n",
       "   'price': 95,\n",
       "   'stock': 2},\n",
       "  {'productId': 20521,\n",
       "   'productName': 'New Balance 237 Trainers',\n",
       "   'brand': 'New Balance',\n",
       "   'color': 'Black',\n",
       "   'size': 37,\n",
       "   'price': 95,\n",
       "   'stock': 5},\n",
       "  {'productId': 20522,\n",
       "   'productName': 'New Balance 237 Trainers',\n",
       "   'brand': 'New Balance',\n",
       "   'color': 'Black',\n",
       "   'size': 38,\n",
       "   'price': 95,\n",
       "   'stock': 0},\n",
       "  {'productId': 20523,\n",
       "   'productName': 'New Balance 237 Trainers',\n",
       "   'brand': 'New Balance',\n",
       "   'color': 'Black',\n",
       "   'size': 39,\n",
       "   'price': 95,\n",
       "   'stock': 1},\n",
       "  {'productId': 20524,\n",
       "   'productName': 'New Balance 237 Trainers',\n",
       "   'brand': 'New Balance',\n",
       "   'color': 'Black',\n",
       "   'size': 40,\n",
       "   'price': 95,\n",
       "   'stock': 5},\n",
       "  {'productId': 20525,\n",
       "   'productName': 'New Balance 237 Trainers',\n",
       "   'brand': 'New Balance',\n",
       "   'color': 'Black',\n",
       "   'size': 41,\n",
       "   'price': 95,\n",
       "   'stock': 5},\n",
       "  {'productId': 20331,\n",
       "   'productName': 'New Balance 5740 Trainers',\n",
       "   'brand': 'New Balance',\n",
       "   'color': 'Dark gray',\n",
       "   'size': 37,\n",
       "   'price': 140,\n",
       "   'stock': 7},\n",
       "  {'productId': 20332,\n",
       "   'productName': 'New Balance 5740 Trainers',\n",
       "   'brand': 'New Balance',\n",
       "   'color': 'Dark gray',\n",
       "   'size': 38,\n",
       "   'price': 140,\n",
       "   'stock': 7},\n",
       "  {'productId': 20333,\n",
       "   'productName': 'New Balance 5740 Trainers',\n",
       "   'brand': 'New Balance',\n",
       "   'color': 'Dark gray',\n",
       "   'size': 39,\n",
       "   'price': 140,\n",
       "   'stock': 7},\n",
       "  {'productId': 20334,\n",
       "   'productName': 'New Balance 5740 Trainers',\n",
       "   'brand': 'New Balance',\n",
       "   'color': 'Dark gray',\n",
       "   'size': 40,\n",
       "   'price': 140,\n",
       "   'stock': 3},\n",
       "  {'productId': 20335,\n",
       "   'productName': 'New Balance 5740 Trainers',\n",
       "   'brand': 'New Balance',\n",
       "   'color': 'Dark gray',\n",
       "   'size': 41,\n",
       "   'price': 140,\n",
       "   'stock': 0},\n",
       "  {'productId': 20336,\n",
       "   'productName': 'New Balance 5740 Trainers',\n",
       "   'brand': 'New Balance',\n",
       "   'color': 'Dark gray',\n",
       "   'size': 42,\n",
       "   'price': 140,\n",
       "   'stock': 6},\n",
       "  {'productId': 20337,\n",
       "   'productName': 'New Balance 5740 Trainers',\n",
       "   'brand': 'New Balance',\n",
       "   'color': 'Dark gray',\n",
       "   'size': 43,\n",
       "   'price': 140,\n",
       "   'stock': 6},\n",
       "  {'productId': 20338,\n",
       "   'productName': 'New Balance 5740 Trainers',\n",
       "   'brand': 'New Balance',\n",
       "   'color': 'Dark gray',\n",
       "   'size': 44,\n",
       "   'price': 140,\n",
       "   'stock': 6},\n",
       "  {'productId': 30171,\n",
       "   'productName': 'Adidas Astir Trainers',\n",
       "   'brand': 'Adidas',\n",
       "   'color': 'Beige',\n",
       "   'size': 37,\n",
       "   'price': 100,\n",
       "   'stock': 1},\n",
       "  {'productId': 30172,\n",
       "   'productName': 'Adidas Astir Trainers',\n",
       "   'brand': 'Adidas',\n",
       "   'color': 'Beige',\n",
       "   'size': 38,\n",
       "   'price': 100,\n",
       "   'stock': 1},\n",
       "  {'productId': 30173,\n",
       "   'productName': 'Adidas Astir Trainers',\n",
       "   'brand': 'Adidas',\n",
       "   'color': 'Beige',\n",
       "   'size': 39,\n",
       "   'price': 100,\n",
       "   'stock': 1},\n",
       "  {'productId': 30174,\n",
       "   'productName': 'Adidas Astir Trainers',\n",
       "   'brand': 'Adidas',\n",
       "   'color': 'Beige',\n",
       "   'size': 40,\n",
       "   'price': 100,\n",
       "   'stock': 1},\n",
       "  {'productId': 30175,\n",
       "   'productName': 'Adidas Astir Trainers',\n",
       "   'brand': 'Adidas',\n",
       "   'color': 'Beige',\n",
       "   'size': 41,\n",
       "   'price': 100,\n",
       "   'stock': 1},\n",
       "  {'productId': 30011,\n",
       "   'productName': 'Adidas Forum 84 Hi Trainers',\n",
       "   'brand': 'Adidas',\n",
       "   'color': 'White',\n",
       "   'size': 37,\n",
       "   'price': 130,\n",
       "   'stock': 3},\n",
       "  {'productId': 30012,\n",
       "   'productName': 'Adidas Forum 84 Hi Trainers',\n",
       "   'brand': 'Adidas',\n",
       "   'color': 'White',\n",
       "   'size': 38,\n",
       "   'price': 130,\n",
       "   'stock': 3},\n",
       "  {'productId': 30013,\n",
       "   'productName': 'Adidas Forum 84 Hi Trainers',\n",
       "   'brand': 'Adidas',\n",
       "   'color': 'White',\n",
       "   'size': 39,\n",
       "   'price': 130,\n",
       "   'stock': 3},\n",
       "  {'productId': 30014,\n",
       "   'productName': 'Adidas Forum 84 Hi Trainers',\n",
       "   'brand': 'Adidas',\n",
       "   'color': 'White',\n",
       "   'size': 40,\n",
       "   'price': 130,\n",
       "   'stock': 3},\n",
       "  {'productId': 30015,\n",
       "   'productName': 'Adidas Forum 84 Hi Trainers',\n",
       "   'brand': 'Adidas',\n",
       "   'color': 'White',\n",
       "   'size': 41,\n",
       "   'price': 130,\n",
       "   'stock': 3}]}"
      ]
     },
     "execution_count": 11,
     "metadata": {},
     "output_type": "execute_result"
    }
   ],
   "source": [
    "requests.get('http://localhost:5000/products').json()"
   ]
  },
  {
   "cell_type": "raw",
   "id": "34c6b8be",
   "metadata": {
    "nbgrader": {
     "grade": false,
     "grade_id": "cell-c813ef5f473c1b61",
     "locked": true,
     "schema_version": 3,
     "solution": false,
     "task": false
    }
   },
   "source": [
    "from flask import Flask\n",
    "from flask_restful import Resource, Api, reqparse\n",
    "import pandas as pd\n",
    "\n",
    "app = Flask(__name__)\n",
    "api = Api(app)\n",
    "\n",
    "class Products(Resource):\n",
    "    def get(self):\n",
    "        parser = reqparse.RequestParser()  # initialize\n",
    "        parser.add_argument('productId', type=int, help=\"Missing argument productId\", required=False)  # add args\n",
    "        args = parser.parse_args()  # parse arguments to dictionary\n",
    "        \n",
    "        if args['productId'] is None:        \n",
    "            data = pd.read_csv('products.csv')  # read local CSV\n",
    "            data = data.to_dict(orient='records') # Convert data to dict\n",
    "            return {'status': 200, 'response': data}, 200 # return data and 200 OK\n",
    "        else:\n",
    "            return {'status': 200, 'response': 'Data for provided productId'}, 200\n",
    "\n",
    "api.add_resource(Products, '/products', endpoint='products')\n",
    "\n",
    "if __name__ == '__main__':\n",
    "    app.run(debug=True)"
   ]
  },
  {
   "cell_type": "markdown",
   "id": "a27e9425",
   "metadata": {
    "nbgrader": {
     "grade": false,
     "grade_id": "cell-362bcd92a10859f3",
     "locked": true,
     "schema_version": 3,
     "solution": false,
     "task": false
    }
   },
   "source": [
    "As before, let's break down this code to uderstand the different bits and pieces.\n",
    "\n",
    "```from flask_restful import reqparse```\n",
    "> Imports the ```reqparse``` module from ```flask_restful```.\n",
    "\n",
    "```parser = reqparse.RequestParser()```\n",
    "> Creates an object called ```parser```, which is an instance of the ```RequestParser``` class.\n",
    "\n",
    "```parser.add_argument('productId', type=int, help='Product identifier', required=False)```\n",
    "> Calls method ```add_argument``` to define a new parameter for the get request. In particular, it defines a parameter called ```'productId'```, which accepts a value of type ```int```. The ```help``` attribute provides explanatory information to the user in case the provided parameter is invalid, while the ```required``` choice specifies whether we want this parameter to be always included for a valid request or not. In our case, the values is set to ```False```, which means that this parameter is optional. You can read more about the `Argument` class [here](https://flask-restful.readthedocs.io/en/latest/api.html#reqparse.Argument).\n",
    "\n",
    "The best way to understand the changes is to interact with the API.\n",
    "\n",
    "<div class=\"alert alert-info\">\n",
    "    <b>Exercise 5</b> Write the code to make a get request to the <b>products</b> endpoint of your api. Check what the responses you obtain when including a value for the <i>productId</i> parameter as part of the request body or when leaving it blank.\n",
    "</div>"
   ]
  },
  {
   "cell_type": "code",
   "execution_count": 31,
   "id": "32d8d80e",
   "metadata": {
    "nbgrader": {
     "grade": false,
     "grade_id": "cell-e7761728bebbafa2",
     "locked": false,
     "schema_version": 3,
     "solution": true,
     "task": false
    }
   },
   "outputs": [],
   "source": [
    "response = requests.get('http://localhost:5000/products',params={'productId':101})"
   ]
  },
  {
   "cell_type": "code",
   "execution_count": 32,
   "id": "ba86518e",
   "metadata": {},
   "outputs": [
    {
     "data": {
      "text/plain": [
       "{'message': 'Internal Server Error'}"
      ]
     },
     "execution_count": 32,
     "metadata": {},
     "output_type": "execute_result"
    }
   ],
   "source": [
    "response.json()"
   ]
  },
  {
   "cell_type": "markdown",
   "id": "dc09fc7e",
   "metadata": {
    "nbgrader": {
     "grade": false,
     "grade_id": "cell-f281ed0d3273151f",
     "locked": true,
     "schema_version": 3,
     "solution": false,
     "task": false
    }
   },
   "source": [
    "In its current version, our api will accept a parameter ```productId``` but won't really use it. Let's rewrite our code so that the api returns the corresponding entry whenever a value is informed for this parameter.\n",
    "\n",
    "<div class=\"alert alert-info\">\n",
    "    <b>Exercise 6</b> Write the code to modify your code above, such that whenever a value is given for the <b>productId</b> parameter you api returns only the data corresponding to that entry. When doing so, make sure that a 404 error is raised with the message <i>'Incorrect value ID for productId.'</i>, for ID the provided productId, whenever the provided productId is not found in the database.\n",
    "</div>"
   ]
  },
  {
   "cell_type": "code",
   "execution_count": 33,
   "id": "5eeb1b91",
   "metadata": {
    "nbgrader": {
     "grade": false,
     "grade_id": "cell-f8fdd35f73355fb8",
     "locked": false,
     "schema_version": 3,
     "solution": true,
     "task": false
    }
   },
   "outputs": [
    {
     "data": {
      "text/plain": [
       "<Response [500]>"
      ]
     },
     "execution_count": 33,
     "metadata": {},
     "output_type": "execute_result"
    }
   ],
   "source": [
    "requests.get('http://localhost:5000/products')"
   ]
  },
  {
   "cell_type": "markdown",
   "id": "15a39db7",
   "metadata": {
    "nbgrader": {
     "grade": false,
     "grade_id": "cell-fd90b334707cc5a0",
     "locked": true,
     "schema_version": 3,
     "solution": false,
     "task": false
    }
   },
   "source": [
    "<div class=\"alert alert-danger\">\n",
    "    <b>Bonus 1</b> Write the code to modify your code above, such that your api accepts a <i>list</i> of <b>productId</b> values instead of a unique value. Your api should then return the data for all the corresponding entries simultaneously in json format as above. When doing so, make sure that a 404 error is raised with the message <i>'Incorrect value for productId'</i> whenever a provided productId is not found in the database.\n",
    "</div>"
   ]
  },
  {
   "cell_type": "code",
   "execution_count": null,
   "id": "a059b22e",
   "metadata": {
    "nbgrader": {
     "grade": false,
     "grade_id": "cell-e42a3bf44df1e815",
     "locked": false,
     "schema_version": 3,
     "solution": true,
     "task": false
    }
   },
   "outputs": [],
   "source": [
    "# YOUR CODE HERE"
   ]
  },
  {
   "cell_type": "markdown",
   "id": "87faf37b",
   "metadata": {
    "nbgrader": {
     "grade": false,
     "grade_id": "cell-ed8639636d759a6e",
     "locked": true,
     "schema_version": 3,
     "solution": false,
     "task": false
    }
   },
   "source": [
    "Well done! That's it for the ```get``` method for now. Now, let's discuss how to implement a ```post``` method for our api.\n",
    "\n",
    "#### Implementing a post method\n",
    "\n",
    "Ideally, we would want our user to be able to add new entries to our database. This will require that the user provides values for the necessary fields and that we can modify the existing file to include the new information.\n",
    "\n",
    "<div class=\"alert alert-info\">\n",
    "    <b>Exercise 7</b> Write the code to modify your code above to include a <b>post</b> method that enables the user to create a new instance in the dataset. When doing so, make sure that an error in raised whenever the user fails to provide information for one of the fields. Your code should modify the existing DataFrame, save the modified version and return the new entry as a response. When doing so, make sure your code returns the message <i>'ID already exists'</i>, for ID the provided productID, whenever the user is trying to create a new entry with an id which is already in use.\n",
    "</div>"
   ]
  },
  {
   "cell_type": "code",
   "execution_count": null,
   "id": "fa5c1a40",
   "metadata": {
    "nbgrader": {
     "grade": false,
     "grade_id": "cell-530d3c1a27556fd1",
     "locked": false,
     "schema_version": 3,
     "solution": true,
     "task": false
    }
   },
   "outputs": [],
   "source": [
    "df = pd.read_csv('products.csv')\n",
    "args = {'productId': 10200,'productName':'hh','size':37,'brand':'hh','color':'red','size':4,'stock':120,'price':120}"
   ]
  },
  {
   "cell_type": "markdown",
   "id": "bbd186de",
   "metadata": {
    "nbgrader": {
     "grade": false,
     "grade_id": "cell-08b6b0c6bed4e934",
     "locked": true,
     "schema_version": 3,
     "solution": false,
     "task": false
    }
   },
   "source": [
    "Now check that your code is correct.\n",
    "\n",
    "<div class=\"alert alert-info\">\n",
    "    <b>Exercise 8</b> Write the code to make a post request to the <b>products</b> endpoint of your api and create a new entry with productId 10260, productName 'Veja Campo Trainers', brand 'Veja', color 'Gray', size 36, price 150 and stock 3.\n",
    "</div>"
   ]
  },
  {
   "cell_type": "code",
   "execution_count": 35,
   "id": "eb14a160",
   "metadata": {
    "nbgrader": {
     "grade": false,
     "grade_id": "cell-13c60016cd48581e",
     "locked": false,
     "schema_version": 3,
     "solution": true,
     "task": false
    }
   },
   "outputs": [
    {
     "data": {
      "text/plain": [
       "<Response [405]>"
      ]
     },
     "execution_count": 35,
     "metadata": {},
     "output_type": "execute_result"
    }
   ],
   "source": [
    "requests.post('http://localhost:5000/products',params={'productId': 10200,'productName':'hh','size':37,'brand':'hh','color':'red','size':37,'stock':4,'price':120})"
   ]
  },
  {
   "cell_type": "markdown",
   "id": "48b98268",
   "metadata": {
    "nbgrader": {
     "grade": false,
     "grade_id": "cell-d37d45d5756c8680",
     "locked": true,
     "schema_version": 3,
     "solution": false,
     "task": false
    }
   },
   "source": [
    "<div class=\"alert alert-danger\">\n",
    "    <b>Bonus 2</b> Write the code to modify your solution above, such that your api accepts <i>incomplete</i> requests. In particular, allow post requests where the <b>productId</b> is missing. Manually fill in the corresponding values according to the criteria below.\n",
    "    <ul>\n",
    "        <li>The first two digits of the <i>productId</i> correspond to the brand: 10 for <i>Veja</i>, 20 for <i>New Balance</i>, 30 for <i>Adidas</i>.</li>\n",
    "        <li>The third digit of the <i>productId</i> corresponds to the color: 0 for <i>White</i>, 1 for <i>Beige</i>, 2 for <i>Gray</i>, 3 for <i>Dark Gray</i>, 4 for <i>Black</i>, 5 for <i>Blue</i>, 6 for <i>Green</i>.</li>\n",
    "        <li>The fourth digit of the <i>productId</i> corresponds to the productName: 1 for <i>Adidas Forum 84 Hi Trainers</i>, 2 for <i>New Balance 237 Trainers</i>, 3 for <i>New Balance 5740 Trainers</i>, 4 for <i>New Balance 327 Trainers</i>, 5 for <i>Veja Venturi Trainers</i> and 6 for <i>Veja Campo Trainers</i>.</li>\n",
    "        <li>The last digit of the <i>productId</i> corresponds to the size: 0 for 36, 1 for 37, 2 for 38, 3 for 39, 4 for 40, 5 for 41, 6 for 42, 7 for 43, 8 for 44 and 9 for 45.\n",
    "    </ul>\n",
    "</div>"
   ]
  },
  {
   "cell_type": "code",
   "execution_count": null,
   "id": "88fc3f14",
   "metadata": {
    "nbgrader": {
     "grade": false,
     "grade_id": "cell-a743fb6239e07a01",
     "locked": false,
     "schema_version": 3,
     "solution": true,
     "task": false
    }
   },
   "outputs": [],
   "source": [
    "# YOUR CODE HERE"
   ]
  },
  {
   "cell_type": "markdown",
   "id": "32a35a59",
   "metadata": {
    "nbgrader": {
     "grade": false,
     "grade_id": "cell-5d50c2c0203ef932",
     "locked": true,
     "schema_version": 3,
     "solution": false,
     "task": false
    }
   },
   "source": [
    "Our database includes information about different products and their current availability through the ```stock``` field. Availability of the different products will probably change based on purchases. Hence, our api should enable a method that modifies the stock of existing entries whenever an item is sold. That is, it should include a ```put``` method.\n",
    "\n",
    "#### Implementing a put method\n",
    "\n",
    "Let's implement a method that enables user to modify the value of the `stock` attribute for a given entry.\n",
    "\n",
    "<div class=\"alert alert-info\">\n",
    "    <b>Exercise 9</b> Write the code to implement a put method for your api. Your request should take a <b>productId</b> and a new <b>stock</b> value and update the corresponding entry. It should return the modified entry as a response.\n",
    "</div>"
   ]
  },
  {
   "cell_type": "code",
   "execution_count": null,
   "id": "18f32f10",
   "metadata": {
    "nbgrader": {
     "grade": false,
     "grade_id": "cell-92719b4ebff2bf8c",
     "locked": false,
     "schema_version": 3,
     "solution": true,
     "task": false
    }
   },
   "outputs": [],
   "source": [
    "# YOUR CODE HERE"
   ]
  },
  {
   "cell_type": "markdown",
   "id": "1e34ef2b",
   "metadata": {
    "nbgrader": {
     "grade": false,
     "grade_id": "cell-a6eefb6c3ad2bdf6",
     "locked": true,
     "schema_version": 3,
     "solution": false,
     "task": false
    }
   },
   "source": [
    "The method above assumes the user can provide the updated `stock` value directly. Often, however, the user will only be able to inform the number of purchases for the considered item so that the `stock` would have to be updated accordingly. Let's try an implement this option too as part of the put method for our `products` resource.\n",
    "\n",
    "<div class=\"alert alert-info\">\n",
    "    <b>Exercise 10</b> Write the code to modify your solution above. Your api should allow put requests to the <i>products</i> resource that include a <b>productId</b> and either a new <b>stock</b> value or a <b>modifier</b> value, or both, and update the corresponding entry. It should return the modified entry as a response.\n",
    "</div>"
   ]
  },
  {
   "cell_type": "code",
   "execution_count": null,
   "id": "976bd22c",
   "metadata": {
    "nbgrader": {
     "grade": false,
     "grade_id": "cell-ce9e6f9667280fef",
     "locked": false,
     "schema_version": 3,
     "solution": true,
     "task": false
    }
   },
   "outputs": [],
   "source": [
    "# YOUR CODE HERE"
   ]
  },
  {
   "cell_type": "markdown",
   "id": "09b414f1",
   "metadata": {
    "nbgrader": {
     "grade": false,
     "grade_id": "cell-08b6b0bed4e934",
     "locked": true,
     "schema_version": 3,
     "solution": false,
     "task": false
    }
   },
   "source": [
    "Now check that your code is correct.\n",
    "\n",
    "<div class=\"alert alert-info\">\n",
    "    <b>Exercise 11</b> Write the code to make a post request to the <b>products</b> endpoint of your api and modify entry with id 10261 so that the new <i>stock</i> value is 2."
   ]
  },
  {
   "cell_type": "code",
   "execution_count": null,
   "id": "526db019",
   "metadata": {
    "nbgrader": {
     "grade": false,
     "grade_id": "cell-13c6001d48581e",
     "locked": false,
     "schema_version": 3,
     "solution": true,
     "task": false
    }
   },
   "outputs": [],
   "source": [
    "# YOUR CODE HERE"
   ]
  },
  {
   "cell_type": "markdown",
   "id": "78de4625",
   "metadata": {
    "nbgrader": {
     "grade": false,
     "grade_id": "cell-0cab937f51d9271a",
     "locked": true,
     "schema_version": 3,
     "solution": false,
     "task": false
    }
   },
   "source": [
    "You are almost there. Only thing left to do is implement a `delete` method to enable full removal of entries from the database.\n",
    "\n",
    "#### Implementing a delete method\n",
    "\n",
    "Sometimes we may wish to completely remove a product from our catalogue. In such cases, enabling the user to make a `delete` request may come in handy.\n",
    "\n",
    "<div class=\"alert alert-info\">\n",
    "    <b>Exercise 12</b> Write the code to implement a delete request for your api. When doing so, require the user to provide a valid <i>productID</i> and delete the corresponding entry from the database. Return the modified dataset as a response.</div>"
   ]
  },
  {
   "cell_type": "code",
   "execution_count": null,
   "id": "ccf16acd",
   "metadata": {
    "nbgrader": {
     "grade": false,
     "grade_id": "cell-b0bb9c1cf357a22f",
     "locked": false,
     "schema_version": 3,
     "solution": true,
     "task": false
    }
   },
   "outputs": [],
   "source": [
    "# YOUR CODE HERE"
   ]
  },
  {
   "cell_type": "markdown",
   "id": "259b3a62",
   "metadata": {
    "nbgrader": {
     "grade": false,
     "grade_id": "cell-08bbed4e934",
     "locked": true,
     "schema_version": 3,
     "solution": false,
     "task": false
    }
   },
   "source": [
    "Now check that your code is correct.\n",
    "\n",
    "<div class=\"alert alert-info\">\n",
    "    <b>Exercise 13</b> Write the code to make a delete request to the <b>products</b> endpoint of your api and remove entry with id 10260 created above.</div>"
   ]
  },
  {
   "cell_type": "code",
   "execution_count": null,
   "id": "353c7b86",
   "metadata": {
    "nbgrader": {
     "grade": false,
     "grade_id": "cell-16001d48581e",
     "locked": false,
     "schema_version": 3,
     "solution": true,
     "task": false
    }
   },
   "outputs": [],
   "source": [
    "# YOUR CODE HERE"
   ]
  },
  {
   "cell_type": "markdown",
   "id": "a2bc4612",
   "metadata": {
    "nbgrader": {
     "grade": false,
     "grade_id": "cell-9e38130ff363380d",
     "locked": true,
     "schema_version": 3,
     "solution": false,
     "task": false
    }
   },
   "source": [
    "<div class=\"alert alert-danger\">\n",
    "    <b>Bonus 3</b> Write the code to modify your code above, such that your api enables deletion based on attributes other than solely the <i>productId</i>. In particular, modify your code so that your delete method also enables deletion of several entries at the same time based on <b>brand</b> or <b>size</b>.\n",
    "</div>"
   ]
  },
  {
   "cell_type": "code",
   "execution_count": null,
   "id": "d6948878",
   "metadata": {
    "nbgrader": {
     "grade": false,
     "grade_id": "cell-03114c9bc2cd8b2f",
     "locked": false,
     "schema_version": 3,
     "solution": true,
     "task": false
    }
   },
   "outputs": [],
   "source": [
    "# YOUR CODE HERE"
   ]
  },
  {
   "cell_type": "markdown",
   "id": "b9dd755d",
   "metadata": {
    "nbgrader": {
     "grade": false,
     "grade_id": "cell-0ef19e65cf0ac09c",
     "locked": true,
     "schema_version": 3,
     "solution": false,
     "task": false
    }
   },
   "source": [
    "Looks like you are all set. You can now put it all together to create a final version of your api.\n",
    "\n",
    "### Adding an authentication scheme\n",
    "\n",
    "Currently, anyone can read, add, delete and update the products in our application. Now, let's learn how we can restrict the creation of products by any untrusted person (**Authentication**). Also, we will learn how to implement **Authorization** so that only the person who added the product in our application can delete/modify it.\n",
    "\n",
    "To implement these features, first of all, we must create a new database to store the user information. So, let's do it. Similar to our ```products``` database we are going to create a ```users``` database, such that whenever a user signs up, a new user entry is created with fields `email` and `password`.\n",
    "\n",
    "<div class=\"alert alert-info\">\n",
    "    <b>Exercise 14</b> Write the code to create an empty DataFrame called <i>df</i> that includes columns <b>email</b> and <b>password</b>. Then export the DataFrame to a new file called <b>users.csv</b>.</div>"
   ]
  },
  {
   "cell_type": "code",
   "execution_count": 42,
   "id": "083a36a7",
   "metadata": {
    "nbgrader": {
     "grade": false,
     "grade_id": "cell-9709a0eae13069",
     "locked": false,
     "schema_version": 3,
     "solution": true,
     "task": false
    }
   },
   "outputs": [],
   "source": [
    "# YOUR CODE HERE"
   ]
  },
  {
   "cell_type": "markdown",
   "id": "35d02289",
   "metadata": {
    "nbgrader": {
     "grade": false,
     "grade_id": "cell-fa3451d5391153",
     "locked": true,
     "schema_version": 3,
     "solution": false,
     "task": false
    }
   },
   "source": [
    "#### Creating a resource for signing up\n",
    "\n",
    "To allow users to sign up by using an email and a password ee will create a new resource called `SignUp`. When doing so, we want users to be able to create new entries in our `users.csv` database, but not view the full list of records nor make changes to it. Hence, we will only implement a `post` method for this resource.\n",
    "\n",
    "<div class=\"alert alert-info\">\n",
    "    <b>Exercise 15</b> Write the code to add a new resource called <b>SignUp</b> to your api and routes it to the <i>/signup</i> url and <i>signup</i> endpoint. This resource should implement a <b>post</b> method that takes an <i>email</i> and a <i>password</i> from the user and adds a new entry with this information to the <i>user.csv</i> database. It should return the message <i>Successfully signed up</i> upon completion of the process.</div>"
   ]
  },
  {
   "cell_type": "code",
   "execution_count": null,
   "id": "7dadb10c",
   "metadata": {
    "nbgrader": {
     "grade": false,
     "grade_id": "cell-30988aa890c8d1",
     "locked": false,
     "schema_version": 3,
     "solution": true,
     "task": false
    }
   },
   "outputs": [],
   "source": [
    "# YOUR CODE HERE"
   ]
  },
  {
   "cell_type": "markdown",
   "id": "a99ec0e7",
   "metadata": {
    "nbgrader": {
     "grade": false,
     "grade_id": "cel-08bbed4e9",
     "locked": true,
     "schema_version": 3,
     "solution": false,
     "task": false
    }
   },
   "source": [
    "Now check that your code is correct.\n",
    "\n",
    "<div class=\"alert alert-info\">\n",
    "    <b>Exercise 16</b> Write the code to make a post request to the <b>signup</b> endpoint and sign up using an email and password of your choosing.</div>"
   ]
  },
  {
   "cell_type": "code",
   "execution_count": null,
   "id": "61036597",
   "metadata": {
    "nbgrader": {
     "grade": false,
     "grade_id": "cel-16001d581e",
     "locked": false,
     "schema_version": 3,
     "solution": true,
     "task": false
    }
   },
   "outputs": [],
   "source": [
    "# YOUR CODE HERE"
   ]
  },
  {
   "cell_type": "markdown",
   "id": "5c1f4d02",
   "metadata": {
    "nbgrader": {
     "grade": false,
     "grade_id": "cell-14a0bc5a19a90e",
     "locked": true,
     "schema_version": 3,
     "solution": false,
     "task": false
    }
   },
   "source": [
    "Let's now think on this for a bit. Saving passwords in a plain string field is actually a terrible idea. Even if we don't allow direct access to our database, somebody might get access to it and then all user passwords would be exposed. To prevent that from happening, we are going to **hash** our passwords to some cryptic form so that nobody can find them easily.\n",
    "\n",
    "Hashing is the process of transforming any given key or string of characters into another value. This is usually represented by a shorter, fixed-length value or key that represents and makes it easier to find or employ the original string. For hashing our passwords we are going to use a popular hashing function called `bcrypt`. Luckyly for us, we won't need to implement this function ourselves. Instead, we are going to use a flask extension called `flask-bcrypt` for this. You can read all about it [here](https://flask-bcrypt.readthedocs.io/en/latest/).\n",
    "\n",
    "Run the cell below to manually install it.\n",
    "\n",
    "<div class=\"alert alert-warning\">\n",
    "    As before, remember that this cell need only be executed the first time you open this notebook. After you install the library, you will be able to import it anytime you need it.\n",
    "</div>"
   ]
  },
  {
   "cell_type": "code",
   "execution_count": null,
   "id": "36c58f6c",
   "metadata": {},
   "outputs": [],
   "source": [
    "pip install flask_bcrypt"
   ]
  },
  {
   "cell_type": "markdown",
   "id": "ccaa8ddc",
   "metadata": {
    "nbgrader": {
     "grade": false,
     "grade_id": "cell-af8d5d7c7411cbe7",
     "locked": true,
     "schema_version": 3,
     "solution": false,
     "task": false
    }
   },
   "source": [
    "We are going to use two methods from `flask_bcrypt`. For starters, we are going to create a password hash using the `generate_password_hash()` function. Later on, we are going to check if the password used by the user to login generates the hash which is equal to the password saved in the database using the `check_password_hash()` function.\n",
    "\n",
    "For now, let's initialize `flask_bcrypt` in your api. You can do so by importing class `Bcrypt` and instantiating an object of this class with your app as its unique attribute. Once having done that, modify your code above to enable hashing of the password in the `post` method for the `SignUp` resource.\n",
    "\n",
    "\n",
    "<div class=\"alert alert-info\">\n",
    "    <b>Exercise 17</b> Write the code to initialize <i>bcrypt</i> in your app. Then, modify your code above such that the post method in your <i>signup</i> endpoint saves the user email and the password hash instead of the original password.</div>"
   ]
  },
  {
   "cell_type": "code",
   "execution_count": null,
   "id": "3835bcf6",
   "metadata": {
    "nbgrader": {
     "grade": false,
     "grade_id": "cell-198c7fcfc99179b7",
     "locked": false,
     "schema_version": 3,
     "solution": true,
     "task": false
    }
   },
   "outputs": [],
   "source": [
    "# YOUR CODE HERE"
   ]
  },
  {
   "cell_type": "markdown",
   "id": "2bc35241",
   "metadata": {
    "nbgrader": {
     "grade": false,
     "grade_id": "cel-08bbytyd4e9",
     "locked": true,
     "schema_version": 3,
     "solution": false,
     "task": false
    }
   },
   "source": [
    "Now repeat the same process as before to sign up as a new user. This time, your code should store the password hash instead of the password itself in the lookup table `users.csv`.\n",
    "\n",
    "<div class=\"alert alert-info\">\n",
    "    <b>Exercise 18</b> Write the code to make a post request to the <b>signup</b> endpoint and sign up using an email and password of your choosing.</div>\n",
    "    \n",
    "<div class=\"alert alert-warning\">\n",
    "    Note that if you haven't removed the previously created entry from your <i>users.csv</i> dataset, the api may return an error message when trying to sign up using the same email.</div>"
   ]
  },
  {
   "cell_type": "code",
   "execution_count": null,
   "id": "7b2c81de",
   "metadata": {
    "nbgrader": {
     "grade": false,
     "grade_id": "cel-16001fhhd581e",
     "locked": false,
     "schema_version": 3,
     "solution": true,
     "task": false
    }
   },
   "outputs": [],
   "source": [
    "# YOUR CODE HERE"
   ]
  },
  {
   "cell_type": "markdown",
   "id": "aea74ea5",
   "metadata": {
    "nbgrader": {
     "grade": false,
     "grade_id": "cell-98ce81ebc77dbbb2",
     "locked": true,
     "schema_version": 3,
     "solution": false,
     "task": false
    }
   },
   "source": [
    "Alright, we have created the functionality of creating a user through `SignUp`, now we need to be able to login as that user. \n",
    "\n",
    "#### Creating a resource for logging in\n",
    "\n",
    "For logging users into a website, we need functionality to verify if the user is who they claim them to be. Requiring users to send their email and password every time they need to do something on the website doesn't seem like the best idea. Instead, we are going to add a functionality such that once a user is logged in they are given a **token** that they can use to interact with the api.\n",
    "\n",
    "There are many methods for working with token-based authentication. Here, we are going to use [JSON Web Token](https://jwt.io/introduction/) or JWT. To use JWT, you will need to install yet another flask extension called `flask-jwt-extended`. Do so by running the cell below."
   ]
  },
  {
   "cell_type": "code",
   "execution_count": null,
   "id": "8d7e155a",
   "metadata": {},
   "outputs": [],
   "source": [
    "pip install flask_jwt_extended"
   ]
  },
  {
   "cell_type": "markdown",
   "id": "0e0e084a",
   "metadata": {
    "nbgrader": {
     "grade": false,
     "grade_id": "cell-a875ce77960e1f79",
     "locked": true,
     "schema_version": 3,
     "solution": false,
     "task": false
    }
   },
   "source": [
    "The first step to using JWT is initializing it to the app. To do so, you will need to import the class `JWTManager`  from `flask_jwt_extended` and instantiate an object using your app as an attribute. This will unlock all JWT functionalities. In particular, to generate user tokens our `JWTManager` will combine a user value defined by us together with a secret-key that we provide. The secret-key we use to create a JWT can be anything, but should preferably be something hard to guess.\n",
    "\n",
    "The code below initializes the JWT functionality and includes a value for the secret-key as part of our apps configuration under the name `JWT_SECRET_KEY`.\n",
    "\n",
    "<div class=\"alert alert-info\">\n",
    "    <b>Exercise 19</b> Modify the code below to create a secret-key of your choosing and copy it to your script.</div>"
   ]
  },
  {
   "cell_type": "raw",
   "id": "bfa2f42e",
   "metadata": {
    "nbgrader": {
     "grade": false,
     "grade_id": "cell-62caf1359a9d2c51",
     "locked": true,
     "schema_version": 3,
     "solution": false,
     "task": false
    }
   },
   "source": [
    "from flask_jwt_extended import JWTManager\n",
    "\n",
    "app = Flask(__name__)\n",
    "api = Api(app)\n",
    "bcrypt = Bcrypt(app)\n",
    "jwt = JWTManager(app) # Setup the Flask-JWT-Extended extension\n",
    "app.config[\"JWT_SECRET_KEY\"] = \"super-secret-key\"  # Change this!"
   ]
  },
  {
   "cell_type": "markdown",
   "id": "b6cf8a52",
   "metadata": {
    "nbgrader": {
     "grade": false,
     "grade_id": "cell-178a2fb6652203e7",
     "locked": true,
     "schema_version": 3,
     "solution": false,
     "task": false
    }
   },
   "source": [
    "The code above will allow us to generate access tokens for users whenever their log in credentials are verified by our system. With this, we are finally ready to implement our `login` endpoint.\n",
    "\n",
    "We are going to implement a single `get` method for this endpoint. The method should require the user to provide their email and password. It should then search for the user with the given email in the `users.csv` database and check if the password sent is the same as the hashed password saved in the database. You can do so using the `check_password_hash` function from `flask_bcrypt`.\n",
    "\n",
    "If the password and email are correct an access token should be created for the user. To do so, you will need to import function `create_access_token` from `flask_jwt_extended`. This function takes two values as input. The first, `identity`, corresponds to a unique value assigned to each user. This value can be anything we want as long as it is unique and allows us to identify each user. The second value, `expires_delta` defines the duration of the token. Remember that access tokens are meant to expire in time. This parameter controls the time during which a token will be valid for authentication purposes. \n",
    "\n",
    "<div class=\"alert alert-info\">\n",
    "    <b>Exercise 20</b> Write the code to add a <b>LogIn</b> resource for your app. This resource should be routed to url <i>/login</i> and endpoint <i>login</i>. Implement a <b>get</b> method for this resource. Require the user to provide their <i>email</i> and <i>password</i> and write the code to check whether the provided password hash corresponds to the one stored in our <i>user.csv</i> database. If it is, write the code to create an access token which uses the index of the considered user entry in the <i>users.csv</i> database as identidier and which expires in 1 day.</div>\n",
    "\n",
    "<div class=\"alert alert-warning\">\n",
    "    In order to define an id for you will need to retrieve the index for each user. Remember that this is a value which is automatically assigned by pandas to every entry in a DataFrame. You can read more about indexing in Pandas <a href=\"https://pandas.pydata.org/docs/user_guide/indexing.html\">here</a>.\n",
    "</div>\n",
    "\n",
    "<div class=\"alert alert-warning\">\n",
    "    To set the duration of the tokens you will need to provide a timestamp value in the right format. You can use the <i>timedelta</i> method from <i>datetime</i> library for that purpose. Rea dmore about this feature <a href=\"https://docs.python.org/3/library/datetime.html\">here</a>.\n",
    "</div>"
   ]
  },
  {
   "cell_type": "code",
   "execution_count": null,
   "id": "616d832d",
   "metadata": {
    "nbgrader": {
     "grade": false,
     "grade_id": "cell-fddb148a665ee5d8",
     "locked": false,
     "schema_version": 3,
     "solution": true,
     "task": false
    }
   },
   "outputs": [],
   "source": [
    "# YOUR CODE HERE"
   ]
  },
  {
   "cell_type": "markdown",
   "id": "f2ba24f6",
   "metadata": {
    "nbgrader": {
     "grade": false,
     "grade_id": "cell-c8b23cfe72915e89",
     "locked": true,
     "schema_version": 3,
     "solution": false,
     "task": false
    }
   },
   "source": [
    "<div class=\"alert alert-info\">\n",
    "    <b>Exercise 21</b> Write the code to make a get request to the <b>login</b> endpoint and log in using your email and password and retrieve your access token. Save your token to a new variable called <b>access_token</b>.</div>"
   ]
  },
  {
   "cell_type": "code",
   "execution_count": null,
   "id": "c91eb3f2",
   "metadata": {
    "nbgrader": {
     "grade": false,
     "grade_id": "cell-be2ceee3d88b8846",
     "locked": false,
     "schema_version": 3,
     "solution": true,
     "task": false
    }
   },
   "outputs": [],
   "source": [
    "# YOUR CODE HERE"
   ]
  },
  {
   "cell_type": "markdown",
   "id": "497d2355",
   "metadata": {
    "nbgrader": {
     "grade": false,
     "grade_id": "cell-bcf0cdba36cba35a",
     "locked": true,
     "schema_version": 3,
     "solution": false,
     "task": false
    }
   },
   "source": [
    "You are almost done now. Only thing left to do is restrict an unauthorized user from adding, editing and deleting the products in our application. To do that, let's add `@jwt_required()` decorator from `flask_jwt_extended` to our endpoints. This protects our endpoints from invalid or expired jwt. \n",
    "\n",
    "<div class=\"alert alert-info\">\n",
    "    <b>Exercise 22</b> Write the code to add the <b>@jwt_required()</b> decorator to the post, put and delete methods. Then make a delete request to the <b>products</b> endpoint using your token and remove entry with <i>productId</i> 20339. What response do you obtain?</div>"
   ]
  },
  {
   "cell_type": "code",
   "execution_count": null,
   "id": "4bd4d6e0",
   "metadata": {
    "nbgrader": {
     "grade": false,
     "grade_id": "cell-e81de2f2fcfdad49",
     "locked": false,
     "schema_version": 3,
     "solution": true,
     "task": false
    }
   },
   "outputs": [],
   "source": [
    "# YOUR CODE HERE"
   ]
  },
  {
   "cell_type": "markdown",
   "id": "c624466b",
   "metadata": {
    "nbgrader": {
     "grade": false,
     "grade_id": "cell-568e4bb15a72ad2e",
     "locked": true,
     "schema_version": 3,
     "solution": false,
     "task": false
    }
   },
   "source": [
    "To gain access to the methods above, users will have to provide their `access_token` together with all the other required attributes as part of their requests. This will require that you modify the code for your methods to include this information.\n",
    "\n",
    "<div class=\"alert alert-info\">\n",
    "    <b>Exercise 23</b> Modify your code for the <b>put</b>, <b>post</b> and <b>delete</b> methods of the <i>products</i> resource, such that users provide a value for argument <i>Authorization</i> as part of the headers of their request.</div>"
   ]
  },
  {
   "cell_type": "code",
   "execution_count": null,
   "id": "da5e9218",
   "metadata": {
    "nbgrader": {
     "grade": false,
     "grade_id": "cell-828110e68e6329bf",
     "locked": false,
     "schema_version": 3,
     "solution": true,
     "task": false
    }
   },
   "outputs": [],
   "source": [
    "# YOUR CODE HERE"
   ]
  },
  {
   "cell_type": "markdown",
   "id": "83d6d539",
   "metadata": {
    "nbgrader": {
     "grade": false,
     "grade_id": "cell-b8ae77ed96d6eb43",
     "locked": true,
     "schema_version": 3,
     "solution": false,
     "task": false
    }
   },
   "source": [
    "Now check that everything works as expected.\n",
    "\n",
    "<div class=\"alert alert-info\">\n",
    "    <b>Exercise 24</b> Write the code to add the <b>@jwt_required()</b> decorator to the post, put and delete methods. Then make a delete request to the <b>products</b> endpoint using your token and remove entry with <i>productId</i> 20339. What response do you obtain?</div>"
   ]
  },
  {
   "cell_type": "code",
   "execution_count": null,
   "id": "d1ce258e",
   "metadata": {
    "nbgrader": {
     "grade": false,
     "grade_id": "cell-eaccb0185c76738a",
     "locked": false,
     "schema_version": 3,
     "solution": true,
     "task": false
    }
   },
   "outputs": [],
   "source": [
    "# YOUR CODE HERE"
   ]
  }
 ],
 "metadata": {
  "kernelspec": {
   "display_name": "Python 3 (ipykernel)",
   "language": "python",
   "name": "python3"
  },
  "language_info": {
   "codemirror_mode": {
    "name": "ipython",
    "version": 3
   },
   "file_extension": ".py",
   "mimetype": "text/x-python",
   "name": "python",
   "nbconvert_exporter": "python",
   "pygments_lexer": "ipython3",
   "version": "3.11.1"
  }
 },
 "nbformat": 4,
 "nbformat_minor": 5
}
