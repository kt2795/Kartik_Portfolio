{
 "cells": [
  {
   "cell_type": "markdown",
   "metadata": {
    "deletable": false,
    "editable": false,
    "nbgrader": {
     "cell_type": "markdown",
     "checksum": "6bab5dc4a9ae1fb8959e4be26f0ff10a",
     "grade": false,
     "grade_id": "cell-aad0d9693d861220",
     "locked": true,
     "schema_version": 3,
     "solution": false,
     "task": false
    }
   },
   "source": [
    "# Practice: Spotify's API @ ESADE\n",
    "\n",
    "This notebook contains a set of exercises that will guide you through the different steps of this practice exercise. Devise solutions that are code-based, i.e. not hard-coded or manually computed. You can monitor your progress by running the tests for each exercise. Thsi will allow you to spot your mistakes and correct them.\n",
    "\n",
    "<div class=\"alert alert-success\">The aim of this exercise is to create and save a dataset containing information about every song in a given playlist by requesting data from Spotify's API.</div>"
   ]
  },
  {
   "cell_type": "markdown",
   "metadata": {
    "deletable": false,
    "editable": false,
    "nbgrader": {
     "cell_type": "markdown",
     "checksum": "e1efaab6e57a3d65ffcb540555ef9a2b",
     "grade": false,
     "grade_id": "cell-e0139011318f6903",
     "locked": true,
     "schema_version": 3,
     "solution": false,
     "task": false
    }
   },
   "source": [
    "## Getting client credentials\n",
    "\n",
    "Spotify's API uses OAuth as an Authentication scheme. Hence, before starting to make requests, you need to get your client credentials to the Spotify API. \n",
    "\n",
    "To do so, you need to have a Spotify account (free or paid). If you don't have one yet, please create a free account before moving on. Once you do, head over to Spotify for Developers, open your [Dashboard](https://developer.spotify.com/dashboard/) and log in with your account. \n",
    "\n",
    "![Dashboard](https://www.dropbox.com/s/cpfepk5fbq6ic5a/dashboard.png?raw=1)\n",
    "\n",
    "Click on “CREATE AN APP”, choose a name and description for your project and work your way through the checkboxes. \n",
    "\n",
    "<img src=\"https://www.dropbox.com/s/afubgs4ar99uh80/app.png?raw=1\" width=\"300\">\n",
    "\n",
    "Don't worry about the actual name and description. The only thing we are interested in is getting the credentials.\n",
    "\n",
    "![Credentials](https://www.dropbox.com/s/3mmxxeet61nha4l/credentials.png?raw=1)\n",
    "\n",
    "Once your App has been created, you should see a “Client ID” and “Client Secret” on the left-hand side. These numbers correspond to your client credentials."
   ]
  },
  {
   "cell_type": "markdown",
   "metadata": {
    "deletable": false,
    "editable": false,
    "nbgrader": {
     "cell_type": "markdown",
     "checksum": "1497ad5d6fb2d5e0a38f58aa1f5c6d0b",
     "grade": false,
     "grade_id": "cell-4655de3fb67ffa5",
     "locked": true,
     "schema_version": 3,
     "solution": false,
     "task": false
    }
   },
   "source": [
    "<div class=\"alert alert-info\">Create two new variables, <b>client_id</b> and <b>client_secret</b>, that store your ID and Key, respectively</div>"
   ]
  },
  {
   "cell_type": "code",
   "execution_count": 276,
   "metadata": {
    "deletable": false,
    "nbgrader": {
     "cell_type": "code",
     "checksum": "ee951a884eeb6427e80e119f6b2aaf26",
     "grade": false,
     "grade_id": "cell-a8f99e4278237a63",
     "locked": false,
     "schema_version": 3,
     "solution": true,
     "task": false
    }
   },
   "outputs": [],
   "source": [
    "client_id  = \"99db58f8b86b47b495b4748d2bae49ae\"\n",
    "client_secret = \"010d0d26d46140e592f1d42811c15115\""
   ]
  },
  {
   "cell_type": "markdown",
   "metadata": {
    "deletable": false,
    "editable": false,
    "nbgrader": {
     "cell_type": "markdown",
     "checksum": "61428db5788c061a0a0c4463bf36744c",
     "grade": false,
     "grade_id": "cell-49933e4db6b9f0fc",
     "locked": true,
     "schema_version": 3,
     "solution": false,
     "task": false
    }
   },
   "source": [
    "These are the keys that you will use throughout the remaining of the assignment.\n",
    "\n",
    "Run the following cell to check that you created them properly. If you get no error when running the cell it means that everything is OK. You can run this cell as many times as you want as long as you **don't modify it**.\n",
    "\n",
    "<div class=\"alert alert-danger\"> Make sure you pass this test successfully before moving on to the remaining exercises.</div>"
   ]
  },
  {
   "cell_type": "code",
   "execution_count": 277,
   "metadata": {},
   "outputs": [],
   "source": [
    "#Revert and understand the unittest dictionary and the test code pasted here"
   ]
  },
  {
   "cell_type": "code",
   "execution_count": 278,
   "metadata": {
    "deletable": false,
    "editable": false,
    "nbgrader": {
     "cell_type": "code",
     "checksum": "ce1df8c9ccf10139b14d609b55536530",
     "grade": false,
     "grade_id": "cell-681d02420769291c",
     "locked": true,
     "schema_version": 3,
     "solution": false,
     "task": false
    }
   },
   "outputs": [],
   "source": [
    "import unittest\n",
    "\n",
    "tc = unittest.TestCase()\n",
    "tc.assertTrue('client_id' in locals())\n",
    "tc.assertTrue('client_secret' in locals())\n",
    "tc.assertIsInstance(client_id, str)\n",
    "tc.assertIsInstance(client_secret, str)\n",
    "tc.assertTrue(client_id.isalnum())\n",
    "tc.assertTrue(client_secret.isalnum())"
   ]
  },
  {
   "cell_type": "markdown",
   "metadata": {
    "deletable": false,
    "editable": false,
    "nbgrader": {
     "cell_type": "markdown",
     "checksum": "b4eea321904500000f1b6a7d90bd3c0b",
     "grade": false,
     "grade_id": "cell-64dcea57f1ef17bb",
     "locked": true,
     "schema_version": 3,
     "solution": false,
     "task": false
    }
   },
   "source": [
    "Great! We are good to go. Next step is getting an access token.\n",
    "\n",
    "## Getting an access token\n",
    "\n",
    "In order to access the various endpoints of the Spotify API, we need to pass an access token. To get one, we need to pass a ```POST``` request with our client credentials. This request will create a token resource in the server and respond back with it. We can build this ```POST``` request using ```requests``` library. \n",
    "\n",
    "<div class=\"alert alert-info\">Run the following cell to built your POST request</div>"
   ]
  },
  {
   "cell_type": "code",
   "execution_count": 279,
   "metadata": {
    "deletable": false,
    "editable": false,
    "nbgrader": {
     "cell_type": "code",
     "checksum": "6b7aba733f6bd1d2a2761526fe6d951f",
     "grade": false,
     "grade_id": "cell-b8e8ca29681cdd42",
     "locked": true,
     "schema_version": 3,
     "solution": false,
     "task": false
    }
   },
   "outputs": [],
   "source": [
    "import requests\n",
    "\n",
    "# URL for token resource\n",
    "auth_url = 'https://accounts.spotify.com/api/token'\n",
    "\n",
    "# request body\n",
    "params = {'grant_type': 'client_credentials',\n",
    "          'client_id': client_id,\n",
    "          'client_secret': client_secret}\n",
    "\n",
    "# POST the request\n",
    "auth_response = requests.post(auth_url, params).json()"
   ]
  },
  {
   "cell_type": "markdown",
   "metadata": {
    "deletable": false,
    "editable": false,
    "nbgrader": {
     "cell_type": "markdown",
     "checksum": "46f10215736bfccf94a4d67889154434",
     "grade": false,
     "grade_id": "cell-4655de3f67ffa5",
     "locked": true,
     "schema_version": 3,
     "solution": false,
     "task": false
    }
   },
   "source": [
    "Take a look at the response you obtained. The access_token you just retrieved will expire after one hour.\n",
    "\n",
    "<div class=\"alert alert-info\">Retrieve your token from <b>auth_response</b> and save it in a new variable called <b>access_token</b>. </div>\n",
    "\n",
    "<div class=\"alert alert-warning\">Make sure you define the <i>access_token</i> variable such that it will be updated each time your code is run from scratch, i.e. make sure it hasn't expired by the time your code is graded.</div>"
   ]
  },
  {
   "cell_type": "code",
   "execution_count": 280,
   "metadata": {
    "deletable": false,
    "nbgrader": {
     "cell_type": "code",
     "checksum": "7e315e1b5f356569bf6342699c8a86ef",
     "grade": false,
     "grade_id": "cell-a36c1578e8991a09",
     "locked": false,
     "schema_version": 3,
     "solution": true,
     "task": false
    }
   },
   "outputs": [],
   "source": [
    "access_token = auth_response['access_token']\n",
    "#print(auth_response)\n",
    "#print(access_token)"
   ]
  },
  {
   "cell_type": "markdown",
   "metadata": {
    "deletable": false,
    "editable": false,
    "nbgrader": {
     "cell_type": "markdown",
     "checksum": "9edab5502cdaef07562131f21a1c962f",
     "grade": false,
     "grade_id": "cell-4933e4db6b9f0fc",
     "locked": true,
     "schema_version": 3,
     "solution": false,
     "task": false
    }
   },
   "source": [
    "As above, the access token will be used throughout the remaining of the assignment.\n",
    "\n",
    "Run the following cell to check that you created it properly. If you get no error when running the cell it means that everything is OK. You can run this cell as many times as you want as long as you **don't modify it**.\n",
    "\n",
    "<div class=\"alert alert-danger\"> Make sure you pass this test successfully before moving on to the remaining exercises.</div>"
   ]
  },
  {
   "cell_type": "code",
   "execution_count": 281,
   "metadata": {
    "deletable": false,
    "editable": false,
    "nbgrader": {
     "cell_type": "code",
     "checksum": "70263927f63f2fffb72bd3a2457e55ca",
     "grade": false,
     "grade_id": "cell-61d02420769291c",
     "locked": true,
     "schema_version": 3,
     "solution": false,
     "task": false
    }
   },
   "outputs": [],
   "source": [
    "import unittest\n",
    "\n",
    "tc = unittest.TestCase()\n",
    "tc.assertTrue('access_token' in locals())\n",
    "tc.assertIsInstance(access_token, str)"
   ]
  },
  {
   "cell_type": "markdown",
   "metadata": {
    "deletable": false,
    "editable": false,
    "nbgrader": {
     "cell_type": "markdown",
     "checksum": "e8a702de4e29d1c8f452f0323ce314de",
     "grade": false,
     "grade_id": "cell-bf970f92289da11f",
     "locked": true,
     "schema_version": 3,
     "solution": false,
     "task": false
    }
   },
   "source": [
    "This token is your golden ticket to access Spotify's API. A copy of this string is now stored in the server, so that everytime you make a request to the API the server will check that the token you provide and the one it has in store match.\n",
    "\n",
    "<img src=\"https://www.dropbox.com/s/hgb02k4h1mtdv22/header.png?raw=1\" width=\"500\">\n",
    "\n",
    "As opposed to NASA's API, where we provided our API Key as part of the request body, Spotify's API expects you to include your access token in the requests header. There is a specific header called 'Authorization' for this purpose. Providing this information is sometimes tricky. Hence, the header has already been formatted for you. \n",
    "\n",
    "<div class=\"alert alert-info\">Run the following cell to save the header in a new variable so that you can use it later on.</div>"
   ]
  },
  {
   "cell_type": "code",
   "execution_count": 282,
   "metadata": {},
   "outputs": [],
   "source": [
    "#Clarify how do we learn to do this?"
   ]
  },
  {
   "cell_type": "code",
   "execution_count": 283,
   "metadata": {
    "deletable": false,
    "editable": false,
    "nbgrader": {
     "cell_type": "code",
     "checksum": "285adc76fcbaf501872498b0ab6831e9",
     "grade": false,
     "grade_id": "cell-833fb722a3560430",
     "locked": true,
     "schema_version": 3,
     "solution": false,
     "task": false
    }
   },
   "outputs": [],
   "source": [
    "headers = {'Authorization': 'Bearer {token}'.format(token=access_token)}"
   ]
  },
  {
   "cell_type": "markdown",
   "metadata": {
    "deletable": false,
    "editable": false,
    "nbgrader": {
     "cell_type": "markdown",
     "checksum": "af98ff50781069b34e25c69aca3b3ce4",
     "grade": false,
     "grade_id": "cell-d5a8d2ff0308a4e1",
     "locked": true,
     "schema_version": 3,
     "solution": false,
     "task": false
    }
   },
   "source": [
    "## Poking around\n",
    "\n",
    "Spotify's API provides numerous endpoints to access things like album listings, artist information, playlists, even Spotify-generated audio analysis of individual tracks, which include their time signature or measurements such as their “danceability” or \"loudness\". You can take a look at all the information available by reading the [Docs](https://developer.spotify.com/documentation/web-api/reference/). In this assignment you will use several of these endpoints.\n",
    "\n",
    "In order to get a feel of how the API works, we will begin by making a ```GET``` request to the ```audio-features``` endpoint to extract data for a specific track. In particular, let's retrieve all the information for Radiohead's *Creep* song. \n",
    "\n",
    "The first thing you need is to identify the appropriate URL or path to direct your request to. The urls for all Spotify API endpoints follow the same structure. They all use the base URL for the API and are then defined as a concatenation of ```base_url + endpoint```. Sometimes, you will also need to provide some additional information as part of the URL. In the case of ```audio-features```, however, it is enough with just the ```base_url``` and the ```endpoint``` name.\n",
    "\n",
    "The ```base_url``` is defined below:"
   ]
  },
  {
   "cell_type": "code",
   "execution_count": 284,
   "metadata": {
    "deletable": false,
    "editable": false,
    "nbgrader": {
     "cell_type": "code",
     "checksum": "57e51c779db2018952d09477ceb53b3f",
     "grade": false,
     "grade_id": "cell-d3cb0c4134cdbf9b",
     "locked": true,
     "schema_version": 3,
     "solution": false,
     "task": false
    }
   },
   "outputs": [],
   "source": [
    "base_url = 'https://api.spotify.com/v1/'"
   ]
  },
  {
   "cell_type": "markdown",
   "metadata": {
    "deletable": false,
    "editable": false,
    "nbgrader": {
     "cell_type": "markdown",
     "checksum": "c95a00ff95482cfcb3251112ed5cd834",
     "grade": false,
     "grade_id": "cell-4655de3f6ffa5",
     "locked": true,
     "schema_version": 3,
     "solution": false,
     "task": false
    }
   },
   "source": [
    "<div class=\"alert alert-info\">Define the url for the audio-features endpoint by following the instructions above. Store it in a variable called <b>audio_features_endpoint</b>.</div>"
   ]
  },
  {
   "cell_type": "code",
   "execution_count": 285,
   "metadata": {
    "deletable": false,
    "nbgrader": {
     "cell_type": "code",
     "checksum": "51e030ad7bd50b1c76e00f6c9005c5dd",
     "grade": false,
     "grade_id": "cell-ca3d8e649e362237",
     "locked": false,
     "schema_version": 3,
     "solution": true,
     "task": false
    }
   },
   "outputs": [],
   "source": [
    "audio_features_endpoint = 'audio-features'\n",
    "url = base_url+audio_features_endpoint"
   ]
  },
  {
   "cell_type": "markdown",
   "metadata": {
    "deletable": false,
    "editable": false,
    "nbgrader": {
     "cell_type": "markdown",
     "checksum": "b00f3bbccaf59c7f65fb111fd7cf0c73",
     "grade": false,
     "grade_id": "cell-abc5bc0d1f57c982",
     "locked": true,
     "schema_version": 3,
     "solution": false,
     "task": false
    }
   },
   "source": [
    "Next thing we need is to fill in the request body. If you check the documentation you'll see that the ```audio-features``` endpoint takes the following query parameters.\n",
    "\n",
    "<img src=\"https://www.dropbox.com/s/s4zs6wlue0u16cu/body.png?raw=1\" width=\"500\">\n",
    "\n",
    "Hence, the final thing you need to extract data about Radiohead's Creep song is to locate its ```id```. This is its unique identifier. Spotify has unique ids for tracks, for artists, for albums, for playlists, etc.\n",
    "\n",
    "![Creep](https://www.dropbox.com/s/kufj6ww2yn069gb/creep.png?raw=1)\n",
    "\n",
    "You can get the ```id``` for any song by going to Spotify, looking for the song, clicking the “…” by the song name, then “Share” and then “Copy Spotify URI”. \n",
    "\n",
    "<div class=\"alert alert-warning\">Note that this procedure also works for retrieving ids for artists, albums or any other resource type. Alternatively, you can also retrieve the id for a song or a playlist by clicking \"...\" by the name, then \"Share\" and the \"Copy Link\". This will return a full link to the resource. The id corresponds to the string right after the last slash sign / and before the ? sign</div>\n",
    "\n",
    "This URI should be a string that includes something like **spotify:track:**, followed by an alphanumeric sequence. This sequence is the ID you are looking for.\n",
    "\n",
    "<div class=\"alert alert-info\">Create a new variable called <b>track_id</b> that stores the ID for Radiohead's song Creep.</div>"
   ]
  },
  {
   "cell_type": "code",
   "execution_count": 286,
   "metadata": {
    "deletable": false,
    "nbgrader": {
     "cell_type": "code",
     "checksum": "e17fd2ba59901974feeb6649ac56a98c",
     "grade": false,
     "grade_id": "cell-a82a3e3a0e9e9b53",
     "locked": false,
     "schema_version": 3,
     "solution": true,
     "task": false
    }
   },
   "outputs": [],
   "source": [
    "track_id = '70LcF31zb1H0PyJoS1Sx1r'"
   ]
  },
  {
   "cell_type": "markdown",
   "metadata": {
    "deletable": false,
    "editable": false,
    "nbgrader": {
     "cell_type": "markdown",
     "checksum": "b23aefb9f4882cae51d7ed3baad9931b",
     "grade": false,
     "grade_id": "cell-b188551976021039",
     "locked": true,
     "schema_version": 3,
     "solution": false,
     "task": false
    }
   },
   "source": [
    "Now that you have the id, let's format the body of the request. As you did for NASA's API, you can provide the body in dictionary form. The keys of the dictionary should correspond to the different query parameters in the documentation.\n",
    "\n",
    "<div class=\"alert alert-info\">Create a dictionary called <b>params</b> that stores the body of your request. Make sure you format it in the right way.</div>"
   ]
  },
  {
   "cell_type": "code",
   "execution_count": 287,
   "metadata": {
    "deletable": false,
    "nbgrader": {
     "cell_type": "code",
     "checksum": "ce9fb29c199bd5a71d2a894acd4755f2",
     "grade": false,
     "grade_id": "cell-e545a287ebd3c44c",
     "locked": false,
     "schema_version": 3,
     "solution": true,
     "task": false
    }
   },
   "outputs": [],
   "source": [
    "params = {'ids':track_id}"
   ]
  },
  {
   "cell_type": "markdown",
   "metadata": {
    "deletable": false,
    "editable": false,
    "nbgrader": {
     "cell_type": "markdown",
     "checksum": "9467de516c25f6745a72b2ef1e7d49bf",
     "grade": false,
     "grade_id": "cell-2316de9d4e91bc6f",
     "locked": true,
     "schema_version": 3,
     "solution": false,
     "task": false
    }
   },
   "source": [
    "Now that everything is ready, you can send the actual GET request to retrieve the data.\n",
    "\n",
    "<div class=\"alert alert-info\">Write the code to make your get request using the requests library. When doing so, remember to pass the <i>url</i>, the <i>headers</i> and the <i>params</i> dictionary as arguments to the <i>get</i> function. Convert the response to <i>json</i> format and store it in a new variable called <b>creep</b>.</div>"
   ]
  },
  {
   "cell_type": "code",
   "execution_count": 288,
   "metadata": {
    "deletable": false,
    "nbgrader": {
     "cell_type": "code",
     "checksum": "eacef4de7311638564220f7d50dba5a0",
     "grade": false,
     "grade_id": "cell-6374d923d8f04079",
     "locked": false,
     "schema_version": 3,
     "solution": true,
     "task": false
    }
   },
   "outputs": [
    {
     "data": {
      "text/plain": [
       "{'audio_features': [{'danceability': 0.515,\n",
       "   'energy': 0.43,\n",
       "   'key': 7,\n",
       "   'loudness': -9.935,\n",
       "   'mode': 1,\n",
       "   'speechiness': 0.0372,\n",
       "   'acousticness': 0.0097,\n",
       "   'instrumentalness': 0.000133,\n",
       "   'liveness': 0.129,\n",
       "   'valence': 0.104,\n",
       "   'tempo': 91.844,\n",
       "   'type': 'audio_features',\n",
       "   'id': '70LcF31zb1H0PyJoS1Sx1r',\n",
       "   'uri': 'spotify:track:70LcF31zb1H0PyJoS1Sx1r',\n",
       "   'track_href': 'https://api.spotify.com/v1/tracks/70LcF31zb1H0PyJoS1Sx1r',\n",
       "   'analysis_url': 'https://api.spotify.com/v1/audio-analysis/70LcF31zb1H0PyJoS1Sx1r',\n",
       "   'duration_ms': 238640,\n",
       "   'time_signature': 4}]}"
      ]
     },
     "execution_count": 288,
     "metadata": {},
     "output_type": "execute_result"
    }
   ],
   "source": [
    "import requests\n",
    "creep = requests.get(url,params=params,headers=headers)\n",
    "creep.json()"
   ]
  },
  {
   "cell_type": "markdown",
   "metadata": {
    "deletable": false,
    "editable": false,
    "nbgrader": {
     "cell_type": "markdown",
     "checksum": "c02401130bf7126deee5228a054cb612",
     "grade": false,
     "grade_id": "cell-238505ce76d4ddd7",
     "locked": true,
     "schema_version": 3,
     "solution": false,
     "task": false
    }
   },
   "source": [
    "You can run the following cell to check if you obtained the right answer. If you get no error when running the cell it means that you did right. Otherwise, revise your code to ensure you get no error. You can run this cell as many times as you want, just **remember not to modify it**.\n",
    "\n",
    "<div class=\"alert alert-danger\"> Make sure you pass this test successfully before moving on to the remaining exercises. </div>\n",
    "\n",
    "<div class=\"alert alert-warning\">Often Spotify has several instances of a track in its catalogue, each available in a different set of markets. This commonly happens when the track the album is on has been released multiple times under different licenses in different markets. These tracks are linked together so that when a user tries to play a track that isn’t available in their own market, the Spotify mobile, desktop, and web players try to play another instance of the track that is available in the user’s market. Even if this issue won't prevent you from being able to play the  song in your device, it might result in different ids for the different markets. Note that the test below is written taking the values for the Spanish market into account.</div>\n",
    "\n",
    "<div class=\"alert alert-warning\">Note that you can specify the market for this and for future queries through the <i>market</i> parameter.</div>"
   ]
  },
  {
   "cell_type": "code",
   "execution_count": 289,
   "metadata": {
    "deletable": false,
    "editable": false,
    "nbgrader": {
     "cell_type": "code",
     "checksum": "87481bba76c5cf219cb5ff6cd4ef30bf",
     "grade": false,
     "grade_id": "open",
     "locked": true,
     "schema_version": 3,
     "solution": false,
     "task": false
    }
   },
   "outputs": [
    {
     "ename": "AssertionError",
     "evalue": "<Response [200]> != {'audio_features': [{'danceability': 0.51[494 chars] 4}]}",
     "output_type": "error",
     "traceback": [
      "\u001b[1;31m---------------------------------------------------------------------------\u001b[0m",
      "\u001b[1;31mAssertionError\u001b[0m                            Traceback (most recent call last)",
      "Input \u001b[1;32mIn [289]\u001b[0m, in \u001b[0;36m<cell line: 2>\u001b[1;34m()\u001b[0m\n\u001b[0;32m      1\u001b[0m tc \u001b[38;5;241m=\u001b[39m unittest\u001b[38;5;241m.\u001b[39mTestCase()\n\u001b[1;32m----> 2\u001b[0m \u001b[43mtc\u001b[49m\u001b[38;5;241;43m.\u001b[39;49m\u001b[43massertEqual\u001b[49m\u001b[43m(\u001b[49m\u001b[43mcreep\u001b[49m\u001b[43m,\u001b[49m\u001b[43m \u001b[49m\u001b[43m{\u001b[49m\u001b[38;5;124;43m'\u001b[39;49m\u001b[38;5;124;43maudio_features\u001b[39;49m\u001b[38;5;124;43m'\u001b[39;49m\u001b[43m:\u001b[49m\u001b[43m \u001b[49m\u001b[43m[\u001b[49m\u001b[43m{\u001b[49m\u001b[38;5;124;43m'\u001b[39;49m\u001b[38;5;124;43mdanceability\u001b[39;49m\u001b[38;5;124;43m'\u001b[39;49m\u001b[43m:\u001b[49m\u001b[43m \u001b[49m\u001b[38;5;241;43m0.515\u001b[39;49m\u001b[43m,\u001b[49m\n\u001b[0;32m      3\u001b[0m \u001b[43m                                         \u001b[49m\u001b[38;5;124;43m'\u001b[39;49m\u001b[38;5;124;43menergy\u001b[39;49m\u001b[38;5;124;43m'\u001b[39;49m\u001b[43m:\u001b[49m\u001b[43m \u001b[49m\u001b[38;5;241;43m0.43\u001b[39;49m\u001b[43m,\u001b[49m\n\u001b[0;32m      4\u001b[0m \u001b[43m                                         \u001b[49m\u001b[38;5;124;43m'\u001b[39;49m\u001b[38;5;124;43mkey\u001b[39;49m\u001b[38;5;124;43m'\u001b[39;49m\u001b[43m:\u001b[49m\u001b[43m \u001b[49m\u001b[38;5;241;43m7\u001b[39;49m\u001b[43m,\u001b[49m\n\u001b[0;32m      5\u001b[0m \u001b[43m                                         \u001b[49m\u001b[38;5;124;43m'\u001b[39;49m\u001b[38;5;124;43mloudness\u001b[39;49m\u001b[38;5;124;43m'\u001b[39;49m\u001b[43m:\u001b[49m\u001b[43m \u001b[49m\u001b[38;5;241;43m-\u001b[39;49m\u001b[38;5;241;43m9.935\u001b[39;49m\u001b[43m,\u001b[49m\n\u001b[0;32m      6\u001b[0m \u001b[43m                                         \u001b[49m\u001b[38;5;124;43m'\u001b[39;49m\u001b[38;5;124;43mmode\u001b[39;49m\u001b[38;5;124;43m'\u001b[39;49m\u001b[43m:\u001b[49m\u001b[43m \u001b[49m\u001b[38;5;241;43m1\u001b[39;49m\u001b[43m,\u001b[49m\n\u001b[0;32m      7\u001b[0m \u001b[43m                                         \u001b[49m\u001b[38;5;124;43m'\u001b[39;49m\u001b[38;5;124;43mspeechiness\u001b[39;49m\u001b[38;5;124;43m'\u001b[39;49m\u001b[43m:\u001b[49m\u001b[43m \u001b[49m\u001b[38;5;241;43m0.0369\u001b[39;49m\u001b[43m,\u001b[49m\n\u001b[0;32m      8\u001b[0m \u001b[43m                                         \u001b[49m\u001b[38;5;124;43m'\u001b[39;49m\u001b[38;5;124;43macousticness\u001b[39;49m\u001b[38;5;124;43m'\u001b[39;49m\u001b[43m:\u001b[49m\u001b[43m \u001b[49m\u001b[38;5;241;43m0.0102\u001b[39;49m\u001b[43m,\u001b[49m\n\u001b[0;32m      9\u001b[0m \u001b[43m                                         \u001b[49m\u001b[38;5;124;43m'\u001b[39;49m\u001b[38;5;124;43minstrumentalness\u001b[39;49m\u001b[38;5;124;43m'\u001b[39;49m\u001b[43m:\u001b[49m\u001b[43m \u001b[49m\u001b[38;5;241;43m0.000141\u001b[39;49m\u001b[43m,\u001b[49m\n\u001b[0;32m     10\u001b[0m \u001b[43m                                         \u001b[49m\u001b[38;5;124;43m'\u001b[39;49m\u001b[38;5;124;43mliveness\u001b[39;49m\u001b[38;5;124;43m'\u001b[39;49m\u001b[43m:\u001b[49m\u001b[43m \u001b[49m\u001b[38;5;241;43m0.129\u001b[39;49m\u001b[43m,\u001b[49m\n\u001b[0;32m     11\u001b[0m \u001b[43m                                         \u001b[49m\u001b[38;5;124;43m'\u001b[39;49m\u001b[38;5;124;43mvalence\u001b[39;49m\u001b[38;5;124;43m'\u001b[39;49m\u001b[43m:\u001b[49m\u001b[43m \u001b[49m\u001b[38;5;241;43m0.104\u001b[39;49m\u001b[43m,\u001b[49m\n\u001b[0;32m     12\u001b[0m \u001b[43m                                         \u001b[49m\u001b[38;5;124;43m'\u001b[39;49m\u001b[38;5;124;43mtempo\u001b[39;49m\u001b[38;5;124;43m'\u001b[39;49m\u001b[43m:\u001b[49m\u001b[43m \u001b[49m\u001b[38;5;241;43m91.841\u001b[39;49m\u001b[43m,\u001b[49m\n\u001b[0;32m     13\u001b[0m \u001b[43m                                         \u001b[49m\u001b[38;5;124;43m'\u001b[39;49m\u001b[38;5;124;43mtype\u001b[39;49m\u001b[38;5;124;43m'\u001b[39;49m\u001b[43m:\u001b[49m\u001b[43m \u001b[49m\u001b[38;5;124;43m'\u001b[39;49m\u001b[38;5;124;43maudio_features\u001b[39;49m\u001b[38;5;124;43m'\u001b[39;49m\u001b[43m,\u001b[49m\n\u001b[0;32m     14\u001b[0m \u001b[43m                                         \u001b[49m\u001b[38;5;124;43m'\u001b[39;49m\u001b[38;5;124;43mid\u001b[39;49m\u001b[38;5;124;43m'\u001b[39;49m\u001b[43m:\u001b[49m\u001b[43m \u001b[49m\u001b[38;5;124;43m'\u001b[39;49m\u001b[38;5;124;43m6b2oQwSGFkzsMtQruIWm2p\u001b[39;49m\u001b[38;5;124;43m'\u001b[39;49m\u001b[43m,\u001b[49m\n\u001b[0;32m     15\u001b[0m \u001b[43m                                         \u001b[49m\u001b[38;5;124;43m'\u001b[39;49m\u001b[38;5;124;43muri\u001b[39;49m\u001b[38;5;124;43m'\u001b[39;49m\u001b[43m:\u001b[49m\u001b[43m \u001b[49m\u001b[38;5;124;43m'\u001b[39;49m\u001b[38;5;124;43mspotify:track:6b2oQwSGFkzsMtQruIWm2p\u001b[39;49m\u001b[38;5;124;43m'\u001b[39;49m\u001b[43m,\u001b[49m\n\u001b[0;32m     16\u001b[0m \u001b[43m                                         \u001b[49m\u001b[38;5;124;43m'\u001b[39;49m\u001b[38;5;124;43mtrack_href\u001b[39;49m\u001b[38;5;124;43m'\u001b[39;49m\u001b[43m:\u001b[49m\u001b[43m \u001b[49m\u001b[38;5;124;43m'\u001b[39;49m\u001b[38;5;124;43mhttps://api.spotify.com/v1/tracks/6b2oQwSGFkzsMtQruIWm2p\u001b[39;49m\u001b[38;5;124;43m'\u001b[39;49m\u001b[43m,\u001b[49m\n\u001b[0;32m     17\u001b[0m \u001b[43m                                         \u001b[49m\u001b[38;5;124;43m'\u001b[39;49m\u001b[38;5;124;43manalysis_url\u001b[39;49m\u001b[38;5;124;43m'\u001b[39;49m\u001b[43m:\u001b[49m\u001b[43m \u001b[49m\u001b[38;5;124;43m'\u001b[39;49m\u001b[38;5;124;43mhttps://api.spotify.com/v1/audio-analysis/6b2oQwSGFkzsMtQruIWm2p\u001b[39;49m\u001b[38;5;124;43m'\u001b[39;49m\u001b[43m,\u001b[49m\n\u001b[0;32m     18\u001b[0m \u001b[43m                                         \u001b[49m\u001b[38;5;124;43m'\u001b[39;49m\u001b[38;5;124;43mduration_ms\u001b[39;49m\u001b[38;5;124;43m'\u001b[39;49m\u001b[43m:\u001b[49m\u001b[43m \u001b[49m\u001b[38;5;241;43m238640\u001b[39;49m\u001b[43m,\u001b[49m\n\u001b[0;32m     19\u001b[0m \u001b[43m                                         \u001b[49m\u001b[38;5;124;43m'\u001b[39;49m\u001b[38;5;124;43mtime_signature\u001b[39;49m\u001b[38;5;124;43m'\u001b[39;49m\u001b[43m:\u001b[49m\u001b[43m \u001b[49m\u001b[38;5;241;43m4\u001b[39;49m\u001b[43m}\u001b[49m\u001b[43m]\u001b[49m\u001b[43m}\u001b[49m\u001b[43m)\u001b[49m\n",
      "File \u001b[1;32m~\\anaconda3\\lib\\unittest\\case.py:837\u001b[0m, in \u001b[0;36mTestCase.assertEqual\u001b[1;34m(self, first, second, msg)\u001b[0m\n\u001b[0;32m    833\u001b[0m \u001b[38;5;124;03m\"\"\"Fail if the two objects are unequal as determined by the '=='\u001b[39;00m\n\u001b[0;32m    834\u001b[0m \u001b[38;5;124;03m   operator.\u001b[39;00m\n\u001b[0;32m    835\u001b[0m \u001b[38;5;124;03m\"\"\"\u001b[39;00m\n\u001b[0;32m    836\u001b[0m assertion_func \u001b[38;5;241m=\u001b[39m \u001b[38;5;28mself\u001b[39m\u001b[38;5;241m.\u001b[39m_getAssertEqualityFunc(first, second)\n\u001b[1;32m--> 837\u001b[0m \u001b[43massertion_func\u001b[49m\u001b[43m(\u001b[49m\u001b[43mfirst\u001b[49m\u001b[43m,\u001b[49m\u001b[43m \u001b[49m\u001b[43msecond\u001b[49m\u001b[43m,\u001b[49m\u001b[43m \u001b[49m\u001b[43mmsg\u001b[49m\u001b[38;5;241;43m=\u001b[39;49m\u001b[43mmsg\u001b[49m\u001b[43m)\u001b[49m\n",
      "File \u001b[1;32m~\\anaconda3\\lib\\unittest\\case.py:830\u001b[0m, in \u001b[0;36mTestCase._baseAssertEqual\u001b[1;34m(self, first, second, msg)\u001b[0m\n\u001b[0;32m    828\u001b[0m standardMsg \u001b[38;5;241m=\u001b[39m \u001b[38;5;124m'\u001b[39m\u001b[38;5;132;01m%s\u001b[39;00m\u001b[38;5;124m != \u001b[39m\u001b[38;5;132;01m%s\u001b[39;00m\u001b[38;5;124m'\u001b[39m \u001b[38;5;241m%\u001b[39m _common_shorten_repr(first, second)\n\u001b[0;32m    829\u001b[0m msg \u001b[38;5;241m=\u001b[39m \u001b[38;5;28mself\u001b[39m\u001b[38;5;241m.\u001b[39m_formatMessage(msg, standardMsg)\n\u001b[1;32m--> 830\u001b[0m \u001b[38;5;28;01mraise\u001b[39;00m \u001b[38;5;28mself\u001b[39m\u001b[38;5;241m.\u001b[39mfailureException(msg)\n",
      "\u001b[1;31mAssertionError\u001b[0m: <Response [200]> != {'audio_features': [{'danceability': 0.51[494 chars] 4}]}"
     ]
    }
   ],
   "source": [
    "tc = unittest.TestCase()\n",
    "tc.assertEqual(creep, {'audio_features': [{'danceability': 0.515,\n",
    "                                         'energy': 0.43,\n",
    "                                         'key': 7,\n",
    "                                         'loudness': -9.935,\n",
    "                                         'mode': 1,\n",
    "                                         'speechiness': 0.0369,\n",
    "                                         'acousticness': 0.0102,\n",
    "                                         'instrumentalness': 0.000141,\n",
    "                                         'liveness': 0.129,\n",
    "                                         'valence': 0.104,\n",
    "                                         'tempo': 91.841,\n",
    "                                         'type': 'audio_features',\n",
    "                                         'id': '6b2oQwSGFkzsMtQruIWm2p',\n",
    "                                         'uri': 'spotify:track:6b2oQwSGFkzsMtQruIWm2p',\n",
    "                                         'track_href': 'https://api.spotify.com/v1/tracks/6b2oQwSGFkzsMtQruIWm2p',\n",
    "                                         'analysis_url': 'https://api.spotify.com/v1/audio-analysis/6b2oQwSGFkzsMtQruIWm2p',\n",
    "                                         'duration_ms': 238640,\n",
    "                                         'time_signature': 4}]})"
   ]
  },
  {
   "cell_type": "markdown",
   "metadata": {
    "deletable": false,
    "editable": false,
    "nbgrader": {
     "cell_type": "markdown",
     "checksum": "d02c9564a4f4c64a0d9e545d52e9472a",
     "grade": false,
     "grade_id": "cell-3790f150aa3bd111",
     "locked": true,
     "schema_version": 3,
     "solution": false,
     "task": false
    }
   },
   "source": [
    "Congrats! You just made your first successful request to Spotify's API! Feel free to take a look at the information included in the response. Pay special attention to the way in which information is presented. Once you are done, let's move on to some actual work!\n",
    "\n",
    "## Getting data from a playlist\n",
    "\n",
    "In the following exercise you will build a dataset containing data about different songs. You can either use a playlist of your own, or use the one we have created for this purpose.\n",
    "\n",
    "You can find our playlist in the following [link](https://open.spotify.com/playlist/4NVeFUEHBybfh3ITNG1b8n?si=js9BKt5aTOiCWMm_Cx4Vvg). \n",
    "\n",
    "<div class=\"alert alert-info\">Create a variable called <b>playlist_id</b> that stores the id of your playlist of choice.</div>\n",
    "\n",
    "<div class=\"alert alert-warning\">Your <i>playlist_id</i> should contain only alphanumeric characters. This means that characters such as ? $ % & / ! should not be included.</div>"
   ]
  },
  {
   "cell_type": "code",
   "execution_count": 290,
   "metadata": {
    "deletable": false,
    "nbgrader": {
     "cell_type": "code",
     "checksum": "377615366ec30368b06c647398581176",
     "grade": false,
     "grade_id": "cell-ebb88e4537ea519b",
     "locked": false,
     "schema_version": 3,
     "solution": true,
     "task": false
    }
   },
   "outputs": [],
   "source": [
    "playlist_id = \"4NVeFUEHBybfh3ITNG1b8n\""
   ]
  },
  {
   "cell_type": "markdown",
   "metadata": {
    "deletable": false,
    "editable": false,
    "nbgrader": {
     "cell_type": "markdown",
     "checksum": "35965b4c55e55a07e1bdaba1cb24da69",
     "grade": false,
     "grade_id": "cell-238505c76d4ddd7",
     "locked": true,
     "schema_version": 3,
     "solution": false,
     "task": false
    }
   },
   "source": [
    "In the following you are going to extract information about the different tracks included in this playlist. Hence, let's make sure that the variabl ei spropelry created and that it refers to an actual id.\n",
    "\n",
    "As above, run the cell below. If you get no error when running the cell it means that you did right. Otherwise, revise your code to ensure you get no error. You can run this cell as many times as you want, just **remember not to modify it**.\n",
    "\n",
    "<div class=\"alert alert-danger\"> Make sure you pass this test successfully before moving on to the remaining exercises.</div>"
   ]
  },
  {
   "cell_type": "code",
   "execution_count": 291,
   "metadata": {
    "deletable": false,
    "editable": false,
    "nbgrader": {
     "cell_type": "code",
     "checksum": "edd03b3a870b669ec2e84365698dadfc",
     "grade": false,
     "grade_id": "cell-4c0fe902402b51fa",
     "locked": true,
     "schema_version": 3,
     "solution": false,
     "task": false
    }
   },
   "outputs": [],
   "source": [
    "tc = unittest.TestCase()\n",
    "tc.assertTrue('playlist_id' in locals())\n",
    "tc.assertIsInstance(playlist_id, str)\n",
    "tc.assertTrue(playlist_id.isalnum())\n",
    "tc.assertTrue('spotify:track:' not in playlist_id)"
   ]
  },
  {
   "cell_type": "markdown",
   "metadata": {
    "deletable": false,
    "editable": false,
    "nbgrader": {
     "cell_type": "markdown",
     "checksum": "1cfa21b57db7c7743507f990bb9e6ce8",
     "grade": false,
     "grade_id": "cell-a618363337ae0889",
     "locked": true,
     "schema_version": 3,
     "solution": false,
     "task": false
    }
   },
   "source": [
    "The next step will be making a request to get full details of the tracks included in your chosen playlist. Remember that you can take a look at all the information available at the different endpoints in Spotify's API by reading the [Docs](https://developer.spotify.com/documentation/web-api/reference/). Locate the right endpoint for your query and read the Docs to find out how to build your request. \n",
    "\n",
    "<div class=\"alert alert-info\"><b>Exercise 1 </b>Write the code to retrieve all the items from your chosen playlist from the <i>tracks</i> endpoint. When making your request don't use any of the optional arguments. Direct your request to the right endpoint instead. Store the <i>raw</i> response in a new variable called <i>playlist_response</i>.\n",
    "</div>\n",
    "\n",
    "<div class=\"alert alert-warning\">To complete this exercise you must use the requests library</div>"
   ]
  },
  {
   "cell_type": "code",
   "execution_count": 292,
   "metadata": {
    "deletable": false,
    "nbgrader": {
     "cell_type": "code",
     "checksum": "3416f03882927817c5373de161fb4a59",
     "grade": false,
     "grade_id": "ex1",
     "locked": false,
     "schema_version": 3,
     "solution": true,
     "task": false
    }
   },
   "outputs": [
    {
     "data": {
      "text/plain": [
       "<Response [200]>"
      ]
     },
     "execution_count": 292,
     "metadata": {},
     "output_type": "execute_result"
    }
   ],
   "source": [
    "playlisturl = base_url+\"playlists/\"+playlist_id+\"/tracks\"\n",
    "playlist_response= requests.get(playlisturl,headers=headers)\n",
    "playlist_response"
   ]
  },
  {
   "cell_type": "markdown",
   "metadata": {
    "deletable": false,
    "editable": false,
    "nbgrader": {
     "cell_type": "markdown",
     "checksum": "4a1d38f773c8e0d48c487785e904a017",
     "grade": false,
     "grade_id": "cell-037d1dbdebe9044",
     "locked": true,
     "schema_version": 3,
     "solution": false,
     "task": false
    }
   },
   "source": [
    "The following cells contain the tests that will grade your code. **Don't modify them**. Simply leave them as they are."
   ]
  },
  {
   "cell_type": "code",
   "execution_count": 293,
   "metadata": {
    "deletable": false,
    "editable": false,
    "nbgrader": {
     "cell_type": "code",
     "checksum": "bf66238b447257228ee1584535d2694e",
     "grade": true,
     "grade_id": "ex1_1",
     "locked": true,
     "points": 0.05,
     "schema_version": 3,
     "solution": false,
     "task": false
    }
   },
   "outputs": [],
   "source": [
    "# Variable playlist_response exists and is of correct type\n",
    "tc = unittest.TestCase()\n",
    "tc.assertTrue('playlist_response' in locals())\n",
    "tc.assertIsInstance(playlist_response, requests.models.Response)"
   ]
  },
  {
   "cell_type": "code",
   "execution_count": 294,
   "metadata": {
    "deletable": false,
    "editable": false,
    "nbgrader": {
     "cell_type": "code",
     "checksum": "4f61df39b0d5f08894f9e368b94e2f79",
     "grade": true,
     "grade_id": "ex1_2",
     "locked": true,
     "points": 0.2,
     "schema_version": 3,
     "solution": false,
     "task": false
    }
   },
   "outputs": [],
   "source": [
    "# Generate id if inexistent\n",
    "if \"playlist_id\" not in locals():\n",
    "    if not isinstance(playlist_response, dict):\n",
    "        playlist_id = playlist_response.json()['id']\n",
    "    else:\n",
    "        playlist_id = playlist_response['id']\n",
    "elif not playlist_id.isalnum():\n",
    "    playlist_id = playlist_id.split('?')[0]\n",
    "\n",
    "# Request has been directed to the right endpoint\n",
    "tc = unittest.TestCase()\n",
    "tc.assertEqual(playlist_response.url, 'https://api.spotify.com/v1/playlists/'+playlist_id+'/tracks')"
   ]
  },
  {
   "cell_type": "code",
   "execution_count": 295,
   "metadata": {
    "deletable": false,
    "editable": false,
    "nbgrader": {
     "cell_type": "code",
     "checksum": "5cc35eedf864c52fe5425fbbfe3154ba",
     "grade": true,
     "grade_id": "ex1_3",
     "locked": true,
     "points": 0.25,
     "schema_version": 3,
     "solution": false,
     "task": false
    }
   },
   "outputs": [],
   "source": [
    "# Response is a success\n",
    "tc = unittest.TestCase()\n",
    "tc.assertEqual(playlist_response.status_code, 200)"
   ]
  },
  {
   "cell_type": "markdown",
   "metadata": {
    "deletable": false,
    "editable": false,
    "nbgrader": {
     "cell_type": "markdown",
     "checksum": "62c645efcef9330afd1ce627f148c949",
     "grade": false,
     "grade_id": "cell-a0e2648807398f17",
     "locked": true,
     "schema_version": 3,
     "solution": false,
     "task": false
    }
   },
   "source": [
    "<div class=\"alert alert-info\"><b>Exercise 2 </b>Convert the response to JSON format and store the result in a new variable called <i>playlist</i>.</div>"
   ]
  },
  {
   "cell_type": "code",
   "execution_count": 296,
   "metadata": {
    "deletable": false,
    "nbgrader": {
     "cell_type": "code",
     "checksum": "e312a6da82f8c4bc37df98d9182e9662",
     "grade": false,
     "grade_id": "ex2",
     "locked": false,
     "schema_version": 3,
     "solution": true,
     "task": false
    }
   },
   "outputs": [],
   "source": [
    "playlist = playlist_response.json()"
   ]
  },
  {
   "cell_type": "markdown",
   "metadata": {
    "deletable": false,
    "editable": false,
    "nbgrader": {
     "cell_type": "markdown",
     "checksum": "b51517101346973dbf5fbd08ee139254",
     "grade": false,
     "grade_id": "cell-037d31ddebe9044",
     "locked": true,
     "schema_version": 3,
     "solution": false,
     "task": false
    }
   },
   "source": [
    "The following cells contain the tests that will grade your code. **Don't modify them**. Simply leave them as they are."
   ]
  },
  {
   "cell_type": "code",
   "execution_count": 297,
   "metadata": {
    "deletable": false,
    "editable": false,
    "nbgrader": {
     "cell_type": "code",
     "checksum": "5b0d45b1c9f09fcbd2ac9206b3a3e071",
     "grade": true,
     "grade_id": "ex2_1",
     "locked": true,
     "points": 0.1,
     "schema_version": 3,
     "solution": false,
     "task": false
    }
   },
   "outputs": [],
   "source": [
    "# Variable playlist exists\n",
    "tc = unittest.TestCase()\n",
    "tc.assertTrue('playlist' in locals())"
   ]
  },
  {
   "cell_type": "code",
   "execution_count": 298,
   "metadata": {
    "deletable": false,
    "editable": false,
    "nbgrader": {
     "cell_type": "code",
     "checksum": "4b2bdc39c603259ef0c9abf550f22d99",
     "grade": true,
     "grade_id": "ex2_2",
     "locked": true,
     "points": 0.15,
     "schema_version": 3,
     "solution": false,
     "task": false
    }
   },
   "outputs": [],
   "source": [
    "# Variable playlist is of correct type\n",
    "tc = unittest.TestCase()\n",
    "tc.assertIsInstance(playlist, dict)"
   ]
  },
  {
   "cell_type": "markdown",
   "metadata": {
    "deletable": false,
    "editable": false,
    "nbgrader": {
     "cell_type": "markdown",
     "checksum": "6807f8df03b3fa6532a0da803a849c9d",
     "grade": false,
     "grade_id": "cell-8d3092be4da0c3a5",
     "locked": true,
     "schema_version": 3,
     "solution": false,
     "task": false
    }
   },
   "source": [
    "Take your time to familiarize yourself with the data and how they are presented. Note that, by default, Spotify's API only returns information about a maximum of 100 tracks in a playlist. If your playlist of choice has more that 100 tracks, you'll retrieve the data only for the first 100 of them.\n",
    "\n",
    "<div class=\"alert alert-danger\">Throghout the following exercises you may come across data that are missing. If so, encode these data using a <b>None</b> (Nonetype), unless otherwise stated. </div>\n",
    "\n",
    "## Retrieving basic track information\n",
    "\n",
    "In what follows, you are going to retrieve specific data for each of the tracks contained in your playlist.\n",
    "\n",
    "<div class=\"alert alert-info\"><b>Exercise 3 </b>Write the code to extract the title (in string form), the name of the album (in string form), the name of the artist (in string form), the duration (in integer form), the track number (in integer form), the popularity (in integer form), and the id (in string form) for all the tracks included in your chosen playlist. Store these data in separate lists called <i>title</i>, <i>album</i>, <i>artist</i>, <i>duration</i>, <i>track_number</i>, <i>track_popularity</i>, and <i>track_id</i>, respectively. In those cases where more than one value is available for these items, retain only the first. In all cases, entries should appear in the same order as they are presented in the playlist.<br><i>[1.25 points]</i></div>\n",
    "\n",
    "<div class=\"alert alert-warning\">Make sure you correctly set all variable names. They have to be written <b>exactly</b> as given in the instructions.</div>"
   ]
  },
  {
   "cell_type": "code",
   "execution_count": 299,
   "metadata": {},
   "outputs": [],
   "source": [
    "#Dummy - playlist['items'][0]['track']['artists'][1]"
   ]
  },
  {
   "cell_type": "code",
   "execution_count": 300,
   "metadata": {
    "deletable": false,
    "nbgrader": {
     "cell_type": "code",
     "checksum": "69b315830f2239f6d81c0964227610ff",
     "grade": false,
     "grade_id": "ex3",
     "locked": false,
     "schema_version": 3,
     "solution": true,
     "task": false
    }
   },
   "outputs": [],
   "source": [
    "#Test\n",
    "#playlist['items'][0]['track']\n",
    "#print(playlist)\n",
    "#title = playlist['items'][0]['track']['name']\n",
    "#album = playlist['items'][0]['track']['album']['name']\n",
    "#artist = playlist['items'][0]['track']['album']['artists'][0]['name']\n",
    "#duration = int(playlist['items'][0]['track']['duration_ms'])\n",
    "#track_number = int(playlist['items'][0]['track']['track_number'])\n",
    "#track_popularity = int(playlist['items'][0]['track']['popularity'])\n",
    "#track_id = playlist['items'][0]['track']['id']\n",
    "#print(\"\",\"Title: \",title,\"\\n\",\n",
    "#      \"Album: \",album,\"\\n\",\n",
    "#      \"Artist: \",artist,\"\\n\",\n",
    "#      \"Song Duration: \",duration,\"\\n\",\n",
    "#      \"Track number: \",track_number,\"\\n\",\n",
    "#      \"Popularity: \",track_popularity,\"\\n\",\n",
    "#      \"ID: \",track_id)"
   ]
  },
  {
   "cell_type": "code",
   "execution_count": 301,
   "metadata": {},
   "outputs": [],
   "source": [
    "title = []\n",
    "album = []\n",
    "artist = []\n",
    "duration = []\n",
    "track_number = []\n",
    "track_popularity = []\n",
    "track_id = []\n",
    "for obj in playlist['items']:\n",
    "    title.append(obj['track']['name'])\n",
    "    album.append(obj['track']['album']['name'])\n",
    "    artist.append(obj['track']['artists'][0]['name'])\n",
    "    duration.append(int(obj['track']['duration_ms']))\n",
    "    track_number.append(int(obj['track']['track_number']))\n",
    "    track_popularity.append(int(obj['track']['popularity']))\n",
    "    track_id.append(obj['track']['id'])"
   ]
  },
  {
   "cell_type": "markdown",
   "metadata": {
    "deletable": false,
    "editable": false,
    "nbgrader": {
     "cell_type": "markdown",
     "checksum": "f1562c83025f70a45d5fb834edaa68ab",
     "grade": false,
     "grade_id": "cell-5adb8141b6201ae6",
     "locked": true,
     "schema_version": 3,
     "solution": false,
     "task": false
    }
   },
   "source": [
    "The following cells check whether your code is correct. Please **don't write any code here**. Just leave them as they are."
   ]
  },
  {
   "cell_type": "code",
   "execution_count": 302,
   "metadata": {
    "deletable": false,
    "editable": false,
    "nbgrader": {
     "cell_type": "code",
     "checksum": "4774b2196d5d58fb8d63e6eb0a7fe5f7",
     "grade": true,
     "grade_id": "ex3_title_1",
     "locked": true,
     "points": 0.01,
     "schema_version": 3,
     "solution": false,
     "task": false
    }
   },
   "outputs": [],
   "source": [
    "# Variable title exists and is of correct type\n",
    "tc = unittest.TestCase()\n",
    "tc.assertTrue('title' in locals())\n",
    "tc.assertIsInstance(title, list)"
   ]
  },
  {
   "cell_type": "code",
   "execution_count": 303,
   "metadata": {
    "deletable": false,
    "editable": false,
    "nbgrader": {
     "cell_type": "code",
     "checksum": "60b857f412de20119953cac03129bac8",
     "grade": true,
     "grade_id": "ex3_title_2",
     "locked": true,
     "points": 0.05,
     "schema_version": 3,
     "solution": false,
     "task": false
    }
   },
   "outputs": [],
   "source": [
    "# Elements in  title exists are of correct type\n",
    "tc = unittest.TestCase()\n",
    "tc.assertTrue(all(isinstance(n, (str, type(None))) for n in title))"
   ]
  },
  {
   "cell_type": "code",
   "execution_count": 304,
   "metadata": {
    "deletable": false,
    "editable": false,
    "nbgrader": {
     "cell_type": "code",
     "checksum": "b8db32f9f4978f5da99b90348bab62bd",
     "grade": true,
     "grade_id": "ex3_title_3",
     "locked": true,
     "points": 0.08,
     "schema_version": 3,
     "solution": false,
     "task": false
    }
   },
   "outputs": [],
   "source": [
    "# Elements in title are correct\n",
    "tc = unittest.TestCase()\n",
    "tc.assertEqual(title[2], requests.get(base_url + 'playlists/'+playlist_id+'/tracks', headers=headers).json()['items'][2]['track']['name'])\n",
    "tc.assertEqual(title[5], requests.get(base_url + 'playlists/'+playlist_id+'/tracks', headers=headers).json()['items'][5]['track']['name'])"
   ]
  },
  {
   "cell_type": "code",
   "execution_count": 305,
   "metadata": {
    "deletable": false,
    "editable": false,
    "nbgrader": {
     "cell_type": "code",
     "checksum": "48d321af3a3b74284392853ef61c4d5f",
     "grade": true,
     "grade_id": "ex3_title_4",
     "locked": true,
     "points": 0.03,
     "schema_version": 3,
     "solution": false,
     "task": false
    }
   },
   "outputs": [],
   "source": [
    "# Variable title has correct length\n",
    "tc = unittest.TestCase()\n",
    "tc.assertEqual(len(title), len(requests.get(base_url + 'playlists/'+playlist_id+'/tracks', headers=headers).json()['items']))"
   ]
  },
  {
   "cell_type": "code",
   "execution_count": 306,
   "metadata": {
    "deletable": false,
    "editable": false,
    "nbgrader": {
     "cell_type": "code",
     "checksum": "0bc1ba8dae1fa84a68070b843445311b",
     "grade": true,
     "grade_id": "ex3_album_1",
     "locked": true,
     "points": 0.01,
     "schema_version": 3,
     "solution": false,
     "task": false
    }
   },
   "outputs": [],
   "source": [
    "# Variable album exists and is of correct type\n",
    "tc = unittest.TestCase()\n",
    "tc.assertTrue('album' in locals())\n",
    "tc.assertIsInstance(album, list)"
   ]
  },
  {
   "cell_type": "code",
   "execution_count": 307,
   "metadata": {
    "deletable": false,
    "editable": false,
    "nbgrader": {
     "cell_type": "code",
     "checksum": "fabd7f3cb42afdfa9a815ee18d6e980e",
     "grade": true,
     "grade_id": "ex3_album_2",
     "locked": true,
     "points": 0.05,
     "schema_version": 3,
     "solution": false,
     "task": false
    }
   },
   "outputs": [],
   "source": [
    "# Elements in album exists are of correct type\n",
    "tc = unittest.TestCase()\n",
    "tc.assertTrue(all(isinstance(n, (str, type(None))) for n in album))"
   ]
  },
  {
   "cell_type": "code",
   "execution_count": 308,
   "metadata": {
    "deletable": false,
    "editable": false,
    "nbgrader": {
     "cell_type": "code",
     "checksum": "29aceb71b8678b068646899ce5f43377",
     "grade": true,
     "grade_id": "ex3_album_3",
     "locked": true,
     "points": 0.08,
     "schema_version": 3,
     "solution": false,
     "task": false
    }
   },
   "outputs": [],
   "source": [
    "# Elements in album are correct\n",
    "tc = unittest.TestCase()\n",
    "tc.assertEqual(album[2], requests.get(base_url + 'playlists/'+playlist_id+'/tracks', headers=headers).json()['items'][2]['track']['album']['name'])\n",
    "tc.assertEqual(album[5], requests.get(base_url + 'playlists/'+playlist_id+'/tracks', headers=headers).json()['items'][5]['track']['album']['name'])"
   ]
  },
  {
   "cell_type": "code",
   "execution_count": 309,
   "metadata": {
    "deletable": false,
    "editable": false,
    "nbgrader": {
     "cell_type": "code",
     "checksum": "eee99af51f4d7de42cec8a580a54bcc6",
     "grade": true,
     "grade_id": "ex3_album_4",
     "locked": true,
     "points": 0.03,
     "schema_version": 3,
     "solution": false,
     "task": false
    }
   },
   "outputs": [],
   "source": [
    "# Variable album has correct length\n",
    "tc = unittest.TestCase()\n",
    "tc.assertEqual(len(album), len(requests.get(base_url + 'playlists/'+playlist_id+'/tracks', headers=headers).json()['items']))"
   ]
  },
  {
   "cell_type": "code",
   "execution_count": 310,
   "metadata": {
    "deletable": false,
    "editable": false,
    "nbgrader": {
     "cell_type": "code",
     "checksum": "70c2b3da043efd797f33460901d78ead",
     "grade": true,
     "grade_id": "ex3_artist_1",
     "locked": true,
     "points": 0.01,
     "schema_version": 3,
     "solution": false,
     "task": false
    }
   },
   "outputs": [],
   "source": [
    "# Variable artist exists and is of correct type\n",
    "tc = unittest.TestCase()\n",
    "tc.assertTrue('artist' in locals())\n",
    "tc.assertIsInstance(artist, list)"
   ]
  },
  {
   "cell_type": "code",
   "execution_count": 311,
   "metadata": {
    "deletable": false,
    "editable": false,
    "nbgrader": {
     "cell_type": "code",
     "checksum": "c4a31c40103b2988465541116de21491",
     "grade": true,
     "grade_id": "ex3_artist_2",
     "locked": true,
     "points": 0.05,
     "schema_version": 3,
     "solution": false,
     "task": false
    }
   },
   "outputs": [],
   "source": [
    "# Elements in artist exists are of correct type\n",
    "tc = unittest.TestCase()\n",
    "tc.assertTrue(all(isinstance(n, (str, type(None))) for n in artist))"
   ]
  },
  {
   "cell_type": "code",
   "execution_count": 312,
   "metadata": {
    "deletable": false,
    "editable": false,
    "nbgrader": {
     "cell_type": "code",
     "checksum": "04f8c1d069a17d11e8c9e609ca3eb7a8",
     "grade": true,
     "grade_id": "ex3_artist_3",
     "locked": true,
     "points": 0.14,
     "schema_version": 3,
     "solution": false,
     "task": false
    }
   },
   "outputs": [],
   "source": [
    "# Elements in artist are correct\n",
    "tc = unittest.TestCase()\n",
    "tc.assertEqual(artist[2], requests.get(base_url + 'playlists/'+playlist_id+'/tracks', headers=headers).json()['items'][2]['track']['artists'][0]['name'])\n",
    "tc.assertEqual(artist[5], requests.get(base_url + 'playlists/'+playlist_id+'/tracks', headers=headers).json()['items'][5]['track']['artists'][0]['name'])"
   ]
  },
  {
   "cell_type": "code",
   "execution_count": 313,
   "metadata": {
    "deletable": false,
    "editable": false,
    "nbgrader": {
     "cell_type": "code",
     "checksum": "b9ac02ca06437104d6b7e75ec747904d",
     "grade": true,
     "grade_id": "ex3_artist_4",
     "locked": true,
     "points": 0.03,
     "schema_version": 3,
     "solution": false,
     "task": false
    }
   },
   "outputs": [],
   "source": [
    "# Variable artist has correct length\n",
    "tc = unittest.TestCase()\n",
    "tc.assertEqual(len(artist), len(requests.get(base_url + 'playlists/'+playlist_id+'/tracks', headers=headers).json()['items']))"
   ]
  },
  {
   "cell_type": "code",
   "execution_count": 314,
   "metadata": {
    "deletable": false,
    "editable": false,
    "nbgrader": {
     "cell_type": "code",
     "checksum": "d293f61d2616f75a1947ff27fe784e1c",
     "grade": true,
     "grade_id": "ex3_duration_1",
     "locked": true,
     "points": 0.01,
     "schema_version": 3,
     "solution": false,
     "task": false
    }
   },
   "outputs": [],
   "source": [
    "# Variable duration exists and is of correct type\n",
    "tc = unittest.TestCase()\n",
    "tc.assertTrue('duration' in locals())\n",
    "tc.assertIsInstance(duration, list)"
   ]
  },
  {
   "cell_type": "code",
   "execution_count": 315,
   "metadata": {
    "deletable": false,
    "editable": false,
    "nbgrader": {
     "cell_type": "code",
     "checksum": "a39250c7d20a594568134657b468d778",
     "grade": true,
     "grade_id": "ex3_duration_2",
     "locked": true,
     "points": 0.05,
     "schema_version": 3,
     "solution": false,
     "task": false
    }
   },
   "outputs": [],
   "source": [
    "# Elements in duration exists are of correct type\n",
    "tc = unittest.TestCase()\n",
    "tc.assertTrue(all(isinstance(n, (int, type(None))) for n in duration))"
   ]
  },
  {
   "cell_type": "code",
   "execution_count": 316,
   "metadata": {
    "deletable": false,
    "editable": false,
    "nbgrader": {
     "cell_type": "code",
     "checksum": "b5d50f2e6040cfc6c045ee440c400a25",
     "grade": true,
     "grade_id": "ex3_duration_3",
     "locked": true,
     "points": 0.08,
     "schema_version": 3,
     "solution": false,
     "task": false
    }
   },
   "outputs": [],
   "source": [
    "# Elements in duration are correct\n",
    "tc = unittest.TestCase()\n",
    "tc.assertEqual(duration[2], requests.get(base_url + 'playlists/'+playlist_id+'/tracks', headers=headers).json()['items'][2]['track']['duration_ms'])\n",
    "tc.assertEqual(duration[5], requests.get(base_url + 'playlists/'+playlist_id+'/tracks', headers=headers).json()['items'][5]['track']['duration_ms'])"
   ]
  },
  {
   "cell_type": "code",
   "execution_count": 317,
   "metadata": {
    "deletable": false,
    "editable": false,
    "nbgrader": {
     "cell_type": "code",
     "checksum": "b71d832e99052f5f34a9304e89cfdc6c",
     "grade": true,
     "grade_id": "ex3_duration_4",
     "locked": true,
     "points": 0.03,
     "schema_version": 3,
     "solution": false,
     "task": false
    }
   },
   "outputs": [],
   "source": [
    "# Variable duration has correct length\n",
    "tc = unittest.TestCase()\n",
    "tc.assertEqual(len(duration), len(requests.get(base_url + 'playlists/'+playlist_id+'/tracks', headers=headers).json()['items']))"
   ]
  },
  {
   "cell_type": "code",
   "execution_count": 318,
   "metadata": {
    "deletable": false,
    "editable": false,
    "nbgrader": {
     "cell_type": "code",
     "checksum": "282e70b297ea36f15962c12100c66260",
     "grade": true,
     "grade_id": "ex3_track_1",
     "locked": true,
     "points": 0.01,
     "schema_version": 3,
     "solution": false,
     "task": false
    }
   },
   "outputs": [],
   "source": [
    "# Variable track_number exists and is of correct type\n",
    "tc = unittest.TestCase()\n",
    "tc.assertTrue('track_number' in locals())\n",
    "tc.assertIsInstance(track_number, list)"
   ]
  },
  {
   "cell_type": "code",
   "execution_count": 319,
   "metadata": {
    "deletable": false,
    "editable": false,
    "nbgrader": {
     "cell_type": "code",
     "checksum": "b4132ed5953478827fcaa3b3903a7d35",
     "grade": true,
     "grade_id": "ex3_track_2",
     "locked": true,
     "points": 0.05,
     "schema_version": 3,
     "solution": false,
     "task": false
    }
   },
   "outputs": [],
   "source": [
    "# Elements in track_number exists are of correct type\n",
    "tc = unittest.TestCase()\n",
    "tc.assertTrue(all(isinstance(n, (int, type(None))) for n in track_number))"
   ]
  },
  {
   "cell_type": "code",
   "execution_count": 320,
   "metadata": {
    "deletable": false,
    "editable": false,
    "nbgrader": {
     "cell_type": "code",
     "checksum": "5d877c5100a087319ea32243aafdb33e",
     "grade": true,
     "grade_id": "ex3_track_3",
     "locked": true,
     "points": 0.08,
     "schema_version": 3,
     "solution": false,
     "task": false
    }
   },
   "outputs": [],
   "source": [
    "# Elements in track_number are correct\n",
    "tc = unittest.TestCase()\n",
    "tc.assertEqual(track_number[2], requests.get(base_url + 'playlists/'+playlist_id+'/tracks', headers=headers).json()['items'][2]['track']['track_number'])\n",
    "tc.assertEqual(track_number[5], requests.get(base_url + 'playlists/'+playlist_id+'/tracks', headers=headers).json()['items'][5]['track']['track_number'])"
   ]
  },
  {
   "cell_type": "code",
   "execution_count": 321,
   "metadata": {
    "deletable": false,
    "editable": false,
    "nbgrader": {
     "cell_type": "code",
     "checksum": "f6092c0c3c8238eb163ab9090fc88cd3",
     "grade": true,
     "grade_id": "ex3_track_4",
     "locked": true,
     "points": 0.03,
     "schema_version": 3,
     "solution": false,
     "task": false
    }
   },
   "outputs": [],
   "source": [
    "# Variable track_number has correct length\n",
    "tc = unittest.TestCase()\n",
    "tc.assertEqual(len(track_number), len(requests.get(base_url + 'playlists/'+playlist_id+'/tracks', headers=headers).json()['items']))"
   ]
  },
  {
   "cell_type": "code",
   "execution_count": 322,
   "metadata": {
    "deletable": false,
    "editable": false,
    "nbgrader": {
     "cell_type": "code",
     "checksum": "3e8d7d85c05d3f8278eb37a21c8c1468",
     "grade": true,
     "grade_id": "ex3_popularity_1",
     "locked": true,
     "points": 0.01,
     "schema_version": 3,
     "solution": false,
     "task": false
    }
   },
   "outputs": [],
   "source": [
    "# Variable track_popularity exists and is of correct type\n",
    "tc = unittest.TestCase()\n",
    "tc.assertTrue('track_popularity' in locals())\n",
    "tc.assertIsInstance(track_popularity, list)"
   ]
  },
  {
   "cell_type": "code",
   "execution_count": 323,
   "metadata": {
    "deletable": false,
    "editable": false,
    "nbgrader": {
     "cell_type": "code",
     "checksum": "2ac5cc42056eda3411e569dcd3c73f03",
     "grade": true,
     "grade_id": "ex3_popularity_2",
     "locked": true,
     "points": 0.05,
     "schema_version": 3,
     "solution": false,
     "task": false
    }
   },
   "outputs": [],
   "source": [
    "# Elements in track_popularity exists are of correct type\n",
    "tc = unittest.TestCase()\n",
    "tc.assertTrue(all(isinstance(n, (int, type(None))) for n in track_popularity))"
   ]
  },
  {
   "cell_type": "code",
   "execution_count": 324,
   "metadata": {
    "deletable": false,
    "editable": false,
    "nbgrader": {
     "cell_type": "code",
     "checksum": "6439e01622c958498b3a644fb1d20460",
     "grade": true,
     "grade_id": "ex3_popularity_3",
     "locked": true,
     "points": 0.08,
     "schema_version": 3,
     "solution": false,
     "task": false
    }
   },
   "outputs": [],
   "source": [
    "# Elements in track_popularity are correct\n",
    "tc = unittest.TestCase()\n",
    "tc.assertEqual(track_popularity[2], requests.get(base_url + 'playlists/'+playlist_id+'/tracks', headers=headers).json()['items'][2]['track']['popularity'])\n",
    "tc.assertEqual(track_popularity[5], requests.get(base_url + 'playlists/'+playlist_id+'/tracks', headers=headers).json()['items'][5]['track']['popularity'])"
   ]
  },
  {
   "cell_type": "code",
   "execution_count": 325,
   "metadata": {
    "deletable": false,
    "editable": false,
    "nbgrader": {
     "cell_type": "code",
     "checksum": "3192740fbfcbae436fc1bc74751623f5",
     "grade": true,
     "grade_id": "ex3_popularity_4",
     "locked": true,
     "points": 0.04,
     "schema_version": 3,
     "solution": false,
     "task": false
    }
   },
   "outputs": [],
   "source": [
    "# Variable track_popularity has correct length\n",
    "tc = unittest.TestCase()\n",
    "tc.assertEqual(len(track_popularity), len(requests.get(base_url + 'playlists/'+playlist_id+'/tracks', headers=headers).json()['items']))"
   ]
  },
  {
   "cell_type": "code",
   "execution_count": 326,
   "metadata": {
    "deletable": false,
    "editable": false,
    "nbgrader": {
     "cell_type": "code",
     "checksum": "333739fa24d95e18eab594d9c4cc2c44",
     "grade": true,
     "grade_id": "ex3_id_1",
     "locked": true,
     "points": 0.01,
     "schema_version": 3,
     "solution": false,
     "task": false
    }
   },
   "outputs": [],
   "source": [
    "# Variable track_id exists and is of correct type\n",
    "tc = unittest.TestCase()\n",
    "tc.assertTrue('track_id' in locals())\n",
    "tc.assertIsInstance(track_id, list)"
   ]
  },
  {
   "cell_type": "code",
   "execution_count": 327,
   "metadata": {
    "deletable": false,
    "editable": false,
    "nbgrader": {
     "cell_type": "code",
     "checksum": "b6c186c4153ffc11a4f754f818c653fe",
     "grade": true,
     "grade_id": "ex3_id_2",
     "locked": true,
     "points": 0.05,
     "schema_version": 3,
     "solution": false,
     "task": false
    }
   },
   "outputs": [],
   "source": [
    "# Elements in track_id exists are of correct type\n",
    "tc = unittest.TestCase()\n",
    "tc.assertTrue(all(isinstance(n, (str, type(None))) for n in track_id))"
   ]
  },
  {
   "cell_type": "code",
   "execution_count": 328,
   "metadata": {
    "deletable": false,
    "editable": false,
    "nbgrader": {
     "cell_type": "code",
     "checksum": "14f0292fa52830c07d5adfd6d3ba180b",
     "grade": true,
     "grade_id": "ex3_id_3",
     "locked": true,
     "points": 0.08,
     "schema_version": 3,
     "solution": false,
     "task": false
    }
   },
   "outputs": [],
   "source": [
    "# Elements in track_id are correct\n",
    "tc = unittest.TestCase()\n",
    "tc.assertTrue(all('spotify:track:' not in n for n in track_id))\n",
    "tc.assertEqual(track_id[2], requests.get(base_url + 'playlists/'+playlist_id+'/tracks', headers=headers).json()['items'][2]['track']['id'])\n",
    "tc.assertEqual(track_id[5], requests.get(base_url + 'playlists/'+playlist_id+'/tracks', headers=headers).json()['items'][5]['track']['id'])"
   ]
  },
  {
   "cell_type": "code",
   "execution_count": 329,
   "metadata": {
    "deletable": false,
    "editable": false,
    "nbgrader": {
     "cell_type": "code",
     "checksum": "6afd8eb08ee0f161aa8a64c259b0b7dc",
     "grade": true,
     "grade_id": "ex3_id_4",
     "locked": true,
     "points": 0.04,
     "schema_version": 3,
     "solution": false,
     "task": false
    }
   },
   "outputs": [],
   "source": [
    "# Variable track_id has correct length\n",
    "tc = unittest.TestCase()\n",
    "tc.assertEqual(len(track_id), len(requests.get(base_url + 'playlists/'+playlist_id+'/tracks', headers=headers).json()['items']))"
   ]
  },
  {
   "cell_type": "markdown",
   "metadata": {
    "deletable": false,
    "editable": false,
    "nbgrader": {
     "cell_type": "markdown",
     "checksum": "9ec592f30299b2b3f6703a3f1238685e",
     "grade": false,
     "grade_id": "cell-88a7d979725303b7",
     "locked": true,
     "schema_version": 3,
     "solution": false,
     "task": false
    }
   },
   "source": [
    "<div class=\"alert alert-info\"><b>Exercise 4 </b>Write the code to extract the number of available markets (in integer form) for all the tracks included in your chosen playlist. Store these data in a separate list called <i>n_available_markets</i>. As above, entries in this list should appear in the same order as they are presented in the playlist.</div>"
   ]
  },
  {
   "cell_type": "code",
   "execution_count": 330,
   "metadata": {
    "deletable": false,
    "nbgrader": {
     "cell_type": "code",
     "checksum": "00ef2091bcd0c6ccc4ed66e901f1fff9",
     "grade": false,
     "grade_id": "ex4",
     "locked": false,
     "schema_version": 3,
     "solution": true,
     "task": false
    }
   },
   "outputs": [],
   "source": [
    "available_markets = []\n",
    "n_available_markets = []\n",
    "for obj in playlist['items']:\n",
    "    available_markets = obj['track']['available_markets']\n",
    "    n_available_markets.append(len(available_markets))"
   ]
  },
  {
   "cell_type": "markdown",
   "metadata": {
    "deletable": false,
    "editable": false,
    "nbgrader": {
     "cell_type": "markdown",
     "checksum": "4a90397b5bd668b1024e2b73957e5e10",
     "grade": false,
     "grade_id": "cell-8b6531ee3b4c8",
     "locked": true,
     "schema_version": 3,
     "solution": false,
     "task": false
    }
   },
   "source": [
    "The following cells check whether your code is correct. Please **don't write any code here**. Just leave them as they are."
   ]
  },
  {
   "cell_type": "code",
   "execution_count": 331,
   "metadata": {
    "deletable": false,
    "editable": false,
    "nbgrader": {
     "cell_type": "code",
     "checksum": "87c83ea99a9d8c10ea0b3cd5d0032014",
     "grade": true,
     "grade_id": "ex4_1",
     "locked": true,
     "points": 0.01,
     "schema_version": 3,
     "solution": false,
     "task": false
    }
   },
   "outputs": [],
   "source": [
    "# Variable n_available_markets exists and is of correct type\n",
    "tc = unittest.TestCase()\n",
    "tc.assertTrue('n_available_markets' in locals())\n",
    "tc.assertIsInstance(n_available_markets, list)"
   ]
  },
  {
   "cell_type": "code",
   "execution_count": 332,
   "metadata": {
    "deletable": false,
    "editable": false,
    "nbgrader": {
     "cell_type": "code",
     "checksum": "1f5971028c50d6bccf97630f6ae0611a",
     "grade": true,
     "grade_id": "ex4_2",
     "locked": true,
     "points": 0.05,
     "schema_version": 3,
     "solution": false,
     "task": false
    }
   },
   "outputs": [],
   "source": [
    "# Elements in n_available_markets exists are of correct type\n",
    "tc = unittest.TestCase()\n",
    "tc.assertTrue(all(isinstance(n, (int, type(None))) for n in n_available_markets))"
   ]
  },
  {
   "cell_type": "code",
   "execution_count": 333,
   "metadata": {
    "deletable": false,
    "editable": false,
    "nbgrader": {
     "cell_type": "code",
     "checksum": "cddcf05839bf59d08b95d9a9af645ae3",
     "grade": true,
     "grade_id": "ex4_3",
     "locked": true,
     "points": 0.15,
     "schema_version": 3,
     "solution": false,
     "task": false
    }
   },
   "outputs": [
    {
     "ename": "AssertionError",
     "evalue": "184 != 183",
     "output_type": "error",
     "traceback": [
      "\u001b[1;31m---------------------------------------------------------------------------\u001b[0m",
      "\u001b[1;31mAssertionError\u001b[0m                            Traceback (most recent call last)",
      "Input \u001b[1;32mIn [333]\u001b[0m, in \u001b[0;36m<cell line: 3>\u001b[1;34m()\u001b[0m\n\u001b[0;32m      1\u001b[0m \u001b[38;5;66;03m# Elements in n_available_markets are correct\u001b[39;00m\n\u001b[0;32m      2\u001b[0m tc \u001b[38;5;241m=\u001b[39m unittest\u001b[38;5;241m.\u001b[39mTestCase()\n\u001b[1;32m----> 3\u001b[0m \u001b[43mtc\u001b[49m\u001b[38;5;241;43m.\u001b[39;49m\u001b[43massertEqual\u001b[49m\u001b[43m(\u001b[49m\u001b[43mn_available_markets\u001b[49m\u001b[43m[\u001b[49m\u001b[38;5;241;43m2\u001b[39;49m\u001b[43m]\u001b[49m\u001b[43m,\u001b[49m\u001b[43m \u001b[49m\u001b[38;5;28;43mlen\u001b[39;49m\u001b[43m(\u001b[49m\u001b[43mrequests\u001b[49m\u001b[38;5;241;43m.\u001b[39;49m\u001b[43mget\u001b[49m\u001b[43m(\u001b[49m\u001b[43mbase_url\u001b[49m\u001b[43m \u001b[49m\u001b[38;5;241;43m+\u001b[39;49m\u001b[43m \u001b[49m\u001b[38;5;124;43m'\u001b[39;49m\u001b[38;5;124;43mplaylists/\u001b[39;49m\u001b[38;5;124;43m'\u001b[39;49m\u001b[38;5;241;43m+\u001b[39;49m\u001b[43mplaylist_id\u001b[49m\u001b[38;5;241;43m+\u001b[39;49m\u001b[38;5;124;43m'\u001b[39;49m\u001b[38;5;124;43m/tracks\u001b[39;49m\u001b[38;5;124;43m'\u001b[39;49m\u001b[43m,\u001b[49m\u001b[43m \u001b[49m\u001b[43mheaders\u001b[49m\u001b[38;5;241;43m=\u001b[39;49m\u001b[43mheaders\u001b[49m\u001b[43m)\u001b[49m\u001b[38;5;241;43m.\u001b[39;49m\u001b[43mjson\u001b[49m\u001b[43m(\u001b[49m\u001b[43m)\u001b[49m\u001b[43m[\u001b[49m\u001b[38;5;124;43m'\u001b[39;49m\u001b[38;5;124;43mitems\u001b[39;49m\u001b[38;5;124;43m'\u001b[39;49m\u001b[43m]\u001b[49m\u001b[43m[\u001b[49m\u001b[38;5;241;43m2\u001b[39;49m\u001b[43m]\u001b[49m\u001b[43m[\u001b[49m\u001b[38;5;124;43m'\u001b[39;49m\u001b[38;5;124;43mtrack\u001b[39;49m\u001b[38;5;124;43m'\u001b[39;49m\u001b[43m]\u001b[49m\u001b[43m[\u001b[49m\u001b[38;5;124;43m'\u001b[39;49m\u001b[38;5;124;43mavailable_markets\u001b[39;49m\u001b[38;5;124;43m'\u001b[39;49m\u001b[43m]\u001b[49m\u001b[43m)\u001b[49m\u001b[43m)\u001b[49m\n\u001b[0;32m      4\u001b[0m tc\u001b[38;5;241m.\u001b[39massertEqual(n_available_markets[\u001b[38;5;241m5\u001b[39m], \u001b[38;5;28mlen\u001b[39m(requests\u001b[38;5;241m.\u001b[39mget(base_url \u001b[38;5;241m+\u001b[39m \u001b[38;5;124m'\u001b[39m\u001b[38;5;124mplaylists/\u001b[39m\u001b[38;5;124m'\u001b[39m\u001b[38;5;241m+\u001b[39mplaylist_id\u001b[38;5;241m+\u001b[39m\u001b[38;5;124m'\u001b[39m\u001b[38;5;124m/tracks\u001b[39m\u001b[38;5;124m'\u001b[39m, headers\u001b[38;5;241m=\u001b[39mheaders)\u001b[38;5;241m.\u001b[39mjson()[\u001b[38;5;124m'\u001b[39m\u001b[38;5;124mitems\u001b[39m\u001b[38;5;124m'\u001b[39m][\u001b[38;5;241m5\u001b[39m][\u001b[38;5;124m'\u001b[39m\u001b[38;5;124mtrack\u001b[39m\u001b[38;5;124m'\u001b[39m][\u001b[38;5;124m'\u001b[39m\u001b[38;5;124mavailable_markets\u001b[39m\u001b[38;5;124m'\u001b[39m]))\n",
      "File \u001b[1;32m~\\anaconda3\\lib\\unittest\\case.py:837\u001b[0m, in \u001b[0;36mTestCase.assertEqual\u001b[1;34m(self, first, second, msg)\u001b[0m\n\u001b[0;32m    833\u001b[0m \u001b[38;5;124;03m\"\"\"Fail if the two objects are unequal as determined by the '=='\u001b[39;00m\n\u001b[0;32m    834\u001b[0m \u001b[38;5;124;03m   operator.\u001b[39;00m\n\u001b[0;32m    835\u001b[0m \u001b[38;5;124;03m\"\"\"\u001b[39;00m\n\u001b[0;32m    836\u001b[0m assertion_func \u001b[38;5;241m=\u001b[39m \u001b[38;5;28mself\u001b[39m\u001b[38;5;241m.\u001b[39m_getAssertEqualityFunc(first, second)\n\u001b[1;32m--> 837\u001b[0m \u001b[43massertion_func\u001b[49m\u001b[43m(\u001b[49m\u001b[43mfirst\u001b[49m\u001b[43m,\u001b[49m\u001b[43m \u001b[49m\u001b[43msecond\u001b[49m\u001b[43m,\u001b[49m\u001b[43m \u001b[49m\u001b[43mmsg\u001b[49m\u001b[38;5;241;43m=\u001b[39;49m\u001b[43mmsg\u001b[49m\u001b[43m)\u001b[49m\n",
      "File \u001b[1;32m~\\anaconda3\\lib\\unittest\\case.py:830\u001b[0m, in \u001b[0;36mTestCase._baseAssertEqual\u001b[1;34m(self, first, second, msg)\u001b[0m\n\u001b[0;32m    828\u001b[0m standardMsg \u001b[38;5;241m=\u001b[39m \u001b[38;5;124m'\u001b[39m\u001b[38;5;132;01m%s\u001b[39;00m\u001b[38;5;124m != \u001b[39m\u001b[38;5;132;01m%s\u001b[39;00m\u001b[38;5;124m'\u001b[39m \u001b[38;5;241m%\u001b[39m _common_shorten_repr(first, second)\n\u001b[0;32m    829\u001b[0m msg \u001b[38;5;241m=\u001b[39m \u001b[38;5;28mself\u001b[39m\u001b[38;5;241m.\u001b[39m_formatMessage(msg, standardMsg)\n\u001b[1;32m--> 830\u001b[0m \u001b[38;5;28;01mraise\u001b[39;00m \u001b[38;5;28mself\u001b[39m\u001b[38;5;241m.\u001b[39mfailureException(msg)\n",
      "\u001b[1;31mAssertionError\u001b[0m: 184 != 183"
     ]
    }
   ],
   "source": [
    "# Elements in n_available_markets are correct\n",
    "tc = unittest.TestCase()\n",
    "tc.assertEqual(n_available_markets[2], len(requests.get(base_url + 'playlists/'+playlist_id+'/tracks', headers=headers).json()['items'][2]['track']['available_markets']))\n",
    "tc.assertEqual(n_available_markets[5], len(requests.get(base_url + 'playlists/'+playlist_id+'/tracks', headers=headers).json()['items'][5]['track']['available_markets']))"
   ]
  },
  {
   "cell_type": "code",
   "execution_count": 334,
   "metadata": {
    "deletable": false,
    "editable": false,
    "nbgrader": {
     "cell_type": "code",
     "checksum": "ce7ac817f59d494b6b13d92b94950b34",
     "grade": true,
     "grade_id": "ex4_4",
     "locked": true,
     "points": 0.04,
     "schema_version": 3,
     "solution": false,
     "task": false
    }
   },
   "outputs": [],
   "source": [
    "# Variable n_available_markets has correct length\n",
    "tc = unittest.TestCase()\n",
    "tc.assertEqual(len(n_available_markets), len(requests.get(base_url + 'playlists/'+playlist_id+'/tracks', headers=headers).json()['items']))"
   ]
  },
  {
   "cell_type": "markdown",
   "metadata": {
    "deletable": false,
    "editable": false,
    "nbgrader": {
     "cell_type": "markdown",
     "checksum": "ffa744f04c46a3643bdd71527e8902d4",
     "grade": false,
     "grade_id": "cell-8d32be4da0c3a5",
     "locked": true,
     "schema_version": 3,
     "solution": false,
     "task": false
    }
   },
   "source": [
    "Each track in the playlist is associated to an album. Let's retrieve the corresponding release date.\n",
    "\n",
    "<div class=\"alert alert-info\"><b>Exercise 5 </b>Write the code to extract the release year (in int form) and month (in string form) for all the tracks included in your chosen playlist. Store these data in separate lists called <i>release_year</i> and <i>release_month</i>, respectively. Entries should appear in these lists in the same order as they are presented in the playlist.</div>\n",
    "\n",
    "<div class=\"alert alert-warning\">Make sure you correctly set the variable names. They have to be written <b>exactly</b> as given in the instructions.</div>\n",
    "\n",
    "<div class=\"alert alert-warning\">Months should be stored with their full names and capitalized: use <i>September</i> for 09, <i>January</i> for 01, etc.</div>"
   ]
  },
  {
   "cell_type": "code",
   "execution_count": 335,
   "metadata": {
    "deletable": false,
    "nbgrader": {
     "cell_type": "code",
     "checksum": "bb47640b2984de2eac9bddf8c8c891c6",
     "grade": false,
     "grade_id": "ex5",
     "locked": false,
     "schema_version": 3,
     "solution": true,
     "task": false
    }
   },
   "outputs": [],
   "source": [
    "from datetime import date, datetime\n",
    "import calendar\n",
    "release_year = []\n",
    "release_month = []\n",
    "month = []\n",
    "release_day = []\n",
    "d_split = []\n",
    "for obj in playlist['items']:\n",
    "    d_splitF = [0,0,0]\n",
    "    release_d = obj['track']['album']['release_date']\n",
    "    d_split = release_d.split('-')\n",
    "    d_splitF = d_split+d_splitF\n",
    "    release_year.append(int(d_splitF[0]))\n",
    "    release_month.append(calendar.month_name[int(d_splitF[1])])\n",
    "    release_day.append(int(d_splitF[2]))"
   ]
  },
  {
   "cell_type": "code",
   "execution_count": 336,
   "metadata": {},
   "outputs": [],
   "source": [
    "#for obj in playlist['items']:\n",
    "#    d_splitF = [0,0,0]\n",
    "#    release_d = obj['track']['album']['release_date']\n",
    "#    date = datetime.strptime(release_d,'%Y-%m-%d')\n",
    "#    d_split = release_d.split('-')\n",
    "#    d_splitF = d_split+d_splitF\n",
    "#    release_year.append(int(d_splitF[0]))\n",
    "#    release_month.append(calendar.month_name[int(d_splitF[1])])\n",
    "#    release_day.append(int(d_splitF[2]))\n",
    "\n",
    "#from datetime import date, datetime\n",
    "#import calendar\n",
    "#release_year = []\n",
    "#release_month = []\n",
    "#month = []\n",
    "#release_day = []\n",
    "#d_split = []\n",
    "#for obj in playlist['items']:\n",
    "#    release_d = obj['track']['album']['release_date']\n",
    "#    date = datetime.strptime(release_d,'%Y-%m-%d')\n",
    "#    release_year.append(int(date.strftime(\"%Y\")))\n",
    "#    release_month.append(date.strftime(\"%B\"))\n",
    "#    release_day.append(int(date.strftime(\"%d\")))\n",
    "\n",
    "#month = date.strftime(\"%B\")\n",
    "#month"
   ]
  },
  {
   "cell_type": "markdown",
   "metadata": {
    "deletable": false,
    "editable": false,
    "nbgrader": {
     "cell_type": "markdown",
     "checksum": "33bbf0effb33d3abd5954d7b58076812",
     "grade": false,
     "grade_id": "cell-58b6531ee3b4c8",
     "locked": true,
     "schema_version": 3,
     "solution": false,
     "task": false
    }
   },
   "source": [
    "The following cells check whether your code is correct. Please **don't write any code here**. Just leave them as they are."
   ]
  },
  {
   "cell_type": "code",
   "execution_count": 337,
   "metadata": {
    "deletable": false,
    "editable": false,
    "nbgrader": {
     "cell_type": "code",
     "checksum": "62e44baca933811573aa07dde1ce9a0d",
     "grade": true,
     "grade_id": "ex5_year_1",
     "locked": true,
     "points": 0.05,
     "schema_version": 3,
     "solution": false,
     "task": false
    }
   },
   "outputs": [],
   "source": [
    "# Variable release_year exists and is of correct type\n",
    "tc = unittest.TestCase()\n",
    "tc.assertTrue('release_year' in locals())\n",
    "tc.assertIsInstance(release_year, list)"
   ]
  },
  {
   "cell_type": "code",
   "execution_count": 338,
   "metadata": {
    "deletable": false,
    "editable": false,
    "nbgrader": {
     "cell_type": "code",
     "checksum": "9fa791fd3a14a688280ab82e15a49b03",
     "grade": true,
     "grade_id": "ex5_year_2",
     "locked": true,
     "points": 0.1,
     "schema_version": 3,
     "solution": false,
     "task": false
    }
   },
   "outputs": [],
   "source": [
    "# Elements in release_year exists are of correct type\n",
    "tc = unittest.TestCase()\n",
    "tc.assertTrue(all(isinstance(n, (int, type(None))) for n in release_year))"
   ]
  },
  {
   "cell_type": "code",
   "execution_count": 339,
   "metadata": {
    "deletable": false,
    "editable": false,
    "nbgrader": {
     "cell_type": "code",
     "checksum": "45ff8d7f32d3b61e863f304fea0e90d3",
     "grade": true,
     "grade_id": "ex5_year_3",
     "locked": true,
     "points": 0.25,
     "schema_version": 3,
     "solution": false,
     "task": false
    }
   },
   "outputs": [],
   "source": [
    "__track2 = requests.get(base_url + 'playlists/'+playlist_id+'/tracks', headers=headers).json()['items'][2]['track']['album']['release_date']\n",
    "try:\n",
    "    __date = datetime.strptime(__track2, '%Y-%m-%d')\n",
    "    __year2 = __date.year\n",
    "    __month2 = __date.strftime('%B')\n",
    "except:\n",
    "    try:\n",
    "        __date = datetime.strptime(__track2, '%Y-%m')\n",
    "        __year2 = __date.year\n",
    "        __month2 = __date.strftime('%B')\n",
    "    except:\n",
    "        __year2 = int(__track2)\n",
    "        __month2 = None\n",
    "\n",
    "__track5 = requests.get(base_url + 'playlists/'+playlist_id+'/tracks', headers=headers).json()['items'][5]['track']['album']['release_date']\n",
    "try:\n",
    "    __date = datetime.strptime(__track5, '%Y-%m-%d')\n",
    "    __year5 = __date.year\n",
    "    __month5 = __date.strftime('%B')\n",
    "except:\n",
    "    try:\n",
    "        __date = datetime.strptime(__track5, '%Y-%m')\n",
    "        __year5 = __date.year\n",
    "        __month5 = __date.strftime('%B')\n",
    "    except:\n",
    "        __year5 = int(__track5)\n",
    "        __month5 = None \n",
    "\n",
    "# Elements in release_year are correct\n",
    "tc = unittest.TestCase()     \n",
    "tc.assertEqual(release_year[2], __year2)\n",
    "tc.assertEqual(release_year[5], __year5)"
   ]
  },
  {
   "cell_type": "code",
   "execution_count": 340,
   "metadata": {
    "deletable": false,
    "editable": false,
    "nbgrader": {
     "cell_type": "code",
     "checksum": "36f34e742e6dd59a848febba5a5c4aa3",
     "grade": true,
     "grade_id": "ex5_year_4",
     "locked": true,
     "points": 0.1,
     "schema_version": 3,
     "solution": false,
     "task": false
    }
   },
   "outputs": [],
   "source": [
    "# Variable release_year has correct length\n",
    "tc = unittest.TestCase()\n",
    "tc.assertEqual(len(release_year), len(requests.get(base_url + 'playlists/'+playlist_id+'/tracks', headers=headers).json()['items']))"
   ]
  },
  {
   "cell_type": "code",
   "execution_count": 341,
   "metadata": {
    "deletable": false,
    "editable": false,
    "nbgrader": {
     "cell_type": "code",
     "checksum": "7893aa34716002833c1d0255d5703b5c",
     "grade": true,
     "grade_id": "ex5_month_1",
     "locked": true,
     "points": 0.05,
     "schema_version": 3,
     "solution": false,
     "task": false
    }
   },
   "outputs": [],
   "source": [
    "# Variable release_month exists and is of correct type\n",
    "tc = unittest.TestCase()\n",
    "tc.assertTrue('release_month' in locals())\n",
    "tc.assertIsInstance(release_month, list)"
   ]
  },
  {
   "cell_type": "code",
   "execution_count": 342,
   "metadata": {
    "deletable": false,
    "editable": false,
    "nbgrader": {
     "cell_type": "code",
     "checksum": "e733e4cb3aa6d7675c1cd242388ac313",
     "grade": true,
     "grade_id": "ex5_month_2",
     "locked": true,
     "points": 0.1,
     "schema_version": 3,
     "solution": false,
     "task": false
    }
   },
   "outputs": [],
   "source": [
    "# Elements in release_month exists are of correct type\n",
    "tc = unittest.TestCase()\n",
    "tc.assertTrue(all(isinstance(n, (str, type(None))) for n in release_month))"
   ]
  },
  {
   "cell_type": "code",
   "execution_count": 343,
   "metadata": {
    "deletable": false,
    "editable": false,
    "nbgrader": {
     "cell_type": "code",
     "checksum": "caa4e13b1c407c7b97cc561bed2152ef",
     "grade": true,
     "grade_id": "ex5_month_3",
     "locked": true,
     "points": 0.25,
     "schema_version": 3,
     "solution": false,
     "task": false
    }
   },
   "outputs": [],
   "source": [
    "# Elements in release_year are correct\n",
    "tc = unittest.TestCase()     \n",
    "tc.assertEqual(release_month[2], __month2)\n",
    "tc.assertEqual(release_month[5], __month5)"
   ]
  },
  {
   "cell_type": "code",
   "execution_count": 344,
   "metadata": {
    "deletable": false,
    "editable": false,
    "nbgrader": {
     "cell_type": "code",
     "checksum": "9a5cdecf8eaf2a025907a6ffb3a426b0",
     "grade": true,
     "grade_id": "ex5_month_4",
     "locked": true,
     "points": 0.1,
     "schema_version": 3,
     "solution": false,
     "task": false
    }
   },
   "outputs": [],
   "source": [
    "# Variable release_month has correct length\n",
    "tc = unittest.TestCase()\n",
    "tc.assertEqual(len(release_month), len(requests.get(base_url + 'playlists/'+playlist_id+'/tracks', headers=headers).json()['items']))"
   ]
  },
  {
   "cell_type": "markdown",
   "metadata": {
    "deletable": false,
    "editable": false,
    "nbgrader": {
     "cell_type": "markdown",
     "checksum": "e71ef5c87e0e3b31b2f371c94d15ccc3",
     "grade": false,
     "grade_id": "cell-df3ba3a1867a9931",
     "locked": true,
     "schema_version": 3,
     "solution": false,
     "task": false
    }
   },
   "source": [
    "## Retrieving additional track information\n",
    "\n",
    "In what follows, you are going to retrieve additional data for each of the tracks contained in your playlist.\n",
    "\n",
    "<div class=\"alert alert-info\"><b>Exercise 6 </b>Write the code to extract data about the danceability, energy, loudness, mode, speechiness, acousticness, instrumentalness, liveness, valence and tempo for all the tracks included in your chosen playlist. Store these data in separate lists called <i>danceability</i> (in float form), <i>energy</i>, <i>loudness</i> (in float form), <i>mode</i> (in int form), <i>speechiness</i> (in float form), <i>acousticness</i> (in float form), <i>instrumentalness</i> (in int and float form), <i>liveness</i> (in float form), <i>valence</i> (in float form) and <i>tempo</i> (in float form), respectively. In those cases where more than one value is available for these items, retain only the first. In all cases, entries should appear in the same order as they are presented in the playlist.</div>"
   ]
  },
  {
   "cell_type": "code",
   "execution_count": 345,
   "metadata": {},
   "outputs": [],
   "source": [
    "#Check for instrumentalness later"
   ]
  },
  {
   "cell_type": "code",
   "execution_count": 346,
   "metadata": {
    "deletable": false,
    "nbgrader": {
     "cell_type": "code",
     "checksum": "a5d70d0859a7e9513d16031567e1eb90",
     "grade": false,
     "grade_id": "ex6",
     "locked": false,
     "schema_version": 3,
     "solution": true,
     "task": false
    }
   },
   "outputs": [],
   "source": [
    "danceability = []\n",
    "energy = []\n",
    "loudness = []\n",
    "mode = []\n",
    "speechiness = []\n",
    "acousticness = []\n",
    "instrumentalness_int = []\n",
    "instrumentalness_float = []\n",
    "liveness = []\n",
    "valence = []\n",
    "tempo = []\n",
    "playlist_tracksinfo = []\n",
    "for track in track_id:\n",
    "    params = {'ids':track}\n",
    "    response = requests.get(url,params=params,headers=headers).json()\n",
    "    playlist_tracksinfo.append(response)\n",
    "    danceability.append(float(response['audio_features'][0]['danceability']))\n",
    "    energy.append(float(response['audio_features'][0]['energy']))\n",
    "    loudness.append(float(response['audio_features'][0]['loudness']))\n",
    "    mode.append(int(response['audio_features'][0]['mode']))\n",
    "    speechiness.append(float(response['audio_features'][0]['speechiness']))\n",
    "    acousticness.append(float(response['audio_features'][0]['acousticness']))\n",
    "    instrumentalness_int.append(int(response['audio_features'][0]['instrumentalness']))\n",
    "    instrumentalness_float.append(float(response['audio_features'][0]['instrumentalness']))\n",
    "    liveness.append(float(response['audio_features'][0]['liveness']))\n",
    "    valence.append(float(response['audio_features'][0]['valence']))\n",
    "    tempo.append(float(response['audio_features'][0]['tempo']))"
   ]
  },
  {
   "cell_type": "markdown",
   "metadata": {
    "deletable": false,
    "editable": false,
    "nbgrader": {
     "cell_type": "markdown",
     "checksum": "ff9dd099577a257ded8de79ff9cdeb8a",
     "grade": false,
     "grade_id": "cell-58e7b6531ee3b4c8",
     "locked": true,
     "schema_version": 3,
     "solution": false,
     "task": false
    }
   },
   "source": [
    "The following cells check whether your code is correct. Please **don't write any code here**. Just leave them as they are."
   ]
  },
  {
   "cell_type": "code",
   "execution_count": 347,
   "metadata": {
    "deletable": false,
    "editable": false,
    "nbgrader": {
     "cell_type": "code",
     "checksum": "c101d74b69f20e32c8b7e81f042c6df0",
     "grade": true,
     "grade_id": "ex6_danceability_1",
     "locked": true,
     "points": 0.01,
     "schema_version": 3,
     "solution": false,
     "task": false
    }
   },
   "outputs": [],
   "source": [
    "# Variable danceability exists and is of correct type\n",
    "tc = unittest.TestCase()\n",
    "tc.assertTrue('danceability' in locals())\n",
    "tc.assertIsInstance(danceability, list)"
   ]
  },
  {
   "cell_type": "code",
   "execution_count": 348,
   "metadata": {
    "deletable": false,
    "editable": false,
    "nbgrader": {
     "cell_type": "code",
     "checksum": "c5b2c44169c54cada1e33792aefedba3",
     "grade": true,
     "grade_id": "ex6_danceability_2",
     "locked": true,
     "points": 0.04,
     "schema_version": 3,
     "solution": false,
     "task": false
    }
   },
   "outputs": [],
   "source": [
    "# Elements in danceability exists are of correct type\n",
    "tc = unittest.TestCase()\n",
    "tc.assertTrue(all(isinstance(n, (float, type(None))) for n in danceability))"
   ]
  },
  {
   "cell_type": "code",
   "execution_count": 349,
   "metadata": {
    "deletable": false,
    "editable": false,
    "nbgrader": {
     "cell_type": "code",
     "checksum": "046036955f43f8a9454bda2fddc2a1a2",
     "grade": true,
     "grade_id": "ex6_danceability_3",
     "locked": true,
     "points": 0.07,
     "schema_version": 3,
     "solution": false,
     "task": false
    }
   },
   "outputs": [],
   "source": [
    "# Elements in danceability are correct\n",
    "tc = unittest.TestCase()\n",
    "tc.assertEqual(danceability[3], requests.get(base_url + 'audio-features/' + requests.get(base_url + 'playlists/'+playlist_id+'/tracks', headers=headers).json()['items'][3]['track']['id'], headers=headers).json()['danceability'])\n",
    "tc.assertEqual(danceability[6], requests.get(base_url + 'audio-features/' + requests.get(base_url + 'playlists/'+playlist_id+'/tracks', headers=headers).json()['items'][6]['track']['id'], headers=headers).json()['danceability'])"
   ]
  },
  {
   "cell_type": "code",
   "execution_count": 350,
   "metadata": {
    "deletable": false,
    "editable": false,
    "nbgrader": {
     "cell_type": "code",
     "checksum": "cf42546a1d3c6c46334ea7db6fb221cc",
     "grade": true,
     "grade_id": "ex6_danceability_4",
     "locked": true,
     "points": 0.035,
     "schema_version": 3,
     "solution": false,
     "task": false
    }
   },
   "outputs": [],
   "source": [
    "# Variable danceability has correct length\n",
    "tc = unittest.TestCase()\n",
    "tc.assertEqual(len(danceability), len(requests.get(base_url + 'playlists/'+playlist_id+'/tracks', headers=headers).json()['items']))"
   ]
  },
  {
   "cell_type": "code",
   "execution_count": 351,
   "metadata": {
    "deletable": false,
    "editable": false,
    "nbgrader": {
     "cell_type": "code",
     "checksum": "9b916ccce0d50d7f8e32a7a591b03da9",
     "grade": true,
     "grade_id": "ex6_energy_1",
     "locked": true,
     "points": 0.01,
     "schema_version": 3,
     "solution": false,
     "task": false
    }
   },
   "outputs": [],
   "source": [
    "# Variable energy exists and is of correct type\n",
    "tc = unittest.TestCase()\n",
    "tc.assertTrue('energy' in locals())\n",
    "tc.assertIsInstance(energy, list)"
   ]
  },
  {
   "cell_type": "code",
   "execution_count": 352,
   "metadata": {
    "deletable": false,
    "editable": false,
    "nbgrader": {
     "cell_type": "code",
     "checksum": "8b3498612688c2702544fcee8d75c9b3",
     "grade": true,
     "grade_id": "ex6_energy_2",
     "locked": true,
     "points": 0.04,
     "schema_version": 3,
     "solution": false,
     "task": false
    }
   },
   "outputs": [],
   "source": [
    "# Elements in energy exists are of correct type\n",
    "tc = unittest.TestCase()\n",
    "tc.assertTrue(all(isinstance(n, (float, type(None))) for n in energy))"
   ]
  },
  {
   "cell_type": "code",
   "execution_count": 353,
   "metadata": {
    "deletable": false,
    "editable": false,
    "nbgrader": {
     "cell_type": "code",
     "checksum": "b4c8510faa464cbf4481afe2f6e4ff9e",
     "grade": true,
     "grade_id": "ex6_energy_3",
     "locked": true,
     "points": 0.07,
     "schema_version": 3,
     "solution": false,
     "task": false
    }
   },
   "outputs": [],
   "source": [
    "# Elements in energy are correct\n",
    "tc = unittest.TestCase()\n",
    "tc.assertEqual(energy[3], requests.get(base_url + 'audio-features/' + requests.get(base_url + 'playlists/'+playlist_id+'/tracks', headers=headers).json()['items'][3]['track']['id'], headers=headers).json()['energy'])\n",
    "tc.assertEqual(energy[6], requests.get(base_url + 'audio-features/' + requests.get(base_url + 'playlists/'+playlist_id+'/tracks', headers=headers).json()['items'][6]['track']['id'], headers=headers).json()['energy'])"
   ]
  },
  {
   "cell_type": "code",
   "execution_count": 354,
   "metadata": {
    "deletable": false,
    "editable": false,
    "nbgrader": {
     "cell_type": "code",
     "checksum": "e7daf806fcc5518ccd6efe23fa47d77f",
     "grade": true,
     "grade_id": "ex6_energy_4",
     "locked": true,
     "points": 0.03,
     "schema_version": 3,
     "solution": false,
     "task": false
    }
   },
   "outputs": [],
   "source": [
    "# Variable energy has correct length\n",
    "tc = unittest.TestCase()\n",
    "tc.assertEqual(len(energy), len(requests.get(base_url + 'playlists/'+playlist_id+'/tracks', headers=headers).json()['items']))"
   ]
  },
  {
   "cell_type": "code",
   "execution_count": 355,
   "metadata": {
    "deletable": false,
    "editable": false,
    "nbgrader": {
     "cell_type": "code",
     "checksum": "5af09525158f266da19d2e1fd9eb81ac",
     "grade": true,
     "grade_id": "ex6_loudness_1",
     "locked": true,
     "points": 0.01,
     "schema_version": 3,
     "solution": false,
     "task": false
    }
   },
   "outputs": [],
   "source": [
    "# Variable loudness exists and is of correct type\n",
    "tc = unittest.TestCase()\n",
    "tc.assertTrue('loudness' in locals())\n",
    "tc.assertIsInstance(loudness, list)"
   ]
  },
  {
   "cell_type": "code",
   "execution_count": 356,
   "metadata": {
    "deletable": false,
    "editable": false,
    "nbgrader": {
     "cell_type": "code",
     "checksum": "3466792e8d7bf453cfaf8b85bd4b639f",
     "grade": true,
     "grade_id": "ex6_loudness_2",
     "locked": true,
     "points": 0.04,
     "schema_version": 3,
     "solution": false,
     "task": false
    }
   },
   "outputs": [],
   "source": [
    "# Elements in loudness exists are of correct type\n",
    "tc = unittest.TestCase()\n",
    "tc.assertTrue(all(isinstance(n, (float, type(None))) for n in loudness))"
   ]
  },
  {
   "cell_type": "code",
   "execution_count": 357,
   "metadata": {
    "deletable": false,
    "editable": false,
    "nbgrader": {
     "cell_type": "code",
     "checksum": "fab7be4bf594e5b9afdc3fd30bfb470f",
     "grade": true,
     "grade_id": "ex6_loudness_3",
     "locked": true,
     "points": 0.07,
     "schema_version": 3,
     "solution": false,
     "task": false
    }
   },
   "outputs": [],
   "source": [
    "# Elements in loudness are correct\n",
    "tc = unittest.TestCase()\n",
    "tc.assertEqual(loudness[3], requests.get(base_url + 'audio-features/' + requests.get(base_url + 'playlists/'+playlist_id+'/tracks', headers=headers).json()['items'][3]['track']['id'], headers=headers).json()['loudness'])\n",
    "tc.assertEqual(loudness[6], requests.get(base_url + 'audio-features/' + requests.get(base_url + 'playlists/'+playlist_id+'/tracks', headers=headers).json()['items'][6]['track']['id'], headers=headers).json()['loudness'])"
   ]
  },
  {
   "cell_type": "code",
   "execution_count": 358,
   "metadata": {
    "deletable": false,
    "editable": false,
    "nbgrader": {
     "cell_type": "code",
     "checksum": "b3e3f169d2875ac75c1c26a7e8bce5b0",
     "grade": true,
     "grade_id": "ex6_loudness_4",
     "locked": true,
     "points": 0.03,
     "schema_version": 3,
     "solution": false,
     "task": false
    }
   },
   "outputs": [],
   "source": [
    "# Variable loudness has correct length\n",
    "tc = unittest.TestCase()\n",
    "tc.assertEqual(len(loudness), len(requests.get(base_url + 'playlists/'+playlist_id+'/tracks', headers=headers).json()['items']))"
   ]
  },
  {
   "cell_type": "code",
   "execution_count": 359,
   "metadata": {
    "deletable": false,
    "editable": false,
    "nbgrader": {
     "cell_type": "code",
     "checksum": "4ef75c39b728ebbfe09ca32672060741",
     "grade": true,
     "grade_id": "ex6_mode_1",
     "locked": true,
     "points": 0.02,
     "schema_version": 3,
     "solution": false,
     "task": false
    }
   },
   "outputs": [],
   "source": [
    "# Variable mode exists and is of correct type\n",
    "tc = unittest.TestCase()\n",
    "tc.assertTrue('mode' in locals())\n",
    "tc.assertIsInstance(mode, list)"
   ]
  },
  {
   "cell_type": "code",
   "execution_count": 360,
   "metadata": {
    "deletable": false,
    "editable": false,
    "nbgrader": {
     "cell_type": "code",
     "checksum": "91fdd890e27b373fdd09e4d4f4ce6a4c",
     "grade": true,
     "grade_id": "ex6_mode_2",
     "locked": true,
     "points": 0.05,
     "schema_version": 3,
     "solution": false,
     "task": false
    }
   },
   "outputs": [],
   "source": [
    "# Elements in mode exists are of correct type\n",
    "tc = unittest.TestCase()\n",
    "tc.assertTrue(all(isinstance(n, (int, type(None))) for n in mode))"
   ]
  },
  {
   "cell_type": "code",
   "execution_count": 361,
   "metadata": {
    "deletable": false,
    "editable": false,
    "nbgrader": {
     "cell_type": "code",
     "checksum": "e0c58b44d4129309d4a37615641f7685",
     "grade": true,
     "grade_id": "ex6_mode_3",
     "locked": true,
     "points": 0.08,
     "schema_version": 3,
     "solution": false,
     "task": false
    }
   },
   "outputs": [],
   "source": [
    "# Elements in mode are correct\n",
    "tc = unittest.TestCase()\n",
    "tc.assertEqual(mode[3], requests.get(base_url + 'audio-features/' + requests.get(base_url + 'playlists/'+playlist_id+'/tracks', headers=headers).json()['items'][3]['track']['id'], headers=headers).json()['mode'])\n",
    "tc.assertEqual(mode[6], requests.get(base_url + 'audio-features/' + requests.get(base_url + 'playlists/'+playlist_id+'/tracks', headers=headers).json()['items'][6]['track']['id'], headers=headers).json()['mode'])"
   ]
  },
  {
   "cell_type": "code",
   "execution_count": 362,
   "metadata": {
    "deletable": false,
    "editable": false,
    "nbgrader": {
     "cell_type": "code",
     "checksum": "cf506702dd55791229ef43edc734f49f",
     "grade": true,
     "grade_id": "ex5_mode_4",
     "locked": true,
     "points": 0.05,
     "schema_version": 3,
     "solution": false,
     "task": false
    }
   },
   "outputs": [],
   "source": [
    "# Variable mode has correct length\n",
    "tc = unittest.TestCase()\n",
    "tc.assertEqual(len(mode), len(requests.get(base_url + 'playlists/'+playlist_id+'/tracks', headers=headers).json()['items']))"
   ]
  },
  {
   "cell_type": "code",
   "execution_count": 363,
   "metadata": {
    "deletable": false,
    "editable": false,
    "nbgrader": {
     "cell_type": "code",
     "checksum": "878afaa87df7850b0920c74f27b6f8a1",
     "grade": true,
     "grade_id": "ex6_speechiness_1",
     "locked": true,
     "points": 0.02,
     "schema_version": 3,
     "solution": false,
     "task": false
    }
   },
   "outputs": [],
   "source": [
    "# Variable speechiness exists and is of correct type\n",
    "tc = unittest.TestCase()\n",
    "tc.assertTrue('speechiness' in locals())\n",
    "tc.assertIsInstance(speechiness, list)"
   ]
  },
  {
   "cell_type": "code",
   "execution_count": 364,
   "metadata": {
    "deletable": false,
    "editable": false,
    "nbgrader": {
     "cell_type": "code",
     "checksum": "492249db4428ddc6fb116d676d9cb845",
     "grade": true,
     "grade_id": "ex6_speechiness_2",
     "locked": true,
     "points": 0.05,
     "schema_version": 3,
     "solution": false,
     "task": false
    }
   },
   "outputs": [],
   "source": [
    "# Elements in speechiness exists are of correct type\n",
    "tc = unittest.TestCase()\n",
    "tc.assertTrue(all(isinstance(n, (float, type(None))) for n in speechiness))"
   ]
  },
  {
   "cell_type": "code",
   "execution_count": 365,
   "metadata": {
    "deletable": false,
    "editable": false,
    "nbgrader": {
     "cell_type": "code",
     "checksum": "d2f6273667053422169dae5acac49ff5",
     "grade": true,
     "grade_id": "ex6_speechiness_3",
     "locked": true,
     "points": 0.08,
     "schema_version": 3,
     "solution": false,
     "task": false
    }
   },
   "outputs": [],
   "source": [
    "# Elements in speechiness are correct\n",
    "tc = unittest.TestCase()\n",
    "tc.assertEqual(speechiness[3], requests.get(base_url + 'audio-features/' + requests.get(base_url + 'playlists/'+playlist_id+'/tracks', headers=headers).json()['items'][3]['track']['id'], headers=headers).json()['speechiness'])\n",
    "tc.assertEqual(speechiness[6], requests.get(base_url + 'audio-features/' + requests.get(base_url + 'playlists/'+playlist_id+'/tracks', headers=headers).json()['items'][6]['track']['id'], headers=headers).json()['speechiness'])"
   ]
  },
  {
   "cell_type": "code",
   "execution_count": 366,
   "metadata": {
    "deletable": false,
    "editable": false,
    "nbgrader": {
     "cell_type": "code",
     "checksum": "db1cfb30c3353df7c72aca8b936745c6",
     "grade": true,
     "grade_id": "ex6_speechiness_4",
     "locked": true,
     "points": 0.05,
     "schema_version": 3,
     "solution": false,
     "task": false
    }
   },
   "outputs": [],
   "source": [
    "# Variable speechiness has correct length\n",
    "tc = unittest.TestCase()\n",
    "tc.assertEqual(len(speechiness), len(requests.get(base_url + 'playlists/'+playlist_id+'/tracks', headers=headers).json()['items']))"
   ]
  },
  {
   "cell_type": "code",
   "execution_count": 367,
   "metadata": {
    "deletable": false,
    "editable": false,
    "nbgrader": {
     "cell_type": "code",
     "checksum": "c283470928aee0cd3ff458ef55f3265f",
     "grade": true,
     "grade_id": "ex6_instrumentalness_1",
     "locked": true,
     "points": 0.02,
     "schema_version": 3,
     "solution": false,
     "task": false
    }
   },
   "outputs": [
    {
     "ename": "AssertionError",
     "evalue": "False is not true",
     "output_type": "error",
     "traceback": [
      "\u001b[1;31m---------------------------------------------------------------------------\u001b[0m",
      "\u001b[1;31mAssertionError\u001b[0m                            Traceback (most recent call last)",
      "Input \u001b[1;32mIn [367]\u001b[0m, in \u001b[0;36m<cell line: 3>\u001b[1;34m()\u001b[0m\n\u001b[0;32m      1\u001b[0m \u001b[38;5;66;03m# Variable instrumentalness exists and is of correct type\u001b[39;00m\n\u001b[0;32m      2\u001b[0m tc \u001b[38;5;241m=\u001b[39m unittest\u001b[38;5;241m.\u001b[39mTestCase()\n\u001b[1;32m----> 3\u001b[0m \u001b[43mtc\u001b[49m\u001b[38;5;241;43m.\u001b[39;49m\u001b[43massertTrue\u001b[49m\u001b[43m(\u001b[49m\u001b[38;5;124;43m'\u001b[39;49m\u001b[38;5;124;43minstrumentalness\u001b[39;49m\u001b[38;5;124;43m'\u001b[39;49m\u001b[43m \u001b[49m\u001b[38;5;129;43;01min\u001b[39;49;00m\u001b[43m \u001b[49m\u001b[38;5;28;43mlocals\u001b[39;49m\u001b[43m(\u001b[49m\u001b[43m)\u001b[49m\u001b[43m)\u001b[49m\n\u001b[0;32m      4\u001b[0m tc\u001b[38;5;241m.\u001b[39massertIsInstance(instrumentalness, \u001b[38;5;28mlist\u001b[39m)\n",
      "File \u001b[1;32m~\\anaconda3\\lib\\unittest\\case.py:688\u001b[0m, in \u001b[0;36mTestCase.assertTrue\u001b[1;34m(self, expr, msg)\u001b[0m\n\u001b[0;32m    686\u001b[0m \u001b[38;5;28;01mif\u001b[39;00m \u001b[38;5;129;01mnot\u001b[39;00m expr:\n\u001b[0;32m    687\u001b[0m     msg \u001b[38;5;241m=\u001b[39m \u001b[38;5;28mself\u001b[39m\u001b[38;5;241m.\u001b[39m_formatMessage(msg, \u001b[38;5;124m\"\u001b[39m\u001b[38;5;132;01m%s\u001b[39;00m\u001b[38;5;124m is not true\u001b[39m\u001b[38;5;124m\"\u001b[39m \u001b[38;5;241m%\u001b[39m safe_repr(expr))\n\u001b[1;32m--> 688\u001b[0m     \u001b[38;5;28;01mraise\u001b[39;00m \u001b[38;5;28mself\u001b[39m\u001b[38;5;241m.\u001b[39mfailureException(msg)\n",
      "\u001b[1;31mAssertionError\u001b[0m: False is not true"
     ]
    }
   ],
   "source": [
    "# Variable instrumentalness exists and is of correct type\n",
    "tc = unittest.TestCase()\n",
    "tc.assertTrue('instrumentalness' in locals())\n",
    "tc.assertIsInstance(instrumentalness, list)"
   ]
  },
  {
   "cell_type": "code",
   "execution_count": 368,
   "metadata": {
    "deletable": false,
    "editable": false,
    "nbgrader": {
     "cell_type": "code",
     "checksum": "02ae1defb4303547d0fdd6f44c4c57c8",
     "grade": true,
     "grade_id": "ex6_instrumentalness_2",
     "locked": true,
     "points": 0.05,
     "schema_version": 3,
     "solution": false,
     "task": false
    }
   },
   "outputs": [
    {
     "ename": "NameError",
     "evalue": "name 'instrumentalness' is not defined",
     "output_type": "error",
     "traceback": [
      "\u001b[1;31m---------------------------------------------------------------------------\u001b[0m",
      "\u001b[1;31mNameError\u001b[0m                                 Traceback (most recent call last)",
      "Input \u001b[1;32mIn [368]\u001b[0m, in \u001b[0;36m<cell line: 3>\u001b[1;34m()\u001b[0m\n\u001b[0;32m      1\u001b[0m \u001b[38;5;66;03m# Elements in instrumentalness exists are of correct type\u001b[39;00m\n\u001b[0;32m      2\u001b[0m tc \u001b[38;5;241m=\u001b[39m unittest\u001b[38;5;241m.\u001b[39mTestCase()\n\u001b[1;32m----> 3\u001b[0m tc\u001b[38;5;241m.\u001b[39massertTrue(\u001b[38;5;28mall\u001b[39m(\u001b[38;5;28misinstance\u001b[39m(n, (\u001b[38;5;28mfloat\u001b[39m, \u001b[38;5;28mint\u001b[39m, \u001b[38;5;28mtype\u001b[39m(\u001b[38;5;28;01mNone\u001b[39;00m))) \u001b[38;5;28;01mfor\u001b[39;00m n \u001b[38;5;129;01min\u001b[39;00m \u001b[43minstrumentalness\u001b[49m))\n",
      "\u001b[1;31mNameError\u001b[0m: name 'instrumentalness' is not defined"
     ]
    }
   ],
   "source": [
    "# Elements in instrumentalness exists are of correct type\n",
    "tc = unittest.TestCase()\n",
    "tc.assertTrue(all(isinstance(n, (float, int, type(None))) for n in instrumentalness))"
   ]
  },
  {
   "cell_type": "code",
   "execution_count": 369,
   "metadata": {
    "deletable": false,
    "editable": false,
    "nbgrader": {
     "cell_type": "code",
     "checksum": "644afba0c9a7a3fb2e51b542eb645420",
     "grade": true,
     "grade_id": "ex6_instrumentalness_3",
     "locked": true,
     "points": 0.08,
     "schema_version": 3,
     "solution": false,
     "task": false
    }
   },
   "outputs": [
    {
     "ename": "NameError",
     "evalue": "name 'instrumentalness' is not defined",
     "output_type": "error",
     "traceback": [
      "\u001b[1;31m---------------------------------------------------------------------------\u001b[0m",
      "\u001b[1;31mNameError\u001b[0m                                 Traceback (most recent call last)",
      "Input \u001b[1;32mIn [369]\u001b[0m, in \u001b[0;36m<cell line: 3>\u001b[1;34m()\u001b[0m\n\u001b[0;32m      1\u001b[0m \u001b[38;5;66;03m# Elements in instrumentalness are correct\u001b[39;00m\n\u001b[0;32m      2\u001b[0m tc \u001b[38;5;241m=\u001b[39m unittest\u001b[38;5;241m.\u001b[39mTestCase()\n\u001b[1;32m----> 3\u001b[0m tc\u001b[38;5;241m.\u001b[39massertEqual(\u001b[43minstrumentalness\u001b[49m[\u001b[38;5;241m3\u001b[39m], requests\u001b[38;5;241m.\u001b[39mget(base_url \u001b[38;5;241m+\u001b[39m \u001b[38;5;124m'\u001b[39m\u001b[38;5;124maudio-features/\u001b[39m\u001b[38;5;124m'\u001b[39m \u001b[38;5;241m+\u001b[39m requests\u001b[38;5;241m.\u001b[39mget(base_url \u001b[38;5;241m+\u001b[39m \u001b[38;5;124m'\u001b[39m\u001b[38;5;124mplaylists/\u001b[39m\u001b[38;5;124m'\u001b[39m\u001b[38;5;241m+\u001b[39mplaylist_id\u001b[38;5;241m+\u001b[39m\u001b[38;5;124m'\u001b[39m\u001b[38;5;124m/tracks\u001b[39m\u001b[38;5;124m'\u001b[39m, headers\u001b[38;5;241m=\u001b[39mheaders)\u001b[38;5;241m.\u001b[39mjson()[\u001b[38;5;124m'\u001b[39m\u001b[38;5;124mitems\u001b[39m\u001b[38;5;124m'\u001b[39m][\u001b[38;5;241m3\u001b[39m][\u001b[38;5;124m'\u001b[39m\u001b[38;5;124mtrack\u001b[39m\u001b[38;5;124m'\u001b[39m][\u001b[38;5;124m'\u001b[39m\u001b[38;5;124mid\u001b[39m\u001b[38;5;124m'\u001b[39m], headers\u001b[38;5;241m=\u001b[39mheaders)\u001b[38;5;241m.\u001b[39mjson()[\u001b[38;5;124m'\u001b[39m\u001b[38;5;124minstrumentalness\u001b[39m\u001b[38;5;124m'\u001b[39m])\n\u001b[0;32m      4\u001b[0m tc\u001b[38;5;241m.\u001b[39massertEqual(instrumentalness[\u001b[38;5;241m6\u001b[39m], requests\u001b[38;5;241m.\u001b[39mget(base_url \u001b[38;5;241m+\u001b[39m \u001b[38;5;124m'\u001b[39m\u001b[38;5;124maudio-features/\u001b[39m\u001b[38;5;124m'\u001b[39m \u001b[38;5;241m+\u001b[39m requests\u001b[38;5;241m.\u001b[39mget(base_url \u001b[38;5;241m+\u001b[39m \u001b[38;5;124m'\u001b[39m\u001b[38;5;124mplaylists/\u001b[39m\u001b[38;5;124m'\u001b[39m\u001b[38;5;241m+\u001b[39mplaylist_id\u001b[38;5;241m+\u001b[39m\u001b[38;5;124m'\u001b[39m\u001b[38;5;124m/tracks\u001b[39m\u001b[38;5;124m'\u001b[39m, headers\u001b[38;5;241m=\u001b[39mheaders)\u001b[38;5;241m.\u001b[39mjson()[\u001b[38;5;124m'\u001b[39m\u001b[38;5;124mitems\u001b[39m\u001b[38;5;124m'\u001b[39m][\u001b[38;5;241m6\u001b[39m][\u001b[38;5;124m'\u001b[39m\u001b[38;5;124mtrack\u001b[39m\u001b[38;5;124m'\u001b[39m][\u001b[38;5;124m'\u001b[39m\u001b[38;5;124mid\u001b[39m\u001b[38;5;124m'\u001b[39m], headers\u001b[38;5;241m=\u001b[39mheaders)\u001b[38;5;241m.\u001b[39mjson()[\u001b[38;5;124m'\u001b[39m\u001b[38;5;124minstrumentalness\u001b[39m\u001b[38;5;124m'\u001b[39m])\n",
      "\u001b[1;31mNameError\u001b[0m: name 'instrumentalness' is not defined"
     ]
    }
   ],
   "source": [
    "# Elements in instrumentalness are correct\n",
    "tc = unittest.TestCase()\n",
    "tc.assertEqual(instrumentalness[3], requests.get(base_url + 'audio-features/' + requests.get(base_url + 'playlists/'+playlist_id+'/tracks', headers=headers).json()['items'][3]['track']['id'], headers=headers).json()['instrumentalness'])\n",
    "tc.assertEqual(instrumentalness[6], requests.get(base_url + 'audio-features/' + requests.get(base_url + 'playlists/'+playlist_id+'/tracks', headers=headers).json()['items'][6]['track']['id'], headers=headers).json()['instrumentalness'])"
   ]
  },
  {
   "cell_type": "code",
   "execution_count": 370,
   "metadata": {
    "deletable": false,
    "editable": false,
    "nbgrader": {
     "cell_type": "code",
     "checksum": "a3b8e6f148e0f2d1dcf8f489749128e1",
     "grade": true,
     "grade_id": "ex6_instrumentalness_4",
     "locked": true,
     "points": 0.05,
     "schema_version": 3,
     "solution": false,
     "task": false
    }
   },
   "outputs": [
    {
     "ename": "NameError",
     "evalue": "name 'instrumentalness' is not defined",
     "output_type": "error",
     "traceback": [
      "\u001b[1;31m---------------------------------------------------------------------------\u001b[0m",
      "\u001b[1;31mNameError\u001b[0m                                 Traceback (most recent call last)",
      "Input \u001b[1;32mIn [370]\u001b[0m, in \u001b[0;36m<cell line: 3>\u001b[1;34m()\u001b[0m\n\u001b[0;32m      1\u001b[0m \u001b[38;5;66;03m# Variable instrumentalness has correct length\u001b[39;00m\n\u001b[0;32m      2\u001b[0m tc \u001b[38;5;241m=\u001b[39m unittest\u001b[38;5;241m.\u001b[39mTestCase()\n\u001b[1;32m----> 3\u001b[0m tc\u001b[38;5;241m.\u001b[39massertEqual(\u001b[38;5;28mlen\u001b[39m(\u001b[43minstrumentalness\u001b[49m), \u001b[38;5;28mlen\u001b[39m(requests\u001b[38;5;241m.\u001b[39mget(base_url \u001b[38;5;241m+\u001b[39m \u001b[38;5;124m'\u001b[39m\u001b[38;5;124mplaylists/\u001b[39m\u001b[38;5;124m'\u001b[39m\u001b[38;5;241m+\u001b[39mplaylist_id\u001b[38;5;241m+\u001b[39m\u001b[38;5;124m'\u001b[39m\u001b[38;5;124m/tracks\u001b[39m\u001b[38;5;124m'\u001b[39m, headers\u001b[38;5;241m=\u001b[39mheaders)\u001b[38;5;241m.\u001b[39mjson()[\u001b[38;5;124m'\u001b[39m\u001b[38;5;124mitems\u001b[39m\u001b[38;5;124m'\u001b[39m]))\n",
      "\u001b[1;31mNameError\u001b[0m: name 'instrumentalness' is not defined"
     ]
    }
   ],
   "source": [
    "# Variable instrumentalness has correct length\n",
    "tc = unittest.TestCase()\n",
    "tc.assertEqual(len(instrumentalness), len(requests.get(base_url + 'playlists/'+playlist_id+'/tracks', headers=headers).json()['items']))"
   ]
  },
  {
   "cell_type": "code",
   "execution_count": 371,
   "metadata": {
    "deletable": false,
    "editable": false,
    "nbgrader": {
     "cell_type": "code",
     "checksum": "70b35259a77ab61dde055b6e4d15e88f",
     "grade": true,
     "grade_id": "ex6_valence_1",
     "locked": true,
     "points": 0.02,
     "schema_version": 3,
     "solution": false,
     "task": false
    }
   },
   "outputs": [],
   "source": [
    "# Variable valence exists and is of correct type\n",
    "tc = unittest.TestCase()\n",
    "tc.assertTrue('valence' in locals())\n",
    "tc.assertIsInstance(valence, list)"
   ]
  },
  {
   "cell_type": "code",
   "execution_count": 372,
   "metadata": {
    "deletable": false,
    "editable": false,
    "nbgrader": {
     "cell_type": "code",
     "checksum": "4b3cf187cba337a3a12426ee3a9e2846",
     "grade": true,
     "grade_id": "ex6_valence_2",
     "locked": true,
     "points": 0.05,
     "schema_version": 3,
     "solution": false,
     "task": false
    }
   },
   "outputs": [],
   "source": [
    "# Elements in valence exists are of correct type\n",
    "tc = unittest.TestCase()\n",
    "tc.assertTrue(all(isinstance(n, (float, type(None))) for n in valence))"
   ]
  },
  {
   "cell_type": "code",
   "execution_count": 373,
   "metadata": {
    "deletable": false,
    "editable": false,
    "nbgrader": {
     "cell_type": "code",
     "checksum": "b60b78b71f53ab723cb8879e2984c429",
     "grade": true,
     "grade_id": "ex6_valence_3",
     "locked": true,
     "points": 0.08,
     "schema_version": 3,
     "solution": false,
     "task": false
    }
   },
   "outputs": [],
   "source": [
    "# Elements in valence are correct\n",
    "tc = unittest.TestCase()\n",
    "tc.assertEqual(valence[3], requests.get(base_url + 'audio-features/' + requests.get(base_url + 'playlists/'+playlist_id+'/tracks', headers=headers).json()['items'][3]['track']['id'], headers=headers).json()['valence'])\n",
    "tc.assertEqual(valence[6], requests.get(base_url + 'audio-features/' + requests.get(base_url + 'playlists/'+playlist_id+'/tracks', headers=headers).json()['items'][6]['track']['id'], headers=headers).json()['valence'])"
   ]
  },
  {
   "cell_type": "code",
   "execution_count": 374,
   "metadata": {
    "deletable": false,
    "editable": false,
    "nbgrader": {
     "cell_type": "code",
     "checksum": "7217f480a8f1de7c5760ddae7ac1baf2",
     "grade": true,
     "grade_id": "ex6_valence_4",
     "locked": true,
     "points": 0.05,
     "schema_version": 3,
     "solution": false,
     "task": false
    }
   },
   "outputs": [],
   "source": [
    "# Variable valence has correct length\n",
    "tc = unittest.TestCase()\n",
    "tc.assertEqual(len(valence), len(requests.get(base_url + 'playlists/'+playlist_id+'/tracks', headers=headers).json()['items']))"
   ]
  },
  {
   "cell_type": "code",
   "execution_count": 375,
   "metadata": {
    "deletable": false,
    "editable": false,
    "nbgrader": {
     "cell_type": "code",
     "checksum": "c93881dd8fad0e05140718bab0109744",
     "grade": true,
     "grade_id": "ex6_tempo_1",
     "locked": true,
     "points": 0.02,
     "schema_version": 3,
     "solution": false,
     "task": false
    }
   },
   "outputs": [],
   "source": [
    "# Variable tempo exists and is of correct type\n",
    "tc = unittest.TestCase()\n",
    "tc.assertTrue('tempo' in locals())\n",
    "tc.assertIsInstance(tempo, list)"
   ]
  },
  {
   "cell_type": "code",
   "execution_count": 376,
   "metadata": {
    "deletable": false,
    "editable": false,
    "nbgrader": {
     "cell_type": "code",
     "checksum": "77bc868bd410a324f714192dae99e5b0",
     "grade": true,
     "grade_id": "ex6_tempo_2",
     "locked": true,
     "points": 0.05,
     "schema_version": 3,
     "solution": false,
     "task": false
    }
   },
   "outputs": [],
   "source": [
    "# Elements in tempo exists are of correct type\n",
    "tc = unittest.TestCase()\n",
    "tc.assertTrue(all(isinstance(n, (float, type(None))) for n in tempo))"
   ]
  },
  {
   "cell_type": "code",
   "execution_count": 377,
   "metadata": {
    "deletable": false,
    "editable": false,
    "nbgrader": {
     "cell_type": "code",
     "checksum": "b89f079399820d0a5f3021172667ad6a",
     "grade": true,
     "grade_id": "ex6_tempo_3",
     "locked": true,
     "points": 0.08,
     "schema_version": 3,
     "solution": false,
     "task": false
    }
   },
   "outputs": [],
   "source": [
    "# Elements in tempo are correct\n",
    "tc = unittest.TestCase()\n",
    "tc.assertEqual(tempo[3], requests.get(base_url + 'audio-features/' + requests.get(base_url + 'playlists/'+playlist_id+'/tracks', headers=headers).json()['items'][3]['track']['id'], headers=headers).json()['tempo'])\n",
    "tc.assertEqual(tempo[6], requests.get(base_url + 'audio-features/' + requests.get(base_url + 'playlists/'+playlist_id+'/tracks', headers=headers).json()['items'][6]['track']['id'], headers=headers).json()['tempo'])"
   ]
  },
  {
   "cell_type": "code",
   "execution_count": 378,
   "metadata": {
    "deletable": false,
    "editable": false,
    "nbgrader": {
     "cell_type": "code",
     "checksum": "73a89e5b0e96c8cfef665ff6d25e8c48",
     "grade": true,
     "grade_id": "ex6_tempo_4",
     "locked": true,
     "points": 0.05,
     "schema_version": 3,
     "solution": false,
     "task": false
    }
   },
   "outputs": [],
   "source": [
    "# Variable tempo has correct length\n",
    "tc = unittest.TestCase()\n",
    "tc.assertEqual(len(tempo), len(requests.get(base_url + 'playlists/'+playlist_id+'/tracks', headers=headers).json()['items']))"
   ]
  },
  {
   "cell_type": "code",
   "execution_count": 379,
   "metadata": {
    "deletable": false,
    "editable": false,
    "nbgrader": {
     "cell_type": "code",
     "checksum": "9f45426152f8294a465d4c8a09a8f6aa",
     "grade": true,
     "grade_id": "ex6_acousticness_1",
     "locked": true,
     "points": 0.02,
     "schema_version": 3,
     "solution": false,
     "task": false
    }
   },
   "outputs": [],
   "source": [
    "# Variable acousticness exists and is of correct type\n",
    "tc = unittest.TestCase()\n",
    "tc.assertTrue('acousticness' in locals())\n",
    "tc.assertIsInstance(acousticness, list)"
   ]
  },
  {
   "cell_type": "code",
   "execution_count": 380,
   "metadata": {
    "deletable": false,
    "editable": false,
    "nbgrader": {
     "cell_type": "code",
     "checksum": "f49a3afa1c4ffed2be5d8863b861e04e",
     "grade": true,
     "grade_id": "ex6_acousticness_2",
     "locked": true,
     "points": 0.05,
     "schema_version": 3,
     "solution": false,
     "task": false
    }
   },
   "outputs": [],
   "source": [
    "# Elements in acousticness exists are of correct type\n",
    "tc = unittest.TestCase()\n",
    "tc.assertTrue(all(isinstance(n, (float, type(None))) for n in acousticness))"
   ]
  },
  {
   "cell_type": "code",
   "execution_count": 381,
   "metadata": {
    "deletable": false,
    "editable": false,
    "nbgrader": {
     "cell_type": "code",
     "checksum": "1ebff463dbf766010aa418251aa7d4fb",
     "grade": true,
     "grade_id": "ex6_acousticness_3",
     "locked": true,
     "points": 0.08,
     "schema_version": 3,
     "solution": false,
     "task": false
    }
   },
   "outputs": [],
   "source": [
    "# Elements in acousticness are correct\n",
    "tc = unittest.TestCase()\n",
    "tc.assertEqual(acousticness[3], requests.get(base_url + 'audio-features/' + requests.get(base_url + 'playlists/'+playlist_id+'/tracks', headers=headers).json()['items'][3]['track']['id'], headers=headers).json()['acousticness'])\n",
    "tc.assertEqual(acousticness[6], requests.get(base_url + 'audio-features/' + requests.get(base_url + 'playlists/'+playlist_id+'/tracks', headers=headers).json()['items'][6]['track']['id'], headers=headers).json()['acousticness'])"
   ]
  },
  {
   "cell_type": "code",
   "execution_count": 382,
   "metadata": {
    "deletable": false,
    "editable": false,
    "nbgrader": {
     "cell_type": "code",
     "checksum": "651e45fb623f418b649f0198063d5a61",
     "grade": true,
     "grade_id": "ex6_acousticness_4",
     "locked": true,
     "points": 0.05,
     "schema_version": 3,
     "solution": false,
     "task": false
    }
   },
   "outputs": [],
   "source": [
    "# Variable acousticness has correct length\n",
    "tc = unittest.TestCase()\n",
    "tc.assertEqual(len(acousticness), len(requests.get(base_url + 'playlists/'+playlist_id+'/tracks', headers=headers).json()['items']))"
   ]
  },
  {
   "cell_type": "code",
   "execution_count": 383,
   "metadata": {
    "deletable": false,
    "editable": false,
    "nbgrader": {
     "cell_type": "code",
     "checksum": "868adb12334f601edbf77c242a40702c",
     "grade": true,
     "grade_id": "ex6_liveness_1",
     "locked": true,
     "points": 0.02,
     "schema_version": 3,
     "solution": false,
     "task": false
    }
   },
   "outputs": [],
   "source": [
    "# Variable liveness exists and is of correct type\n",
    "tc = unittest.TestCase()\n",
    "tc.assertTrue('liveness' in locals())\n",
    "tc.assertIsInstance(liveness, list)"
   ]
  },
  {
   "cell_type": "code",
   "execution_count": 384,
   "metadata": {
    "deletable": false,
    "editable": false,
    "nbgrader": {
     "cell_type": "code",
     "checksum": "2e5fdf48d325e49bb6bb52744981656e",
     "grade": true,
     "grade_id": "ex6_liveness_2",
     "locked": true,
     "points": 0.05,
     "schema_version": 3,
     "solution": false,
     "task": false
    }
   },
   "outputs": [],
   "source": [
    "# Elements in liveness exists are of correct type\n",
    "tc = unittest.TestCase()\n",
    "tc.assertTrue(all(isinstance(n, (float, type(None))) for n in liveness))"
   ]
  },
  {
   "cell_type": "code",
   "execution_count": 385,
   "metadata": {
    "deletable": false,
    "editable": false,
    "nbgrader": {
     "cell_type": "code",
     "checksum": "3f192cf152cf7749d53b4eb3ba3d25c3",
     "grade": true,
     "grade_id": "ex6_liveness_3",
     "locked": true,
     "points": 0.08,
     "schema_version": 3,
     "solution": false,
     "task": false
    }
   },
   "outputs": [],
   "source": [
    "# Elements in liveness are correct\n",
    "tc = unittest.TestCase()\n",
    "tc.assertEqual(liveness[3], requests.get(base_url + 'audio-features/' + requests.get(base_url + 'playlists/'+playlist_id+'/tracks', headers=headers).json()['items'][3]['track']['id'], headers=headers).json()['liveness'])\n",
    "tc.assertEqual(liveness[6], requests.get(base_url + 'audio-features/' + requests.get(base_url + 'playlists/'+playlist_id+'/tracks', headers=headers).json()['items'][6]['track']['id'], headers=headers).json()['liveness'])"
   ]
  },
  {
   "cell_type": "code",
   "execution_count": 386,
   "metadata": {
    "deletable": false,
    "editable": false,
    "nbgrader": {
     "cell_type": "code",
     "checksum": "6cffb858511f957e49a1d89b0f804ec1",
     "grade": true,
     "grade_id": "ex6_liveness_4",
     "locked": true,
     "points": 0.05,
     "schema_version": 3,
     "solution": false,
     "task": false
    }
   },
   "outputs": [],
   "source": [
    "# Variable liveness has correct length\n",
    "tc = unittest.TestCase()\n",
    "tc.assertEqual(len(liveness), len(requests.get(base_url + 'playlists/'+playlist_id+'/tracks', headers=headers).json()['items']))"
   ]
  },
  {
   "cell_type": "markdown",
   "metadata": {
    "deletable": false,
    "editable": false,
    "nbgrader": {
     "cell_type": "markdown",
     "checksum": "a405231ae585bbc3a5f306f6ea0b5711",
     "grade": false,
     "grade_id": "cell-c010209bd688cd0d",
     "locked": true,
     "schema_version": 3,
     "solution": false,
     "task": false
    }
   },
   "source": [
    "## Retrieving artist information\n",
    "\n",
    "In what follows, you are going to retrieve data about the artists for each of the tracks contained in your playlist.\n",
    "\n",
    "<div class=\"alert alert-info\"><b>Exercise 7 </b>Write the code to extract data about the total number of followers (in int form), the first listed genre (in string form) and the popularity (in int form) for the artists of all the tracks included in your chosen playlist. Store these data in separate lists called <i>artist_followers</i>, <i>genre</i> and <i>artist_popularity</i>. In cases where no genre is given, fill in the corresponding entry using a None.</div>\n",
    "\n",
    "<div class=\"alert alert-warning\">Note that the artist information has to to be extracted from the tracks themselves.</div>"
   ]
  },
  {
   "cell_type": "code",
   "execution_count": 387,
   "metadata": {},
   "outputs": [],
   "source": [
    "#For Later - check for none, clarify how, with Harsha?"
   ]
  },
  {
   "cell_type": "code",
   "execution_count": 388,
   "metadata": {
    "deletable": false,
    "nbgrader": {
     "cell_type": "code",
     "checksum": "05ebfb30357af4a09ab8968990db619c",
     "grade": false,
     "grade_id": "ex7",
     "locked": false,
     "schema_version": 3,
     "solution": true,
     "task": false
    }
   },
   "outputs": [],
   "source": [
    "artists_id = []\n",
    "artist_followers = []\n",
    "genre = []\n",
    "artist_popularity = []\n",
    "all_art = []\n",
    "for obj in playlist['items']:\n",
    "    artistID = obj['track']['artists'][0]['uri'].split(':')[2]\n",
    "    artists_id.append(artistID)\n",
    "    params = {'ids':artistID}\n",
    "    art = requests.get(base_url+'artists/',params=params,headers=headers).json()\n",
    "    genre.append(art['artists'][0]['genres'])\n",
    "#    if(art['artists'][0]['genres']==[]):\n",
    "#        genre.append(None)      \n",
    "#    else:\n",
    "#        genre.append(art['artists'][0]['genres'])\n",
    "    artist_popularity.append(art['artists'][0]['popularity'])\n",
    "    all_art.append(art)\n",
    "    artist_follow = art['artists'][0]['followers']['total']\n",
    "    artist_followers.append(int(artist_follow))"
   ]
  },
  {
   "cell_type": "code",
   "execution_count": null,
   "metadata": {},
   "outputs": [],
   "source": []
  },
  {
   "cell_type": "markdown",
   "metadata": {
    "deletable": false,
    "editable": false,
    "nbgrader": {
     "cell_type": "markdown",
     "checksum": "56529ff8c8cadb61fcac1eb79c8c6c28",
     "grade": false,
     "grade_id": "cell-9dddc1b363e1d3bc",
     "locked": true,
     "schema_version": 3,
     "solution": false,
     "task": false
    }
   },
   "source": [
    "The following cells check whether your code is correct. Please **don't write any code here**. Just leave them as they are."
   ]
  },
  {
   "cell_type": "code",
   "execution_count": 389,
   "metadata": {
    "deletable": false,
    "editable": false,
    "nbgrader": {
     "cell_type": "code",
     "checksum": "812ec6e3a07ad54c4c03ac7f98399f44",
     "grade": true,
     "grade_id": "ex7_followers_1",
     "locked": true,
     "points": 0.05,
     "schema_version": 3,
     "solution": false,
     "task": false
    }
   },
   "outputs": [],
   "source": [
    "# Variable artist_followers exists and is of correct type\n",
    "tc = unittest.TestCase()\n",
    "tc.assertTrue('artist_followers' in locals())\n",
    "tc.assertIsInstance(artist_followers, list)"
   ]
  },
  {
   "cell_type": "code",
   "execution_count": 390,
   "metadata": {
    "deletable": false,
    "editable": false,
    "nbgrader": {
     "cell_type": "code",
     "checksum": "c85c1ebac92293f8e3b6849d8ec94577",
     "grade": true,
     "grade_id": "ex7_followers_2",
     "locked": true,
     "points": 0.1,
     "schema_version": 3,
     "solution": false,
     "task": false
    }
   },
   "outputs": [],
   "source": [
    "# Elements in artist_followers exists are of correct type\n",
    "tc = unittest.TestCase()\n",
    "tc.assertTrue(all(isinstance(n, (int, type(None))) for n in artist_followers))"
   ]
  },
  {
   "cell_type": "code",
   "execution_count": 391,
   "metadata": {
    "deletable": false,
    "editable": false,
    "nbgrader": {
     "cell_type": "code",
     "checksum": "dc11b56d6388be486913ba732f2c99a8",
     "grade": true,
     "grade_id": "ex7_followers_3",
     "locked": true,
     "points": 0.15,
     "schema_version": 3,
     "solution": false,
     "task": false
    }
   },
   "outputs": [],
   "source": [
    "# Elements in artist_followers are correct\n",
    "tc = unittest.TestCase()\n",
    "tc.assertEqual(artist_followers[1], requests.get(base_url + 'artists/' + requests.get(base_url + 'playlists/'+playlist_id+'/tracks', headers=headers).json()['items'][1]['track']['artists'][0]['id'], headers=headers).json()['followers']['total'])\n",
    "tc.assertEqual(artist_followers[4], requests.get(base_url + 'artists/' + requests.get(base_url + 'playlists/'+playlist_id+'/tracks', headers=headers).json()['items'][4]['track']['artists'][0]['id'], headers=headers).json()['followers']['total'])"
   ]
  },
  {
   "cell_type": "code",
   "execution_count": 392,
   "metadata": {
    "deletable": false,
    "editable": false,
    "nbgrader": {
     "cell_type": "code",
     "checksum": "8afdf331af7b82167ab55b6866e00d67",
     "grade": true,
     "grade_id": "ex7_followers_4",
     "locked": true,
     "points": 0.1,
     "schema_version": 3,
     "solution": false,
     "task": false
    }
   },
   "outputs": [],
   "source": [
    "# Variable artist_followers has correct length\n",
    "tc = unittest.TestCase()\n",
    "tc.assertEqual(len(artist_followers), len(requests.get(base_url + 'playlists/'+playlist_id+'/tracks', headers=headers).json()['items']))"
   ]
  },
  {
   "cell_type": "code",
   "execution_count": 393,
   "metadata": {
    "deletable": false,
    "editable": false,
    "nbgrader": {
     "cell_type": "code",
     "checksum": "cc0014a244ddf999e7be696acebc2715",
     "grade": true,
     "grade_id": "ex7_genre_1",
     "locked": true,
     "points": 0.05,
     "schema_version": 3,
     "solution": false,
     "task": false
    }
   },
   "outputs": [],
   "source": [
    "# Variable genre exists and is of correct type\n",
    "tc = unittest.TestCase()\n",
    "tc.assertTrue('genre' in locals())\n",
    "tc.assertIsInstance(genre, list)"
   ]
  },
  {
   "cell_type": "code",
   "execution_count": 394,
   "metadata": {
    "deletable": false,
    "editable": false,
    "nbgrader": {
     "cell_type": "code",
     "checksum": "3d8cbc9edf85d978c86c96adfb705faf",
     "grade": true,
     "grade_id": "ex7_genre_2",
     "locked": true,
     "points": 0.1,
     "schema_version": 3,
     "solution": false,
     "task": false
    }
   },
   "outputs": [
    {
     "ename": "AssertionError",
     "evalue": "False is not true",
     "output_type": "error",
     "traceback": [
      "\u001b[1;31m---------------------------------------------------------------------------\u001b[0m",
      "\u001b[1;31mAssertionError\u001b[0m                            Traceback (most recent call last)",
      "Input \u001b[1;32mIn [394]\u001b[0m, in \u001b[0;36m<cell line: 3>\u001b[1;34m()\u001b[0m\n\u001b[0;32m      1\u001b[0m \u001b[38;5;66;03m# Elements in genre exists are of correct type\u001b[39;00m\n\u001b[0;32m      2\u001b[0m tc \u001b[38;5;241m=\u001b[39m unittest\u001b[38;5;241m.\u001b[39mTestCase()\n\u001b[1;32m----> 3\u001b[0m \u001b[43mtc\u001b[49m\u001b[38;5;241;43m.\u001b[39;49m\u001b[43massertTrue\u001b[49m\u001b[43m(\u001b[49m\u001b[38;5;28;43mall\u001b[39;49m\u001b[43m(\u001b[49m\u001b[38;5;28;43misinstance\u001b[39;49m\u001b[43m(\u001b[49m\u001b[43mn\u001b[49m\u001b[43m,\u001b[49m\u001b[43m \u001b[49m\u001b[43m(\u001b[49m\u001b[38;5;28;43mstr\u001b[39;49m\u001b[43m,\u001b[49m\u001b[43m \u001b[49m\u001b[38;5;28;43mtype\u001b[39;49m\u001b[43m(\u001b[49m\u001b[38;5;28;43;01mNone\u001b[39;49;00m\u001b[43m)\u001b[49m\u001b[43m)\u001b[49m\u001b[43m)\u001b[49m\u001b[43m \u001b[49m\u001b[38;5;28;43;01mfor\u001b[39;49;00m\u001b[43m \u001b[49m\u001b[43mn\u001b[49m\u001b[43m \u001b[49m\u001b[38;5;129;43;01min\u001b[39;49;00m\u001b[43m \u001b[49m\u001b[43mgenre\u001b[49m\u001b[43m)\u001b[49m\u001b[43m)\u001b[49m\n",
      "File \u001b[1;32m~\\anaconda3\\lib\\unittest\\case.py:688\u001b[0m, in \u001b[0;36mTestCase.assertTrue\u001b[1;34m(self, expr, msg)\u001b[0m\n\u001b[0;32m    686\u001b[0m \u001b[38;5;28;01mif\u001b[39;00m \u001b[38;5;129;01mnot\u001b[39;00m expr:\n\u001b[0;32m    687\u001b[0m     msg \u001b[38;5;241m=\u001b[39m \u001b[38;5;28mself\u001b[39m\u001b[38;5;241m.\u001b[39m_formatMessage(msg, \u001b[38;5;124m\"\u001b[39m\u001b[38;5;132;01m%s\u001b[39;00m\u001b[38;5;124m is not true\u001b[39m\u001b[38;5;124m\"\u001b[39m \u001b[38;5;241m%\u001b[39m safe_repr(expr))\n\u001b[1;32m--> 688\u001b[0m     \u001b[38;5;28;01mraise\u001b[39;00m \u001b[38;5;28mself\u001b[39m\u001b[38;5;241m.\u001b[39mfailureException(msg)\n",
      "\u001b[1;31mAssertionError\u001b[0m: False is not true"
     ]
    }
   ],
   "source": [
    "# Elements in genre exists are of correct type\n",
    "tc = unittest.TestCase()\n",
    "tc.assertTrue(all(isinstance(n, (str, type(None))) for n in genre))"
   ]
  },
  {
   "cell_type": "code",
   "execution_count": 395,
   "metadata": {
    "deletable": false,
    "editable": false,
    "nbgrader": {
     "cell_type": "code",
     "checksum": "64a739d955440fddfdd915941eac89c7",
     "grade": true,
     "grade_id": "ex7_genre_3",
     "locked": true,
     "points": 0.4,
     "schema_version": 3,
     "solution": false,
     "task": false
    }
   },
   "outputs": [
    {
     "ename": "AssertionError",
     "evalue": "['electronica', 'folktronica', 'intelligent dance music'] != 'electronica'",
     "output_type": "error",
     "traceback": [
      "\u001b[1;31m---------------------------------------------------------------------------\u001b[0m",
      "\u001b[1;31mAssertionError\u001b[0m                            Traceback (most recent call last)",
      "Input \u001b[1;32mIn [395]\u001b[0m, in \u001b[0;36m<cell line: 10>\u001b[1;34m()\u001b[0m\n\u001b[0;32m      7\u001b[0m     value \u001b[38;5;241m=\u001b[39m \u001b[38;5;28;01mNone\u001b[39;00m\n\u001b[0;32m      9\u001b[0m tc \u001b[38;5;241m=\u001b[39m unittest\u001b[38;5;241m.\u001b[39mTestCase()\n\u001b[1;32m---> 10\u001b[0m \u001b[43mtc\u001b[49m\u001b[38;5;241;43m.\u001b[39;49m\u001b[43massertEqual\u001b[49m\u001b[43m(\u001b[49m\u001b[43mgenre\u001b[49m\u001b[43m[\u001b[49m\u001b[38;5;241;43m2\u001b[39;49m\u001b[43m]\u001b[49m\u001b[43m,\u001b[49m\u001b[43m \u001b[49m\u001b[43mvalue\u001b[49m\u001b[43m)\u001b[49m\n\u001b[0;32m     12\u001b[0m output \u001b[38;5;241m=\u001b[39m requests\u001b[38;5;241m.\u001b[39mget(base_url \u001b[38;5;241m+\u001b[39m \u001b[38;5;124m'\u001b[39m\u001b[38;5;124martists/\u001b[39m\u001b[38;5;124m'\u001b[39m \u001b[38;5;241m+\u001b[39m requests\u001b[38;5;241m.\u001b[39mget(base_url \u001b[38;5;241m+\u001b[39m \u001b[38;5;124m'\u001b[39m\u001b[38;5;124mplaylists/\u001b[39m\u001b[38;5;124m'\u001b[39m\u001b[38;5;241m+\u001b[39mplaylist_id\u001b[38;5;241m+\u001b[39m\u001b[38;5;124m'\u001b[39m\u001b[38;5;124m/tracks\u001b[39m\u001b[38;5;124m'\u001b[39m, headers\u001b[38;5;241m=\u001b[39mheaders)\u001b[38;5;241m.\u001b[39mjson()[\u001b[38;5;124m'\u001b[39m\u001b[38;5;124mitems\u001b[39m\u001b[38;5;124m'\u001b[39m][\u001b[38;5;241m4\u001b[39m][\u001b[38;5;124m'\u001b[39m\u001b[38;5;124mtrack\u001b[39m\u001b[38;5;124m'\u001b[39m][\u001b[38;5;124m'\u001b[39m\u001b[38;5;124martists\u001b[39m\u001b[38;5;124m'\u001b[39m][\u001b[38;5;241m0\u001b[39m][\u001b[38;5;124m'\u001b[39m\u001b[38;5;124mid\u001b[39m\u001b[38;5;124m'\u001b[39m], headers\u001b[38;5;241m=\u001b[39mheaders)\u001b[38;5;241m.\u001b[39mjson()[\u001b[38;5;124m'\u001b[39m\u001b[38;5;124mgenres\u001b[39m\u001b[38;5;124m'\u001b[39m]\n\u001b[0;32m     14\u001b[0m \u001b[38;5;28;01mtry\u001b[39;00m:\n",
      "File \u001b[1;32m~\\anaconda3\\lib\\unittest\\case.py:837\u001b[0m, in \u001b[0;36mTestCase.assertEqual\u001b[1;34m(self, first, second, msg)\u001b[0m\n\u001b[0;32m    833\u001b[0m \u001b[38;5;124;03m\"\"\"Fail if the two objects are unequal as determined by the '=='\u001b[39;00m\n\u001b[0;32m    834\u001b[0m \u001b[38;5;124;03m   operator.\u001b[39;00m\n\u001b[0;32m    835\u001b[0m \u001b[38;5;124;03m\"\"\"\u001b[39;00m\n\u001b[0;32m    836\u001b[0m assertion_func \u001b[38;5;241m=\u001b[39m \u001b[38;5;28mself\u001b[39m\u001b[38;5;241m.\u001b[39m_getAssertEqualityFunc(first, second)\n\u001b[1;32m--> 837\u001b[0m \u001b[43massertion_func\u001b[49m\u001b[43m(\u001b[49m\u001b[43mfirst\u001b[49m\u001b[43m,\u001b[49m\u001b[43m \u001b[49m\u001b[43msecond\u001b[49m\u001b[43m,\u001b[49m\u001b[43m \u001b[49m\u001b[43mmsg\u001b[49m\u001b[38;5;241;43m=\u001b[39;49m\u001b[43mmsg\u001b[49m\u001b[43m)\u001b[49m\n",
      "File \u001b[1;32m~\\anaconda3\\lib\\unittest\\case.py:830\u001b[0m, in \u001b[0;36mTestCase._baseAssertEqual\u001b[1;34m(self, first, second, msg)\u001b[0m\n\u001b[0;32m    828\u001b[0m standardMsg \u001b[38;5;241m=\u001b[39m \u001b[38;5;124m'\u001b[39m\u001b[38;5;132;01m%s\u001b[39;00m\u001b[38;5;124m != \u001b[39m\u001b[38;5;132;01m%s\u001b[39;00m\u001b[38;5;124m'\u001b[39m \u001b[38;5;241m%\u001b[39m _common_shorten_repr(first, second)\n\u001b[0;32m    829\u001b[0m msg \u001b[38;5;241m=\u001b[39m \u001b[38;5;28mself\u001b[39m\u001b[38;5;241m.\u001b[39m_formatMessage(msg, standardMsg)\n\u001b[1;32m--> 830\u001b[0m \u001b[38;5;28;01mraise\u001b[39;00m \u001b[38;5;28mself\u001b[39m\u001b[38;5;241m.\u001b[39mfailureException(msg)\n",
      "\u001b[1;31mAssertionError\u001b[0m: ['electronica', 'folktronica', 'intelligent dance music'] != 'electronica'"
     ]
    }
   ],
   "source": [
    "# Elements in genre are correct\n",
    "output = requests.get(base_url + 'artists/' + requests.get(base_url + 'playlists/'+playlist_id+'/tracks', headers=headers).json()['items'][2]['track']['artists'][0]['id'], headers=headers).json()['genres']\n",
    "\n",
    "try:\n",
    "    value = output[0]\n",
    "except:\n",
    "    value = None\n",
    "\n",
    "tc = unittest.TestCase()\n",
    "tc.assertEqual(genre[2], value)\n",
    "\n",
    "output = requests.get(base_url + 'artists/' + requests.get(base_url + 'playlists/'+playlist_id+'/tracks', headers=headers).json()['items'][4]['track']['artists'][0]['id'], headers=headers).json()['genres']\n",
    "\n",
    "try:\n",
    "    value = output[0]\n",
    "except:\n",
    "    value = None\n",
    "\n",
    "tc = unittest.TestCase()\n",
    "tc.assertEqual(genre[4], value)"
   ]
  },
  {
   "cell_type": "code",
   "execution_count": 397,
   "metadata": {
    "deletable": false,
    "editable": false,
    "nbgrader": {
     "cell_type": "code",
     "checksum": "3fd0d1ee566814140d8f661c4d84ecfe",
     "grade": true,
     "grade_id": "ex7_genre_4",
     "locked": true,
     "points": 0.15,
     "schema_version": 3,
     "solution": false,
     "task": false
    }
   },
   "outputs": [],
   "source": [
    "# Variable genre has correct length\n",
    "tc = unittest.TestCase()\n",
    "tc.assertEqual(len(genre), len(requests.get(base_url + 'playlists/'+playlist_id+'/tracks', headers=headers).json()['items']))"
   ]
  },
  {
   "cell_type": "code",
   "execution_count": 398,
   "metadata": {
    "deletable": false,
    "editable": false,
    "nbgrader": {
     "cell_type": "code",
     "checksum": "ff7b8e2320c9caec5e07572db7fd6de0",
     "grade": true,
     "grade_id": "ex7_artist_popularity_1",
     "locked": true,
     "points": 0.05,
     "schema_version": 3,
     "solution": false,
     "task": false
    }
   },
   "outputs": [],
   "source": [
    "# Variable artist_popularity exists and is of correct type\n",
    "tc = unittest.TestCase()\n",
    "tc.assertTrue('artist_popularity' in locals())\n",
    "tc.assertIsInstance(artist_popularity, list)"
   ]
  },
  {
   "cell_type": "code",
   "execution_count": 399,
   "metadata": {
    "deletable": false,
    "editable": false,
    "nbgrader": {
     "cell_type": "code",
     "checksum": "7a6dfddc93d1e4821dee15a7c40ec23d",
     "grade": true,
     "grade_id": "ex7_artist_popularity_2",
     "locked": true,
     "points": 0.1,
     "schema_version": 3,
     "solution": false,
     "task": false
    }
   },
   "outputs": [],
   "source": [
    "# Elements in artist_popularity exists are of correct type\n",
    "tc = unittest.TestCase()\n",
    "tc.assertTrue(all(isinstance(n, (int, type(None))) for n in artist_popularity))"
   ]
  },
  {
   "cell_type": "code",
   "execution_count": 400,
   "metadata": {
    "deletable": false,
    "editable": false,
    "nbgrader": {
     "cell_type": "code",
     "checksum": "8cb085ae18da239dfaf953168a97cbf3",
     "grade": true,
     "grade_id": "ex7_artist_popularity_3",
     "locked": true,
     "points": 0.15,
     "schema_version": 3,
     "solution": false,
     "task": false
    }
   },
   "outputs": [],
   "source": [
    "# Elements in artist_popularity are correct\n",
    "tc = unittest.TestCase()\n",
    "tc.assertEqual(artist_popularity[1], requests.get(base_url + 'artists/' + requests.get(base_url + 'playlists/'+playlist_id+'/tracks', headers=headers).json()['items'][1]['track']['artists'][0]['id'], headers=headers).json()['popularity'])\n",
    "tc.assertEqual(artist_popularity[4], requests.get(base_url + 'artists/' + requests.get(base_url + 'playlists/'+playlist_id+'/tracks', headers=headers).json()['items'][4]['track']['artists'][0]['id'], headers=headers).json()['popularity'])"
   ]
  },
  {
   "cell_type": "code",
   "execution_count": 401,
   "metadata": {
    "deletable": false,
    "editable": false,
    "nbgrader": {
     "cell_type": "code",
     "checksum": "04fa8f8151b81a0058a15e531c2316e2",
     "grade": true,
     "grade_id": "ex7_artist_popularity_4",
     "locked": true,
     "points": 0.1,
     "schema_version": 3,
     "solution": false,
     "task": false
    }
   },
   "outputs": [],
   "source": [
    "# Variable artist_popularity has correct length\n",
    "tc = unittest.TestCase()\n",
    "tc.assertEqual(len(artist_popularity), len(requests.get(base_url + 'playlists/'+playlist_id+'/tracks', headers=headers).json()['items']))"
   ]
  },
  {
   "cell_type": "markdown",
   "metadata": {
    "deletable": false,
    "editable": false,
    "nbgrader": {
     "cell_type": "markdown",
     "checksum": "db4c914d0fa765ad272cd5dc0be9aac0",
     "grade": false,
     "grade_id": "cell-9ecab2625396c364",
     "locked": true,
     "schema_version": 3,
     "solution": false,
     "task": false
    }
   },
   "source": [
    "In addition to the above, there's also additional information we can retrieve about each artist. For this purpose, let's first retrieve the list of distinct artists for the different tracks in your playlist.\n",
    "\n",
    "<div class=\"alert alert-info\"><b>Exercise 8 </b>Write the code to identify the list of unique artist ids that correspond to the different tracks in your chosen playlist. Store these data in a list called <i>unique_artist_ids</i>.</div>\n",
    "\n",
    "<div class=\"alert alert-warning\">Retrieve the artist ids that correspod directly to the tracks.</div>"
   ]
  },
  {
   "cell_type": "code",
   "execution_count": 402,
   "metadata": {
    "deletable": false,
    "nbgrader": {
     "cell_type": "code",
     "checksum": "c74d955df7802975bc8cebc0eda973ff",
     "grade": false,
     "grade_id": "ex8",
     "locked": false,
     "schema_version": 3,
     "solution": true,
     "task": false
    }
   },
   "outputs": [],
   "source": [
    "unique_artist_ids=list(set(artists_id))"
   ]
  },
  {
   "cell_type": "markdown",
   "metadata": {
    "deletable": false,
    "editable": false,
    "nbgrader": {
     "cell_type": "markdown",
     "checksum": "ff40ba123d3687399acc729f46e0bf3f",
     "grade": false,
     "grade_id": "cell-10d33fb1ec08490",
     "locked": true,
     "schema_version": 3,
     "solution": false,
     "task": false
    }
   },
   "source": [
    "The following cells check whether your code is correct. Please **don't write any code here**. Just leave them as they are."
   ]
  },
  {
   "cell_type": "code",
   "execution_count": 403,
   "metadata": {
    "deletable": false,
    "editable": false,
    "nbgrader": {
     "cell_type": "code",
     "checksum": "b0332cde2b250ed874e801d4982fafc4",
     "grade": true,
     "grade_id": "ex8_1",
     "locked": true,
     "points": 0.05,
     "schema_version": 3,
     "solution": false,
     "task": false
    }
   },
   "outputs": [],
   "source": [
    "# Variable unique_artist_ids exists and is of correct type\n",
    "tc = unittest.TestCase()\n",
    "tc.assertTrue('unique_artist_ids' in locals())\n",
    "tc.assertIsInstance(unique_artist_ids, list)"
   ]
  },
  {
   "cell_type": "code",
   "execution_count": 404,
   "metadata": {
    "deletable": false,
    "editable": false,
    "nbgrader": {
     "cell_type": "code",
     "checksum": "34e4abb9152aadf735dd9aae57cb957d",
     "grade": true,
     "grade_id": "ex8_2",
     "locked": true,
     "points": 0.1,
     "schema_version": 3,
     "solution": false,
     "task": false
    }
   },
   "outputs": [],
   "source": [
    "# Elements in unique_artist_ids exists are of correct type\n",
    "tc = unittest.TestCase()\n",
    "tc.assertTrue(all(isinstance(n, (str)) for n in unique_artist_ids))"
   ]
  },
  {
   "cell_type": "code",
   "execution_count": 405,
   "metadata": {
    "deletable": false,
    "editable": false,
    "nbgrader": {
     "cell_type": "code",
     "checksum": "53b2a88d4d1520251eb32d8c651d34c9",
     "grade": true,
     "grade_id": "ex8_3",
     "locked": true,
     "points": 0.25,
     "schema_version": 3,
     "solution": false,
     "task": false
    }
   },
   "outputs": [],
   "source": [
    "__playlist = requests.get(base_url + 'playlists/'+playlist_id+'/tracks', \n",
    "                                 headers=headers).json()\n",
    "# Variable unique_artist_ids has right length\n",
    "tc = unittest.TestCase()\n",
    "tc.assertEqual(len(set([item['track']['artists'][0]['id'] for item in __playlist['items']])), len(unique_artist_ids))"
   ]
  },
  {
   "cell_type": "code",
   "execution_count": 406,
   "metadata": {
    "deletable": false,
    "editable": false,
    "nbgrader": {
     "cell_type": "code",
     "checksum": "8931a2e4c5a602e1e9f1de0a0a8f7dc6",
     "grade": true,
     "grade_id": "ex8_4",
     "locked": true,
     "points": 0.1,
     "schema_version": 3,
     "solution": false,
     "task": false
    }
   },
   "outputs": [],
   "source": [
    "# Variable unique_artist_ids has right content\n",
    "tc = unittest.TestCase()\n",
    "tc.assertTrue(all(elem in unique_artist_ids for elem in set([item['track']['artists'][0]['id'] for item in __playlist['items']])))"
   ]
  },
  {
   "cell_type": "markdown",
   "metadata": {
    "deletable": false,
    "editable": false,
    "nbgrader": {
     "cell_type": "markdown",
     "checksum": "08baffc9a1cae24419188e5dae161362",
     "grade": false,
     "grade_id": "cell-0d2317b25f3086db",
     "locked": true,
     "schema_version": 3,
     "solution": false,
     "task": false
    }
   },
   "source": [
    "We are now interested in retrieving catalog information about each artist’s top tracks. This information is provided by Spotify's API on a country basis. Here, we will retrieve the information corresponding to Spain, whose *ISO 3166-1 alpha-2* code is **ES**. The information we are looking for is stored under the ```top-tracks``` endpoint for ```artists```. Requests to this location retrieve the 10 most famous tracks for a given artist id.\n",
    "\n",
    "<div class=\"alert alert-info\"><b>Exercise 9 </b>Write the code to retrieve the 10 top tracks for each of the unique artists in your chosen playlist. Store these data in a dictionary called <i>top_tracks</i>. The keys of this dictionary should correspond to the unique artist ids stored in the list <i>unique_artist_id</i>. The values of this dictionary should include the names of the 10 most popular songs in a list.</div>\n",
    "\n",
    "<div class=\"alert alert-warning\">In cases where the number of tracks included in the top-tracks endpoint is below 10, simply retrieve the provided list.</div>\n"
   ]
  },
  {
   "cell_type": "markdown",
   "metadata": {},
   "source": [
    "---"
   ]
  },
  {
   "cell_type": "code",
   "execution_count": 424,
   "metadata": {
    "deletable": false,
    "nbgrader": {
     "cell_type": "code",
     "checksum": "b8a1f9a9de9f54db0b178f5d7ed616df",
     "grade": false,
     "grade_id": "ex9",
     "locked": false,
     "schema_version": 3,
     "solution": true,
     "task": false
    }
   },
   "outputs": [],
   "source": [
    "#params = {'ids': str(unique_artists_ids[0]),'country':'ES'}\n",
    "#top_tracks = requests.get(base_url+\"artists/\"+str(unique_artists_ids)+\"/top-tracks\",headers=headers,country=).json()\n",
    "#top_tracks"
   ]
  },
  {
   "cell_type": "markdown",
   "metadata": {
    "deletable": false,
    "editable": false,
    "nbgrader": {
     "cell_type": "markdown",
     "checksum": "aa55b7c40b09b6fdac189f7c9e92c61c",
     "grade": false,
     "grade_id": "cell-10d33fb1ec0840",
     "locked": true,
     "schema_version": 3,
     "solution": false,
     "task": false
    }
   },
   "source": [
    "The following cells check whether your code is correct. Please **don't write any code here**. Just leave them as they are."
   ]
  },
  {
   "cell_type": "code",
   "execution_count": null,
   "metadata": {
    "deletable": false,
    "editable": false,
    "nbgrader": {
     "cell_type": "code",
     "checksum": "37d59a93eaf47cdba3f6ad65f6524bdc",
     "grade": true,
     "grade_id": "ex9_1",
     "locked": true,
     "points": 0.1,
     "schema_version": 3,
     "solution": false,
     "task": false
    }
   },
   "outputs": [],
   "source": [
    "# Variable top_tracks exists and is of correct type\n",
    "tc = unittest.TestCase()\n",
    "tc.assertTrue('top_tracks' in locals())\n",
    "tc.assertIsInstance(top_tracks, dict)"
   ]
  },
  {
   "cell_type": "code",
   "execution_count": null,
   "metadata": {
    "deletable": false,
    "editable": false,
    "nbgrader": {
     "cell_type": "code",
     "checksum": "a723de8b966c2d1ed89b37c9c076e43f",
     "grade": true,
     "grade_id": "ex9_2",
     "locked": true,
     "points": 0.15,
     "schema_version": 3,
     "solution": false,
     "task": false
    }
   },
   "outputs": [],
   "source": [
    "# Keys of top_tracks correspond to unique artist ids\n",
    "tc = unittest.TestCase()\n",
    "tc.assertEqual(top_tracks.keys(), set([item['track']['artists'][0]['id'] for item in __playlist['items']]))"
   ]
  },
  {
   "cell_type": "code",
   "execution_count": null,
   "metadata": {
    "deletable": false,
    "editable": false,
    "nbgrader": {
     "cell_type": "code",
     "checksum": "b8ef73e488460a976e394e88daadd259",
     "grade": true,
     "grade_id": "ex9_3",
     "locked": true,
     "points": 0.5,
     "schema_version": 3,
     "solution": false,
     "task": false
    }
   },
   "outputs": [],
   "source": [
    "# Values of top_tracks correspond to lists of 10 elements\n",
    "tc = unittest.TestCase()\n",
    "tc.assertTrue(all(isinstance(value, list) for value in top_tracks.values()))\n",
    "tc.assertTrue(all(len(value)<=10 for value in top_tracks.values()))"
   ]
  },
  {
   "cell_type": "markdown",
   "metadata": {
    "deletable": false,
    "editable": false,
    "nbgrader": {
     "cell_type": "markdown",
     "checksum": "598ab9bbceee257c752d8fed3e69d2ba",
     "grade": false,
     "grade_id": "cell-0c2042a55fe8b990",
     "locked": true,
     "schema_version": 3,
     "solution": false,
     "task": false
    }
   },
   "source": [
    "We can now use this information to identify those songs in your chosen playlist that correspond to each artist's top tracks.\n",
    "\n",
    "<div class=\"alert alert-info\"><b>Exercise 10 </b>Write the code to check whether the different tracks in your chosen playlist are included among the corresponding artist's top tracks. Store the results in a list called <i>is_top</i>. This list should include the boolean value <i>True</i> whenever the considered track is among the top tracks for that artist and <i>False</i> otherwise.</div>\n",
    "\n",
    "<div class=\"alert alert-warning\">When comparing track names, consider only <b>exact</b> matches.</div>"
   ]
  },
  {
   "cell_type": "code",
   "execution_count": null,
   "metadata": {
    "deletable": false,
    "nbgrader": {
     "cell_type": "code",
     "checksum": "61a7d17ae23db4b20e268512e705c64e",
     "grade": false,
     "grade_id": "ex10",
     "locked": false,
     "schema_version": 3,
     "solution": true,
     "task": false
    }
   },
   "outputs": [],
   "source": [
    "# YOUR CODE HERE"
   ]
  },
  {
   "cell_type": "markdown",
   "metadata": {
    "deletable": false,
    "editable": false,
    "nbgrader": {
     "cell_type": "markdown",
     "checksum": "4a58e997cf597b27bfc040e040ebc2fc",
     "grade": false,
     "grade_id": "cell-10d33fb1ec084",
     "locked": true,
     "schema_version": 3,
     "solution": false,
     "task": false
    }
   },
   "source": [
    "The following cells check whether your code is correct. Please **don't write any code here**. Just leave them as they are."
   ]
  },
  {
   "cell_type": "code",
   "execution_count": null,
   "metadata": {
    "deletable": false,
    "editable": false,
    "nbgrader": {
     "cell_type": "code",
     "checksum": "c01393380f8c2ee9e7b94a6546154ba8",
     "grade": true,
     "grade_id": "ex10_1",
     "locked": true,
     "points": 0.1,
     "schema_version": 3,
     "solution": false,
     "task": false
    }
   },
   "outputs": [],
   "source": [
    "# Variable is_top exists and is of correct type\n",
    "tc = unittest.TestCase()\n",
    "tc.assertTrue('is_top' in locals())\n",
    "tc.assertIsInstance(is_top, list)"
   ]
  },
  {
   "cell_type": "code",
   "execution_count": null,
   "metadata": {
    "deletable": false,
    "editable": false,
    "nbgrader": {
     "cell_type": "code",
     "checksum": "f26cc20b85302bf91204856297d4e1d0",
     "grade": true,
     "grade_id": "ex10_2",
     "locked": true,
     "points": 0.15,
     "schema_version": 3,
     "solution": false,
     "task": false
    }
   },
   "outputs": [],
   "source": [
    "# Elements in is_top exists are of correct type\n",
    "tc = unittest.TestCase()\n",
    "tc.assertTrue(all(isinstance(n, (bool)) for n in is_top))"
   ]
  },
  {
   "cell_type": "code",
   "execution_count": null,
   "metadata": {
    "deletable": false,
    "editable": false,
    "nbgrader": {
     "cell_type": "code",
     "checksum": "54495216bbe0a603bfd7f60c2b3effe2",
     "grade": true,
     "grade_id": "ex10_3",
     "locked": true,
     "points": 0.25,
     "schema_version": 3,
     "solution": false,
     "task": false
    }
   },
   "outputs": [],
   "source": [
    "# Variable is_top has right length\n",
    "tc = unittest.TestCase()\n",
    "tc.assertEqual(len(is_top), len(requests.get(base_url + 'playlists/'+playlist_id+'/tracks', headers=headers).json()['items']))"
   ]
  },
  {
   "cell_type": "code",
   "execution_count": null,
   "metadata": {
    "deletable": false,
    "editable": false,
    "nbgrader": {
     "cell_type": "code",
     "checksum": "a60c091fc535d36a63fee916ec345173",
     "grade": true,
     "grade_id": "ex10_4",
     "locked": true,
     "points": 0.25,
     "schema_version": 3,
     "solution": false,
     "task": false
    }
   },
   "outputs": [],
   "source": [
    "artist_id = __playlist['items'][2]['track']['artists'][0]['id']\n",
    "track_name = __playlist['items'][2]['track']['name']\n",
    "\n",
    "# Variable is_top has right content\n",
    "tc = unittest.TestCase()\n",
    "tc.assertEqual(is_top[2], True if track_name in top_tracks[artist_id] else False)\n",
    "\n",
    "artist_id = playlist['items'][5]['track']['artists'][0]['id']\n",
    "track_name = playlist['items'][5]['track']['name']\n",
    "\n",
    "# Variable is_top has right content\n",
    "tc = unittest.TestCase()\n",
    "tc.assertEqual(is_top[5], True if track_name in top_tracks[artist_id] else False)"
   ]
  },
  {
   "cell_type": "markdown",
   "metadata": {
    "deletable": false,
    "editable": false,
    "nbgrader": {
     "cell_type": "markdown",
     "checksum": "0dccfe4fc33aa05c40316b3cb03d2d07",
     "grade": false,
     "grade_id": "cell-323fccc65e8ccb6b",
     "locked": true,
     "schema_version": 3,
     "solution": false,
     "task": false
    }
   },
   "source": [
    "A very interesting feature in Spotify is the song recommender.\n",
    "\n",
    "When creating a playlist from scratch, Spotify offers help by suggesting additional tracks that may be related to the ones already added. Spotify's API also provides a specific endpoint for `recommendations`. We will use this endpoint to retrieve one recommendation for each song in our original playlist.\n",
    "\n",
    "<div class=\"alert alert-info\"><b>Exercise 11 </b>Write the code to retrieve the id, title and artist from the list of recommendations for each track in your playlist. Store these data in new lists called <i>recommendatin_id</i>, <i>recommendation_title</i> and <i>recommendation_artist</i>.</div>\n",
    "\n",
    "<div class=\"alert alert-warning\">Retrieve recommendations based solely on each track.</div>\n",
    "\n",
    "<div class=\"alert alert-warning\">Retrieve information only about the first track in the recommendations list.</div>\n",
    "\n",
    "<div class=\"alert alert-warning\">When more than one artist is associated to the recommended track, retrieve information only about the first.</div>"
   ]
  },
  {
   "cell_type": "code",
   "execution_count": null,
   "metadata": {
    "deletable": false,
    "nbgrader": {
     "cell_type": "code",
     "checksum": "9bc38d5c50156b9e03266f89791676b7",
     "grade": false,
     "grade_id": "ex11",
     "locked": false,
     "schema_version": 3,
     "solution": true,
     "task": false
    }
   },
   "outputs": [],
   "source": [
    "# YOUR CODE HERE"
   ]
  },
  {
   "cell_type": "markdown",
   "metadata": {
    "deletable": false,
    "editable": false,
    "nbgrader": {
     "cell_type": "markdown",
     "checksum": "4b0b9e59b317da01621dd22091c92390",
     "grade": false,
     "grade_id": "cell-10d3fb1ec08",
     "locked": true,
     "schema_version": 3,
     "solution": false,
     "task": false
    }
   },
   "source": [
    "The following cells check whether your code is correct. Please **don't write any code here**. Just leave them as they are."
   ]
  },
  {
   "cell_type": "code",
   "execution_count": null,
   "metadata": {
    "deletable": false,
    "editable": false,
    "nbgrader": {
     "cell_type": "code",
     "checksum": "194d533c4e72a8a30ce9fc0f4495db42",
     "grade": true,
     "grade_id": "ex11_id_1",
     "locked": true,
     "points": 0.05,
     "schema_version": 3,
     "solution": false,
     "task": false
    }
   },
   "outputs": [],
   "source": [
    "# Variable recommendation_id exists and is of correct type\n",
    "tc = unittest.TestCase()\n",
    "tc.assertTrue('recommendation_id' in locals())\n",
    "tc.assertIsInstance(recommendation_id, list)"
   ]
  },
  {
   "cell_type": "code",
   "execution_count": null,
   "metadata": {
    "deletable": false,
    "editable": false,
    "nbgrader": {
     "cell_type": "code",
     "checksum": "c03f815c274d046c7cb6e55e2bf7999a",
     "grade": true,
     "grade_id": "ex11_id_2",
     "locked": true,
     "points": 0.05,
     "schema_version": 3,
     "solution": false,
     "task": false
    }
   },
   "outputs": [],
   "source": [
    "# Variable recommendation_id has the right length\n",
    "tc = unittest.TestCase()\n",
    "tc.assertTrue(len(recommendation_id)==len(requests.get(base_url + 'playlists/'+playlist_id+'/tracks', headers=headers).json()['items']))"
   ]
  },
  {
   "cell_type": "code",
   "execution_count": null,
   "metadata": {
    "deletable": false,
    "editable": false,
    "nbgrader": {
     "cell_type": "code",
     "checksum": "1c5f47c5e297f71a237300cc116e44c0",
     "grade": true,
     "grade_id": "ex11_id_3",
     "locked": true,
     "points": 0.15,
     "schema_version": 3,
     "solution": false,
     "task": false
    }
   },
   "outputs": [],
   "source": [
    "# Elements in recommendation_id are correct\n",
    "tc = unittest.TestCase()\n",
    "tc.assertEqual(recommendation_id[1], requests.get(base_url + 'recommendations',params={'seed_tracks': [track_id[1]]} , headers=headers).json()['tracks'][0]['id'])\n",
    "tc.assertEqual(recommendation_id[7], requests.get(base_url + 'recommendations',params={'seed_tracks': [track_id[7]]} , headers=headers).json()['tracks'][0]['id'])"
   ]
  },
  {
   "cell_type": "code",
   "execution_count": null,
   "metadata": {
    "deletable": false,
    "editable": false,
    "nbgrader": {
     "cell_type": "code",
     "checksum": "75c5f0fc2ed77cde707961e844a1de3d",
     "grade": true,
     "grade_id": "ex11_title_1",
     "locked": true,
     "points": 0.05,
     "schema_version": 3,
     "solution": false,
     "task": false
    }
   },
   "outputs": [],
   "source": [
    "# Variable recommendation_title exists and is of correct type\n",
    "tc = unittest.TestCase()\n",
    "tc.assertTrue('recommendation_title' in locals())\n",
    "tc.assertIsInstance(recommendation_title, list)"
   ]
  },
  {
   "cell_type": "code",
   "execution_count": null,
   "metadata": {
    "deletable": false,
    "editable": false,
    "nbgrader": {
     "cell_type": "code",
     "checksum": "45be48ae4edf0de24f93abc3e3b4e865",
     "grade": true,
     "grade_id": "ex11_title_2",
     "locked": true,
     "points": 0.05,
     "schema_version": 3,
     "solution": false,
     "task": false
    }
   },
   "outputs": [],
   "source": [
    "# Variable recommendation_title has the right length\n",
    "tc = unittest.TestCase()\n",
    "tc.assertTrue(len(recommendation_title)==len(requests.get(base_url + 'playlists/'+playlist_id+'/tracks', headers=headers).json()['items']))"
   ]
  },
  {
   "cell_type": "code",
   "execution_count": null,
   "metadata": {
    "deletable": false,
    "editable": false,
    "nbgrader": {
     "cell_type": "code",
     "checksum": "e7ec8fb5e5163068d8f6f3d10248b8e9",
     "grade": true,
     "grade_id": "ex11_title_3",
     "locked": true,
     "points": 0.15,
     "schema_version": 3,
     "solution": false,
     "task": false
    }
   },
   "outputs": [],
   "source": [
    "# Elements in recommendation_title are correct\n",
    "tc = unittest.TestCase()\n",
    "tc.assertEqual(recommendation_title[1], requests.get(base_url + 'recommendations',params={'seed_tracks': [track_id[1]]} , headers=headers).json()['tracks'][0]['name'])\n",
    "tc.assertEqual(recommendation_title[7], requests.get(base_url + 'recommendations',params={'seed_tracks': [track_id[7]]} , headers=headers).json()['tracks'][0]['name'])"
   ]
  },
  {
   "cell_type": "code",
   "execution_count": null,
   "metadata": {
    "deletable": false,
    "editable": false,
    "nbgrader": {
     "cell_type": "code",
     "checksum": "ba204b5a60276446e0d1cbd7fa4a34d3",
     "grade": true,
     "grade_id": "ex11_artist_1",
     "locked": true,
     "points": 0.05,
     "schema_version": 3,
     "solution": false,
     "task": false
    }
   },
   "outputs": [],
   "source": [
    "# Variable recommendation_artist exists and is of correct type\n",
    "tc = unittest.TestCase()\n",
    "tc.assertTrue('recommendation_artist' in locals())\n",
    "tc.assertIsInstance(recommendation_artist, list)"
   ]
  },
  {
   "cell_type": "code",
   "execution_count": null,
   "metadata": {
    "deletable": false,
    "editable": false,
    "nbgrader": {
     "cell_type": "code",
     "checksum": "589eaaa70204e50adff7df12a8b0103a",
     "grade": true,
     "grade_id": "ex11_artist_2",
     "locked": true,
     "points": 0.05,
     "schema_version": 3,
     "solution": false,
     "task": false
    }
   },
   "outputs": [],
   "source": [
    "# Variable recommendation_artist has the right length\n",
    "tc = unittest.TestCase()\n",
    "tc.assertTrue(len(recommendation_artist)==len(requests.get(base_url + 'playlists/'+playlist_id+'/tracks', headers=headers).json()['items']))"
   ]
  },
  {
   "cell_type": "code",
   "execution_count": null,
   "metadata": {
    "deletable": false,
    "editable": false,
    "nbgrader": {
     "cell_type": "code",
     "checksum": "1a1e9a89fbf98c26ac57c76233aa022d",
     "grade": true,
     "grade_id": "ex11_artist_3",
     "locked": true,
     "points": 0.15,
     "schema_version": 3,
     "solution": false,
     "task": false
    }
   },
   "outputs": [],
   "source": [
    "# Elements in recommnedation_artist are correct\n",
    "tc = unittest.TestCase()\n",
    "tc.assertEqual(recommendation_artist[1], requests.get(base_url + 'recommendations',params={'seed_tracks': [track_id[1]]} , headers=headers).json()['tracks'][0]['artists'][0]['name'])\n",
    "tc.assertEqual(recommendation_artist[7], requests.get(base_url + 'recommendations',params={'seed_tracks': [track_id[7]]} , headers=headers).json()['tracks'][0]['artists'][0]['name'])"
   ]
  },
  {
   "cell_type": "markdown",
   "metadata": {
    "deletable": false,
    "editable": false,
    "nbgrader": {
     "cell_type": "markdown",
     "checksum": "ad0df2ea9b6dd356bbd7ea59ae99ea88",
     "grade": false,
     "grade_id": "cell-c010209bd88cd0d",
     "locked": true,
     "schema_version": 3,
     "solution": false,
     "task": false
    }
   },
   "source": [
    "The final step is to save the data you have collected to a csv file. You can do so by first saving the data to a pandas DataFrame and then exporting it to a csv file of your choosing, in the same directory where your notebook is located.\n",
    "\n",
    "## Saving the data\n",
    "\n",
    "In what follows, you are going to store all the data you just retrieved in a convenient form.\n",
    "\n",
    "<div class=\"alert alert-info\"><b>Exercise 12 </b>Write the code to save the data about the title, the name of the album, the name of the artist, the duration, the track number, the release date, the popularity, the id, the number of available markets, the danceability, the energy, the loudness, the mode, the speechiness, the acousticness, the instrumentalness, the liveness, the valence and the tempo for all the tracks included in your chosen playlist, as well as the data about the total number of followers, the first listed genre, the popularity for the artists, whether the tracks are included in the top 10 and what the id, the title and the artist of the first song in the recommendations list are in a dataframe called <i>df</i> and save this DataFrame to a .csv file called 'spotify.csv'. When creating the dataframe make sure the column names are <b>exactly</b> the same as those of the lists you created in previous exercises to store the different values.</div>"
   ]
  },
  {
   "cell_type": "code",
   "execution_count": null,
   "metadata": {
    "deletable": false,
    "nbgrader": {
     "cell_type": "code",
     "checksum": "f412ce38a62de27a20c422473f648bcd",
     "grade": false,
     "grade_id": "ex12",
     "locked": false,
     "schema_version": 3,
     "solution": true,
     "task": false
    }
   },
   "outputs": [],
   "source": [
    "# YOUR CODE HERE"
   ]
  },
  {
   "cell_type": "markdown",
   "metadata": {
    "deletable": false,
    "editable": false,
    "nbgrader": {
     "cell_type": "markdown",
     "checksum": "41c0981c2070a5da5efd1ab58f272785",
     "grade": false,
     "grade_id": "cell-10d3fb1ec084",
     "locked": true,
     "schema_version": 3,
     "solution": false,
     "task": false
    }
   },
   "source": [
    "The following cells check whether your code is correct. Please **don't write any code here**. Just leave them as they are."
   ]
  },
  {
   "cell_type": "code",
   "execution_count": null,
   "metadata": {
    "deletable": false,
    "editable": false,
    "nbgrader": {
     "cell_type": "code",
     "checksum": "434709dff6c859a599a75462b08a3adf",
     "grade": true,
     "grade_id": "ex12_1",
     "locked": true,
     "points": 0.1,
     "schema_version": 3,
     "solution": false,
     "task": false
    }
   },
   "outputs": [],
   "source": [
    "import pandas as pd\n",
    "\n",
    "# Variable idf exists and is of correct type\n",
    "tc = unittest.TestCase()\n",
    "tc.assertTrue('df' in locals())\n",
    "tc.assertIsInstance(df, pd.DataFrame)"
   ]
  },
  {
   "cell_type": "code",
   "execution_count": null,
   "metadata": {
    "deletable": false,
    "editable": false,
    "nbgrader": {
     "cell_type": "code",
     "checksum": "2c248ce39d6a4e44f07c82b4daedb6c4",
     "grade": true,
     "grade_id": "ex12_2",
     "locked": true,
     "points": 0.15,
     "schema_version": 3,
     "solution": false,
     "task": false
    }
   },
   "outputs": [],
   "source": [
    "# Variable df has right number of columns\n",
    "tc = unittest.TestCase()\n",
    "tc.assertTrue(len(df.columns)==26)"
   ]
  },
  {
   "cell_type": "code",
   "execution_count": null,
   "metadata": {
    "deletable": false,
    "editable": false,
    "nbgrader": {
     "cell_type": "code",
     "checksum": "d1d6bc1a384d0635cb56f4dc40b59a61",
     "grade": true,
     "grade_id": "ex12_3",
     "locked": true,
     "points": 0.25,
     "schema_version": 3,
     "solution": false,
     "task": false
    }
   },
   "outputs": [],
   "source": [
    "# Variable df has right column names\n",
    "tc = unittest.TestCase()\n",
    "tc.assertTrue(all(col in ['acousticness', 'album', 'artist', 'artist_followers',\n",
    "       'artist_popularity', 'danceability', 'duration', 'energy',\n",
    "       'instrumentalness', 'genre', 'liveness', 'loudness', 'mode',\n",
    "       'n_available_markets', 'release_date', 'speechiness', 'tempo', 'title', 'track_id',\n",
    "       'track_number', 'track_popularity', 'valence', 'is_top', 'recommendation_id',\n",
    "       'recommendation_title', 'recommendation_artist'] for col in df.columns))"
   ]
  },
  {
   "cell_type": "code",
   "execution_count": null,
   "metadata": {
    "deletable": false,
    "editable": false,
    "nbgrader": {
     "cell_type": "code",
     "checksum": "8f6781afa8422b63e1c5ae031c39319c",
     "grade": true,
     "grade_id": "ex12_4",
     "locked": true,
     "points": 0.25,
     "schema_version": 3,
     "solution": false,
     "task": false
    }
   },
   "outputs": [],
   "source": [
    "# Variable df has shape\n",
    "tc = unittest.TestCase()\n",
    "tc.assertTrue(len(df)==len(requests.get(base_url + 'playlists/'+playlist_id+'/tracks', headers=headers).json()['items']))"
   ]
  },
  {
   "cell_type": "markdown",
   "metadata": {
    "deletable": false,
    "editable": false,
    "nbgrader": {
     "cell_type": "markdown",
     "checksum": "c9649d0d6eb59b0c86ec4ad28945be00",
     "grade": false,
     "grade_id": "cell-18f63b901cde101a",
     "locked": true,
     "schema_version": 3,
     "solution": false,
     "task": false
    }
   },
   "source": [
    "## Bonus exercise\n",
    "\n",
    "You can complete the exercises below to obtain extra points. These points will be added to your score directly. The maximum score in this assignment is a 10.\n",
    "\n",
    "<div class=\"alert alert-danger\"><b>Bonus 1 </b>Write the code to find the most popular song in your playlist. If several songs have the same popularity, choose the one for which the artist has the most followers. Save the name of the song to a new variable called <i>most_popular</i>. This variable should <b>only</b> contain the name of the most popular song in string form.</div>"
   ]
  },
  {
   "cell_type": "code",
   "execution_count": null,
   "metadata": {
    "deletable": false,
    "nbgrader": {
     "cell_type": "code",
     "checksum": "71daf634a8103fa0c75e52f8216f9f04",
     "grade": false,
     "grade_id": "b1",
     "locked": false,
     "schema_version": 3,
     "solution": true,
     "task": false
    }
   },
   "outputs": [],
   "source": [
    "# YOUR CODE HERE"
   ]
  },
  {
   "cell_type": "markdown",
   "metadata": {},
   "source": [
    "The following cells check whether your code is correct. Please **don't write any code here**. Just leave them as they are."
   ]
  },
  {
   "cell_type": "code",
   "execution_count": null,
   "metadata": {
    "deletable": false,
    "editable": false,
    "nbgrader": {
     "cell_type": "code",
     "checksum": "3c3d4c3fb959d4913329a05f5fbf8154",
     "grade": true,
     "grade_id": "b1_1",
     "locked": true,
     "points": 0.1,
     "schema_version": 3,
     "solution": false,
     "task": false
    }
   },
   "outputs": [],
   "source": [
    "# Variable most_popular exists and is of right type has right length\n",
    "tc = unittest.TestCase()\n",
    "tc.assertTrue('most_popular' in locals())\n",
    "tc.assertIsInstance(most_popular, str)"
   ]
  },
  {
   "cell_type": "code",
   "execution_count": null,
   "metadata": {
    "deletable": false,
    "editable": false,
    "nbgrader": {
     "cell_type": "code",
     "checksum": "f714949c3b1ff39e7479782d3f45d17e",
     "grade": true,
     "grade_id": "b1_2",
     "locked": true,
     "points": 0.15,
     "schema_version": 3,
     "solution": false,
     "task": false
    }
   },
   "outputs": [],
   "source": [
    "__track_popularity = []\n",
    "__artist_followers = []\n",
    "for item in __playlist['items']:\n",
    "    __artist_id = item['track']['artists'][0]['id']\n",
    "    __track_popularity.append(item['track']['popularity'])\n",
    "    response = requests.get(base_url + 'artists/' + __artist_id, headers=headers).json()\n",
    "    __artist_followers.append(response['followers']['total'])\n",
    "__df = pd.DataFrame({'track_popularity': track_popularity, \n",
    "                     'artist_followers': artist_followers,\n",
    "                     'title': title})\n",
    "# Variable most_popular includes right value has right length\n",
    "\n",
    "__df_ = __df[__df['track_popularity']==__df['track_popularity'].max()] \n",
    "__most_popular = __df_[__df_['artist_followers']==__df_['artist_followers'].max()]['title'].item()\n",
    "\n",
    "tc = unittest.TestCase()\n",
    "tc.assertEqual(most_popular, __most_popular)"
   ]
  },
  {
   "cell_type": "markdown",
   "metadata": {
    "deletable": false,
    "editable": false,
    "nbgrader": {
     "cell_type": "markdown",
     "checksum": "04075ef2db7f903e21e67acf3eb9212f",
     "grade": false,
     "grade_id": "cell-9ce6fe0f415cb12b",
     "locked": true,
     "schema_version": 3,
     "solution": false,
     "task": false
    }
   },
   "source": [
    "You might have noticed that there exist slight incosistencies in the way in which the track title are included in the playlist, versus the top 10 artist tracks. For example, the fourht song in the provided playlist appears as <i>High And Dry</i> within the title of the playlist songs but as <i>High and Dry</i> (with a small \"a\" for the word \"and\") in the Radiohead's top tracks. This results in the fact that the song of the playlist will not be included as one of the artist's top tracks in the is_top list.\n",
    "\n",
    "<div class=\"alert alert-danger\"><b>Bonus 2 </b>Write the code to create a new list called <i>is_top_2</i>. This time make sure that you look for partial matches of title names too.</div>"
   ]
  },
  {
   "cell_type": "code",
   "execution_count": null,
   "metadata": {
    "deletable": false,
    "nbgrader": {
     "cell_type": "code",
     "checksum": "9a0c89e02effb8580c44c29b67676568",
     "grade": false,
     "grade_id": "b2",
     "locked": false,
     "schema_version": 3,
     "solution": true,
     "task": false
    }
   },
   "outputs": [],
   "source": [
    "# YOUR CODE HERE"
   ]
  },
  {
   "cell_type": "markdown",
   "metadata": {
    "deletable": false,
    "editable": false,
    "nbgrader": {
     "cell_type": "markdown",
     "checksum": "ea75c653a811b7d1329c59986a6bc32c",
     "grade": false,
     "grade_id": "cell-10dfb1ec084",
     "locked": true,
     "schema_version": 3,
     "solution": false,
     "task": false
    }
   },
   "source": [
    "The following cells check whether your code is correct. Please **don't write any code here**. Just leave them as they are."
   ]
  },
  {
   "cell_type": "code",
   "execution_count": null,
   "metadata": {
    "deletable": false,
    "editable": false,
    "nbgrader": {
     "cell_type": "code",
     "checksum": "8d8869a2d040c353a104299039bffa1e",
     "grade": true,
     "grade_id": "b2_1",
     "locked": true,
     "points": 0.1,
     "schema_version": 3,
     "solution": false,
     "task": false
    }
   },
   "outputs": [],
   "source": [
    "# Variable is_top_2 exists and is of correct type\n",
    "tc = unittest.TestCase()\n",
    "tc.assertTrue('is_top_2' in locals())\n",
    "tc.assertIsInstance(is_top_2, list)"
   ]
  },
  {
   "cell_type": "code",
   "execution_count": null,
   "metadata": {
    "deletable": false,
    "editable": false,
    "nbgrader": {
     "cell_type": "code",
     "checksum": "8c0b8550a136b3f5b5a79904e3744e58",
     "grade": true,
     "grade_id": "b2_2",
     "locked": true,
     "points": 0.15,
     "schema_version": 3,
     "solution": false,
     "task": false
    }
   },
   "outputs": [],
   "source": [
    "# Elements in is_top_2 exists are of correct type\n",
    "tc = unittest.TestCase()\n",
    "tc.assertTrue(all(isinstance(n, (str)) for n in is_top_2))"
   ]
  },
  {
   "cell_type": "code",
   "execution_count": null,
   "metadata": {
    "deletable": false,
    "editable": false,
    "nbgrader": {
     "cell_type": "code",
     "checksum": "f9a528fda2989c430bb58cb832dca015",
     "grade": true,
     "grade_id": "b2_3",
     "locked": true,
     "points": 0.25,
     "schema_version": 3,
     "solution": false,
     "task": false
    }
   },
   "outputs": [],
   "source": [
    "# Variable is_top_2 has right length  \n",
    "tc = unittest.TestCase()\n",
    "tc.assertEqual(len(is_top_2), len(requests.get(base_url + 'playlists/'+playlist_id+'/tracks', headers=headers).json()['items']))"
   ]
  },
  {
   "cell_type": "code",
   "execution_count": null,
   "metadata": {
    "deletable": false,
    "editable": false,
    "nbgrader": {
     "cell_type": "code",
     "checksum": "ceb48d6914331bbca9f583dc8a849ea5",
     "grade": true,
     "grade_id": "b2_4",
     "locked": true,
     "points": 0.25,
     "schema_version": 3,
     "solution": false,
     "task": false
    }
   },
   "outputs": [],
   "source": [
    "artist_id = __playlist['items'][2]['track']['artists'][0]['id']\n",
    "track_name = __playlist['items'][2]['track']['name']\n",
    "\n",
    "# Variable is_top_2 has right content\n",
    "tc = unittest.TestCase()\n",
    "tc.assertEqual(is_top_2[2], 'yes' if track_name.lower() in \",\".join(top_tracks[artist_id]).lower() else 'no')\n",
    "\n",
    "artist_id = playlist['items'][5]['track']['artists'][0]['id']\n",
    "track_name = playlist['items'][5]['track']['name']\n",
    "\n",
    "# Variable is_top has right content\n",
    "tc = unittest.TestCase()\n",
    "tc.assertEqual(is_top_2[5], 'yes' if track_name.lower() in \",\".join(top_tracks[artist_id]).lower() else 'no')"
   ]
  }
 ],
 "metadata": {
  "finalized": {
   "timestamp": 1693397687406,
   "trusted": true
  },
  "kernelspec": {
   "display_name": "Python 3 (ipykernel)",
   "language": "python",
   "name": "python3"
  },
  "language_info": {
   "codemirror_mode": {
    "name": "ipython",
    "version": 3
   },
   "file_extension": ".py",
   "mimetype": "text/x-python",
   "name": "python",
   "nbconvert_exporter": "python",
   "pygments_lexer": "ipython3",
   "version": "3.9.13"
  }
 },
 "nbformat": 4,
 "nbformat_minor": 4
}
